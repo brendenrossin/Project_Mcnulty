{
 "cells": [
  {
   "cell_type": "code",
   "execution_count": 1,
   "metadata": {
    "ExecuteTime": {
     "end_time": "2018-08-05T00:28:29.103985Z",
     "start_time": "2018-08-05T00:28:29.101848Z"
    }
   },
   "outputs": [],
   "source": [
    "## BUSINESS USE CASE -- PLANE CRASHES HAPPEN!! HERE'S HOW YOU CAN AVOID DYING!!"
   ]
  },
  {
   "cell_type": "code",
   "execution_count": 92,
   "metadata": {
    "ExecuteTime": {
     "end_time": "2018-08-05T00:37:31.248464Z",
     "start_time": "2018-08-05T00:37:31.214906Z"
    }
   },
   "outputs": [],
   "source": [
    "import csv\n",
    "import pickle\n",
    "import pandas as pd\n",
    "import numpy as np\n",
    "import patsy\n",
    "import seaborn as sns\n",
    "import matplotlib.pyplot as plt\n",
    "from sklearn.cross_validation import train_test_split, cross_val_score\n",
    "from sklearn.linear_model import RidgeCV\n",
    "from sklearn.pipeline import make_pipeline\n",
    "from sklearn.preprocessing import PolynomialFeatures, StandardScaler\n",
    "from sklearn.neighbors import KNeighborsClassifier\n",
    "from sklearn.linear_model import LogisticRegression\n",
    "from sklearn.metrics import accuracy_score, recall_score, precision_score, f1_score, roc_auc_score, roc_curve, auc, fbeta_score\n",
    "from sklearn.model_selection import learning_curve, KFold, GridSearchCV\n",
    "from sklearn.naive_bayes import GaussianNB\n",
    "from sklearn.svm import SVC\n",
    "from sklearn.tree import DecisionTreeClassifier\n",
    "from sklearn.ensemble import RandomForestClassifier, GradientBoostingClassifier\n",
    "from collections import Counter\n",
    "import matplotlib.style as style\n",
    "style.use('fivethirtyeight')\n",
    "%matplotlib inline\n",
    "\n",
    "from __future__ import print_function, division\n",
    "\n",
    "# Get pandas and postgres to work together\n",
    "import psycopg2 as pg\n",
    "import pandas.io.sql as pd_sql\n",
    "plt.rc('font', size=18) "
   ]
  },
  {
   "cell_type": "code",
   "execution_count": 3,
   "metadata": {
    "ExecuteTime": {
     "end_time": "2018-08-05T00:28:30.716450Z",
     "start_time": "2018-08-05T00:28:30.371145Z"
    }
   },
   "outputs": [],
   "source": [
    "with open('airline_crash.pkl', 'rb') as picklefile:\n",
    "    df = pickle.load(picklefile)"
   ]
  },
  {
   "cell_type": "code",
   "execution_count": 4,
   "metadata": {
    "ExecuteTime": {
     "end_time": "2018-08-05T00:28:30.978777Z",
     "start_time": "2018-08-05T00:28:30.718453Z"
    }
   },
   "outputs": [],
   "source": [
    "state_df = pd.concat([df['Event_Id'], df['Location'].str.split(', ', expand=True)], axis=1)"
   ]
  },
  {
   "cell_type": "code",
   "execution_count": 5,
   "metadata": {
    "ExecuteTime": {
     "end_time": "2018-08-05T00:28:31.023232Z",
     "start_time": "2018-08-05T00:28:30.980596Z"
    }
   },
   "outputs": [],
   "source": [
    "state_df['City'] = state_df[0]\n",
    "state_df['State'] = state_df[1]\n",
    "\n",
    "state_df = state_df.drop([0,1,2,3,4],1)"
   ]
  },
  {
   "cell_type": "code",
   "execution_count": 6,
   "metadata": {
    "ExecuteTime": {
     "end_time": "2018-08-05T00:28:31.028939Z",
     "start_time": "2018-08-05T00:28:31.024959Z"
    }
   },
   "outputs": [],
   "source": [
    "df.reset_index(inplace=True)\n",
    "state_df.reset_index(inplace=True)"
   ]
  },
  {
   "cell_type": "code",
   "execution_count": 7,
   "metadata": {
    "ExecuteTime": {
     "end_time": "2018-08-05T00:28:31.252129Z",
     "start_time": "2018-08-05T00:28:31.030540Z"
    }
   },
   "outputs": [],
   "source": [
    "df = pd.merge(df, state_df, on='index')\n",
    "\n",
    "df = df.drop(['Location'],1)"
   ]
  },
  {
   "cell_type": "code",
   "execution_count": 8,
   "metadata": {
    "ExecuteTime": {
     "end_time": "2018-08-05T00:28:41.954104Z",
     "start_time": "2018-08-05T00:28:31.254011Z"
    }
   },
   "outputs": [],
   "source": [
    "df.Latitude = df.Latitude.astype('float')\n",
    "df.Longitude = df.Longitude.astype('float')\n",
    "df.Total_Fatal_Injuries = df.Total_Fatal_Injuries.astype('float')\n",
    "df.Total_Serious_Injuries = df.Total_Serious_Injuries.astype('float')\n",
    "df.Total_Minor_Injuries = df.Total_Minor_Injuries.astype('float')\n",
    "df.Total_Uninjured = df.Total_Uninjured.astype('float')\n",
    "df.Number_Engines = df.Number_Engines.astype('float')\n",
    "\n",
    "df['Event_Date'] = pd.to_datetime(df['Event_Date'])"
   ]
  },
  {
   "cell_type": "code",
   "execution_count": 9,
   "metadata": {
    "ExecuteTime": {
     "end_time": "2018-08-05T00:28:41.998943Z",
     "start_time": "2018-08-05T00:28:41.956361Z"
    }
   },
   "outputs": [
    {
     "data": {
      "text/html": [
       "<div>\n",
       "<style scoped>\n",
       "    .dataframe tbody tr th:only-of-type {\n",
       "        vertical-align: middle;\n",
       "    }\n",
       "\n",
       "    .dataframe tbody tr th {\n",
       "        vertical-align: top;\n",
       "    }\n",
       "\n",
       "    .dataframe thead th {\n",
       "        text-align: right;\n",
       "    }\n",
       "</style>\n",
       "<table border=\"1\" class=\"dataframe\">\n",
       "  <thead>\n",
       "    <tr style=\"text-align: right;\">\n",
       "      <th></th>\n",
       "      <th>index</th>\n",
       "      <th>Event_Id_x</th>\n",
       "      <th>Investigation_Type</th>\n",
       "      <th>Accident_Number</th>\n",
       "      <th>Event_Date</th>\n",
       "      <th>Country</th>\n",
       "      <th>Latitude</th>\n",
       "      <th>Longitude</th>\n",
       "      <th>Airport_Code</th>\n",
       "      <th>Airport_Name</th>\n",
       "      <th>...</th>\n",
       "      <th>Total_Serious_Injuries</th>\n",
       "      <th>Total_Minor_Injuries</th>\n",
       "      <th>Total_Uninjured</th>\n",
       "      <th>Weather_Condition</th>\n",
       "      <th>Broad_Phase_of_Flight</th>\n",
       "      <th>Report_Status</th>\n",
       "      <th>Publication_Date</th>\n",
       "      <th>Event_Id_y</th>\n",
       "      <th>City</th>\n",
       "      <th>State</th>\n",
       "    </tr>\n",
       "  </thead>\n",
       "  <tbody>\n",
       "    <tr>\n",
       "      <th>0</th>\n",
       "      <td>0</td>\n",
       "      <td>20180719X01751</td>\n",
       "      <td>Accident</td>\n",
       "      <td>CEN18LA281</td>\n",
       "      <td>2018-07-19</td>\n",
       "      <td>United States</td>\n",
       "      <td>32.540277</td>\n",
       "      <td>-93.745000</td>\n",
       "      <td>DTN</td>\n",
       "      <td>Shreveport Executive</td>\n",
       "      <td>...</td>\n",
       "      <td>NaN</td>\n",
       "      <td>NaN</td>\n",
       "      <td>1.0</td>\n",
       "      <td>VMC</td>\n",
       "      <td>MANEUVERING</td>\n",
       "      <td>Preliminary</td>\n",
       "      <td>07/23/2018</td>\n",
       "      <td>20180719X01751</td>\n",
       "      <td>Shreveport</td>\n",
       "      <td>LA</td>\n",
       "    </tr>\n",
       "    <tr>\n",
       "      <th>1</th>\n",
       "      <td>1</td>\n",
       "      <td>20180717X23051</td>\n",
       "      <td>Accident</td>\n",
       "      <td>GAA18CA428</td>\n",
       "      <td>2018-07-17</td>\n",
       "      <td>United States</td>\n",
       "      <td>36.124445</td>\n",
       "      <td>-86.678056</td>\n",
       "      <td>BNA</td>\n",
       "      <td>Nashville Intl</td>\n",
       "      <td>...</td>\n",
       "      <td>NaN</td>\n",
       "      <td>NaN</td>\n",
       "      <td>NaN</td>\n",
       "      <td>VMC</td>\n",
       "      <td>NaN</td>\n",
       "      <td>Preliminary</td>\n",
       "      <td>07/19/2018</td>\n",
       "      <td>20180717X23051</td>\n",
       "      <td>Nashville</td>\n",
       "      <td>TN</td>\n",
       "    </tr>\n",
       "    <tr>\n",
       "      <th>2</th>\n",
       "      <td>2</td>\n",
       "      <td>20180717X82154</td>\n",
       "      <td>Accident</td>\n",
       "      <td>CEN18LA276</td>\n",
       "      <td>2018-07-17</td>\n",
       "      <td>United States</td>\n",
       "      <td>29.868056</td>\n",
       "      <td>-95.795000</td>\n",
       "      <td>IWS</td>\n",
       "      <td>West Houston</td>\n",
       "      <td>...</td>\n",
       "      <td>NaN</td>\n",
       "      <td>NaN</td>\n",
       "      <td>1.0</td>\n",
       "      <td>VMC</td>\n",
       "      <td>NaN</td>\n",
       "      <td>Preliminary</td>\n",
       "      <td>07/19/2018</td>\n",
       "      <td>20180717X82154</td>\n",
       "      <td>Katy</td>\n",
       "      <td>TX</td>\n",
       "    </tr>\n",
       "    <tr>\n",
       "      <th>3</th>\n",
       "      <td>3</td>\n",
       "      <td>20180716X44947</td>\n",
       "      <td>Accident</td>\n",
       "      <td>GAA18CA427</td>\n",
       "      <td>2018-07-16</td>\n",
       "      <td>United States</td>\n",
       "      <td>26.002222</td>\n",
       "      <td>-80.240000</td>\n",
       "      <td>HWO</td>\n",
       "      <td>NORTH PERRY</td>\n",
       "      <td>...</td>\n",
       "      <td>NaN</td>\n",
       "      <td>1.0</td>\n",
       "      <td>NaN</td>\n",
       "      <td>VMC</td>\n",
       "      <td>NaN</td>\n",
       "      <td>Preliminary</td>\n",
       "      <td>07/23/2018</td>\n",
       "      <td>20180716X44947</td>\n",
       "      <td>Hollywood</td>\n",
       "      <td>FL</td>\n",
       "    </tr>\n",
       "    <tr>\n",
       "      <th>4</th>\n",
       "      <td>4</td>\n",
       "      <td>20180716X60511</td>\n",
       "      <td>Accident</td>\n",
       "      <td>GAA18CA424</td>\n",
       "      <td>2018-07-16</td>\n",
       "      <td>United States</td>\n",
       "      <td>39.564722</td>\n",
       "      <td>-85.235555</td>\n",
       "      <td>N/A</td>\n",
       "      <td>NaN</td>\n",
       "      <td>...</td>\n",
       "      <td>NaN</td>\n",
       "      <td>1.0</td>\n",
       "      <td>NaN</td>\n",
       "      <td>NaN</td>\n",
       "      <td>NaN</td>\n",
       "      <td>Preliminary</td>\n",
       "      <td>07/19/2018</td>\n",
       "      <td>20180716X60511</td>\n",
       "      <td>New Castle</td>\n",
       "      <td>IN</td>\n",
       "    </tr>\n",
       "  </tbody>\n",
       "</table>\n",
       "<p>5 rows × 34 columns</p>\n",
       "</div>"
      ],
      "text/plain": [
       "   index      Event_Id_x Investigation_Type Accident_Number Event_Date  \\\n",
       "0      0  20180719X01751           Accident      CEN18LA281 2018-07-19   \n",
       "1      1  20180717X23051           Accident      GAA18CA428 2018-07-17   \n",
       "2      2  20180717X82154           Accident      CEN18LA276 2018-07-17   \n",
       "3      3  20180716X44947           Accident      GAA18CA427 2018-07-16   \n",
       "4      4  20180716X60511           Accident      GAA18CA424 2018-07-16   \n",
       "\n",
       "         Country   Latitude  Longitude Airport_Code          Airport_Name  \\\n",
       "0  United States  32.540277 -93.745000          DTN  Shreveport Executive   \n",
       "1  United States  36.124445 -86.678056          BNA        Nashville Intl   \n",
       "2  United States  29.868056 -95.795000          IWS          West Houston   \n",
       "3  United States  26.002222 -80.240000          HWO           NORTH PERRY   \n",
       "4  United States  39.564722 -85.235555          N/A                   NaN   \n",
       "\n",
       "   ...  Total_Serious_Injuries Total_Minor_Injuries Total_Uninjured  \\\n",
       "0  ...                     NaN                  NaN             1.0   \n",
       "1  ...                     NaN                  NaN             NaN   \n",
       "2  ...                     NaN                  NaN             1.0   \n",
       "3  ...                     NaN                  1.0             NaN   \n",
       "4  ...                     NaN                  1.0             NaN   \n",
       "\n",
       "  Weather_Condition Broad_Phase_of_Flight Report_Status Publication_Date  \\\n",
       "0               VMC           MANEUVERING   Preliminary       07/23/2018   \n",
       "1               VMC                   NaN   Preliminary       07/19/2018   \n",
       "2               VMC                   NaN   Preliminary       07/19/2018   \n",
       "3               VMC                   NaN   Preliminary       07/23/2018   \n",
       "4               NaN                   NaN   Preliminary       07/19/2018   \n",
       "\n",
       "       Event_Id_y        City State  \n",
       "0  20180719X01751  Shreveport    LA  \n",
       "1  20180717X23051   Nashville    TN  \n",
       "2  20180717X82154        Katy    TX  \n",
       "3  20180716X44947   Hollywood    FL  \n",
       "4  20180716X60511  New Castle    IN  \n",
       "\n",
       "[5 rows x 34 columns]"
      ]
     },
     "execution_count": 9,
     "metadata": {},
     "output_type": "execute_result"
    }
   ],
   "source": [
    "df.head()"
   ]
  },
  {
   "cell_type": "code",
   "execution_count": 10,
   "metadata": {
    "ExecuteTime": {
     "end_time": "2018-08-05T00:28:42.137031Z",
     "start_time": "2018-08-05T00:28:42.001149Z"
    }
   },
   "outputs": [
    {
     "name": "stdout",
     "output_type": "stream",
     "text": [
      "<class 'pandas.core.frame.DataFrame'>\n",
      "Int64Index: 81899 entries, 0 to 81898\n",
      "Data columns (total 34 columns):\n",
      "index                     81899 non-null int64\n",
      "Event_Id_x                81899 non-null object\n",
      "Investigation_Type        81899 non-null object\n",
      "Accident_Number           81899 non-null object\n",
      "Event_Date                81899 non-null datetime64[ns]\n",
      "Country                   81392 non-null object\n",
      "Latitude                  28059 non-null float64\n",
      "Longitude                 28050 non-null float64\n",
      "Airport_Code              46449 non-null object\n",
      "Airport_Name              51554 non-null object\n",
      "Injury_Severity           81899 non-null object\n",
      "Aircraft_Damage           79321 non-null object\n",
      "Aircraft_Category         25157 non-null object\n",
      "Registration_Number       78414 non-null object\n",
      "Make                      81828 non-null object\n",
      "Model                     81800 non-null object\n",
      "Amateur_Built             81267 non-null object\n",
      "Number_Engines            77419 non-null float64\n",
      "Engine_Type               78016 non-null object\n",
      "FAR_Description           24826 non-null object\n",
      "Schedule                  11695 non-null object\n",
      "Flight_Purpose            77474 non-null object\n",
      "Air_Carrier               4063 non-null object\n",
      "Total_Fatal_Injuries      56503 non-null float64\n",
      "Total_Serious_Injuries    54055 non-null float64\n",
      "Total_Minor_Injuries      55224 non-null float64\n",
      "Total_Uninjured           68447 non-null float64\n",
      "Weather_Condition         79299 non-null object\n",
      "Broad_Phase_of_Flight     75487 non-null object\n",
      "Report_Status             81899 non-null object\n",
      "Publication_Date          67993 non-null object\n",
      "Event_Id_y                81899 non-null object\n",
      "City                      81824 non-null object\n",
      "State                     81320 non-null object\n",
      "dtypes: datetime64[ns](1), float64(7), int64(1), object(25)\n",
      "memory usage: 21.9+ MB\n"
     ]
    }
   ],
   "source": [
    "df.info()"
   ]
  },
  {
   "cell_type": "code",
   "execution_count": 11,
   "metadata": {
    "ExecuteTime": {
     "end_time": "2018-08-05T00:28:42.157268Z",
     "start_time": "2018-08-05T00:28:42.138744Z"
    }
   },
   "outputs": [
    {
     "data": {
      "text/plain": [
       "LANDING        19925\n",
       "TAKEOFF        15767\n",
       "CRUISE         10911\n",
       "MANEUVERING    10115\n",
       "APPROACH        7940\n",
       "TAXI            2401\n",
       "CLIMB           2333\n",
       "DESCENT         2264\n",
       "GO-AROUND       1667\n",
       "STANDING        1262\n",
       "UNKNOWN          738\n",
       "OTHER            164\n",
       "Name: Broad_Phase_of_Flight, dtype: int64"
      ]
     },
     "execution_count": 11,
     "metadata": {},
     "output_type": "execute_result"
    }
   ],
   "source": [
    "df.Broad_Phase_of_Flight.value_counts()"
   ]
  },
  {
   "cell_type": "code",
   "execution_count": 12,
   "metadata": {
    "ExecuteTime": {
     "end_time": "2018-08-05T00:28:42.186989Z",
     "start_time": "2018-08-05T00:28:42.159047Z"
    }
   },
   "outputs": [],
   "source": [
    "df.Broad_Phase_of_Flight.replace('CRUISE', 'INFLIGHT', inplace=True)\n",
    "df.Broad_Phase_of_Flight.replace('MANEUVERING', 'INFLIGHT', inplace=True)\n",
    "df.Broad_Phase_of_Flight.replace('GO-AROUND', 'INFLIGHT', inplace=True)\n",
    "df.Broad_Phase_of_Flight.replace('APPROACH', 'LANDING', inplace=True)\n",
    "df.Broad_Phase_of_Flight.replace('DESCENT', 'INFLIGHT', inplace=True)\n",
    "df.Broad_Phase_of_Flight.replace('CLIMB', 'INFLIGHT', inplace=True)\n",
    "df.Broad_Phase_of_Flight.replace('STANDING', 'TAXI', inplace=True)"
   ]
  },
  {
   "cell_type": "code",
   "execution_count": null,
   "metadata": {
    "ExecuteTime": {
     "end_time": "2018-08-03T23:34:28.030866Z",
     "start_time": "2018-08-03T23:34:27.992378Z"
    }
   },
   "outputs": [],
   "source": []
  },
  {
   "cell_type": "code",
   "execution_count": 13,
   "metadata": {
    "ExecuteTime": {
     "end_time": "2018-08-05T00:28:42.205238Z",
     "start_time": "2018-08-05T00:28:42.188820Z"
    }
   },
   "outputs": [
    {
     "data": {
      "text/plain": [
       "LANDING     27865\n",
       "INFLIGHT    27290\n",
       "TAKEOFF     15767\n",
       "TAXI         3663\n",
       "UNKNOWN       738\n",
       "OTHER         164\n",
       "Name: Broad_Phase_of_Flight, dtype: int64"
      ]
     },
     "execution_count": 13,
     "metadata": {},
     "output_type": "execute_result"
    }
   ],
   "source": [
    "df.Broad_Phase_of_Flight.value_counts()"
   ]
  },
  {
   "cell_type": "code",
   "execution_count": 14,
   "metadata": {
    "ExecuteTime": {
     "end_time": "2018-08-05T00:28:42.285961Z",
     "start_time": "2018-08-05T00:28:42.207144Z"
    }
   },
   "outputs": [],
   "source": [
    "df = df[df['Broad_Phase_of_Flight'] != 'OTHER']\n",
    "df = df[df['Broad_Phase_of_Flight'] != 'UNKNOWN']"
   ]
  },
  {
   "cell_type": "code",
   "execution_count": 15,
   "metadata": {
    "ExecuteTime": {
     "end_time": "2018-08-05T00:28:42.303571Z",
     "start_time": "2018-08-05T00:28:42.287798Z"
    }
   },
   "outputs": [
    {
     "data": {
      "text/plain": [
       "LANDING     27865\n",
       "INFLIGHT    27290\n",
       "TAKEOFF     15767\n",
       "TAXI         3663\n",
       "Name: Broad_Phase_of_Flight, dtype: int64"
      ]
     },
     "execution_count": 15,
     "metadata": {},
     "output_type": "execute_result"
    }
   ],
   "source": [
    "df.Broad_Phase_of_Flight.value_counts()"
   ]
  },
  {
   "cell_type": "code",
   "execution_count": 16,
   "metadata": {
    "ExecuteTime": {
     "end_time": "2018-08-05T00:28:42.405975Z",
     "start_time": "2018-08-05T00:28:42.305188Z"
    }
   },
   "outputs": [],
   "source": [
    "df = df.rename(columns={'Event_Id_x': 'Event_Id'})\n",
    "\n",
    "df = df.drop(['Event_Id_y'], axis=1)"
   ]
  },
  {
   "cell_type": "code",
   "execution_count": 17,
   "metadata": {
    "ExecuteTime": {
     "end_time": "2018-08-05T00:28:42.416549Z",
     "start_time": "2018-08-05T00:28:42.408318Z"
    }
   },
   "outputs": [
    {
     "data": {
      "text/plain": [
       "13"
      ]
     },
     "execution_count": 17,
     "metadata": {},
     "output_type": "execute_result"
    }
   ],
   "source": [
    "len(df.Aircraft_Category.unique())"
   ]
  },
  {
   "cell_type": "code",
   "execution_count": 18,
   "metadata": {
    "ExecuteTime": {
     "end_time": "2018-08-05T00:28:42.558118Z",
     "start_time": "2018-08-05T00:28:42.418166Z"
    }
   },
   "outputs": [
    {
     "name": "stdout",
     "output_type": "stream",
     "text": [
      "<class 'pandas.core.frame.DataFrame'>\n",
      "Int64Index: 46843 entries, 16185 to 81898\n",
      "Data columns (total 33 columns):\n",
      "index                     46843 non-null int64\n",
      "Event_Id                  46843 non-null object\n",
      "Investigation_Type        46843 non-null object\n",
      "Accident_Number           46843 non-null object\n",
      "Event_Date                46843 non-null datetime64[ns]\n",
      "Country                   46843 non-null object\n",
      "Latitude                  288 non-null float64\n",
      "Longitude                 288 non-null float64\n",
      "Airport_Code              25732 non-null object\n",
      "Airport_Name              27910 non-null object\n",
      "Injury_Severity           46843 non-null object\n",
      "Aircraft_Damage           45929 non-null object\n",
      "Aircraft_Category         3689 non-null object\n",
      "Registration_Number       46843 non-null object\n",
      "Make                      46836 non-null object\n",
      "Model                     46823 non-null object\n",
      "Amateur_Built             46843 non-null object\n",
      "Number_Engines            46843 non-null float64\n",
      "Engine_Type               46843 non-null object\n",
      "FAR_Description           3690 non-null object\n",
      "Schedule                  7302 non-null object\n",
      "Flight_Purpose            46843 non-null object\n",
      "Air_Carrier               2450 non-null object\n",
      "Total_Fatal_Injuries      46843 non-null float64\n",
      "Total_Serious_Injuries    46843 non-null float64\n",
      "Total_Minor_Injuries      46843 non-null float64\n",
      "Total_Uninjured           46843 non-null float64\n",
      "Weather_Condition         46843 non-null object\n",
      "Broad_Phase_of_Flight     46843 non-null object\n",
      "Report_Status             46843 non-null object\n",
      "Publication_Date          34921 non-null object\n",
      "City                      46843 non-null object\n",
      "State                     46843 non-null object\n",
      "dtypes: datetime64[ns](1), float64(7), int64(1), object(24)\n",
      "memory usage: 12.2+ MB\n"
     ]
    }
   ],
   "source": [
    "real_df = df.dropna(subset=['Investigation_Type','Event_Date',\n",
    "              'Country', 'Injury_Severity', 'Amateur_Built', 'Number_Engines', 'Engine_Type',\n",
    "              'Flight_Purpose', 'Total_Fatal_Injuries', 'Total_Serious_Injuries',\n",
    "              'Total_Minor_Injuries', 'Total_Uninjured', 'Weather_Condition', 'Broad_Phase_of_Flight','City','State'])\n",
    "\n",
    "real_df.info()"
   ]
  },
  {
   "cell_type": "code",
   "execution_count": 19,
   "metadata": {
    "ExecuteTime": {
     "end_time": "2018-08-05T00:28:42.568382Z",
     "start_time": "2018-08-05T00:28:42.560375Z"
    }
   },
   "outputs": [
    {
     "data": {
      "text/plain": [
       "Airplane      3270\n",
       "Helicopter     318\n",
       "Glider          52\n",
       "Balloon         30\n",
       "Gyrocraft       17\n",
       "Unknown          1\n",
       "Ultralight       1\n",
       "Name: Aircraft_Category, dtype: int64"
      ]
     },
     "execution_count": 19,
     "metadata": {},
     "output_type": "execute_result"
    }
   ],
   "source": [
    "real_df.Aircraft_Category.value_counts()"
   ]
  },
  {
   "cell_type": "code",
   "execution_count": 20,
   "metadata": {
    "ExecuteTime": {
     "end_time": "2018-08-05T00:28:42.586882Z",
     "start_time": "2018-08-05T00:28:42.570089Z"
    }
   },
   "outputs": [
    {
     "data": {
      "text/plain": [
       "VMC    42649\n",
       "IMC     3755\n",
       "UNK      439\n",
       "Name: Weather_Condition, dtype: int64"
      ]
     },
     "execution_count": 20,
     "metadata": {},
     "output_type": "execute_result"
    }
   ],
   "source": [
    "real_df.Weather_Condition.value_counts()"
   ]
  },
  {
   "cell_type": "code",
   "execution_count": 21,
   "metadata": {
    "ExecuteTime": {
     "end_time": "2018-08-05T00:28:42.621151Z",
     "start_time": "2018-08-05T00:28:42.588914Z"
    }
   },
   "outputs": [],
   "source": [
    "real_df = real_df[real_df['Weather_Condition'] != 'UNK']"
   ]
  },
  {
   "cell_type": "code",
   "execution_count": null,
   "metadata": {
    "ExecuteTime": {
     "end_time": "2018-08-05T00:20:45.652751Z",
     "start_time": "2018-08-05T00:20:45.636256Z"
    }
   },
   "outputs": [],
   "source": []
  },
  {
   "cell_type": "code",
   "execution_count": 22,
   "metadata": {
    "ExecuteTime": {
     "end_time": "2018-08-05T00:28:42.683163Z",
     "start_time": "2018-08-05T00:28:42.623242Z"
    }
   },
   "outputs": [
    {
     "name": "stdout",
     "output_type": "stream",
     "text": [
      "<class 'pandas.core.frame.DataFrame'>\n",
      "Int64Index: 46404 entries, 16185 to 81895\n",
      "Data columns (total 33 columns):\n",
      "index                     46404 non-null int64\n",
      "Event_Id                  46404 non-null object\n",
      "Investigation_Type        46404 non-null object\n",
      "Accident_Number           46404 non-null object\n",
      "Event_Date                46404 non-null datetime64[ns]\n",
      "Country                   46404 non-null object\n",
      "Latitude                  288 non-null float64\n",
      "Longitude                 288 non-null float64\n",
      "Airport_Code              25612 non-null object\n",
      "Airport_Name              27779 non-null object\n",
      "Injury_Severity           46404 non-null object\n",
      "Aircraft_Damage           45507 non-null object\n",
      "Aircraft_Category         3638 non-null object\n",
      "Registration_Number       46404 non-null object\n",
      "Make                      46397 non-null object\n",
      "Model                     46384 non-null object\n",
      "Amateur_Built             46404 non-null object\n",
      "Number_Engines            46404 non-null float64\n",
      "Engine_Type               46404 non-null object\n",
      "FAR_Description           3639 non-null object\n",
      "Schedule                  7216 non-null object\n",
      "Flight_Purpose            46404 non-null object\n",
      "Air_Carrier               2414 non-null object\n",
      "Total_Fatal_Injuries      46404 non-null float64\n",
      "Total_Serious_Injuries    46404 non-null float64\n",
      "Total_Minor_Injuries      46404 non-null float64\n",
      "Total_Uninjured           46404 non-null float64\n",
      "Weather_Condition         46404 non-null object\n",
      "Broad_Phase_of_Flight     46404 non-null object\n",
      "Report_Status             46404 non-null object\n",
      "Publication_Date          34623 non-null object\n",
      "City                      46404 non-null object\n",
      "State                     46404 non-null object\n",
      "dtypes: datetime64[ns](1), float64(7), int64(1), object(24)\n",
      "memory usage: 12.0+ MB\n"
     ]
    }
   ],
   "source": [
    "real_df.info()"
   ]
  },
  {
   "cell_type": "code",
   "execution_count": null,
   "metadata": {
    "ExecuteTime": {
     "end_time": "2018-08-04T19:53:41.558057Z",
     "start_time": "2018-08-04T19:53:41.553458Z"
    }
   },
   "outputs": [],
   "source": []
  },
  {
   "cell_type": "code",
   "execution_count": null,
   "metadata": {
    "ExecuteTime": {
     "end_time": "2018-08-04T19:53:41.566496Z",
     "start_time": "2018-08-04T19:53:41.560130Z"
    }
   },
   "outputs": [],
   "source": []
  },
  {
   "cell_type": "code",
   "execution_count": 23,
   "metadata": {
    "ExecuteTime": {
     "end_time": "2018-08-05T00:28:42.694999Z",
     "start_time": "2018-08-05T00:28:42.685111Z"
    }
   },
   "outputs": [],
   "source": [
    "real_df = real_df[['Event_Id','Investigation_Type','Event_Date',\n",
    "              'Country', 'Injury_Severity', 'Amateur_Built', 'Number_Engines', 'Engine_Type',\n",
    "              'Flight_Purpose', 'Total_Fatal_Injuries', 'Total_Serious_Injuries',\n",
    "              'Total_Minor_Injuries', 'Total_Uninjured', 'Weather_Condition', 'Broad_Phase_of_Flight','City','State']]"
   ]
  },
  {
   "cell_type": "code",
   "execution_count": 24,
   "metadata": {
    "ExecuteTime": {
     "end_time": "2018-08-05T00:28:42.710639Z",
     "start_time": "2018-08-05T00:28:42.696999Z"
    }
   },
   "outputs": [
    {
     "data": {
      "text/plain": [
       "CA                                5292\n",
       "AK                                3342\n",
       "TX                                3183\n",
       "FL                                3175\n",
       "CO                                1497\n",
       "WA                                1443\n",
       "AZ                                1373\n",
       "IL                                1235\n",
       "MI                                1222\n",
       "NY                                1109\n",
       "OH                                1068\n",
       "GA                                1064\n",
       "PA                                1051\n",
       "AR                                 988\n",
       "OR                                 955\n",
       "MO                                 954\n",
       "WI                                 884\n",
       "NC                                 877\n",
       "MN                                 838\n",
       "IN                                 793\n",
       "OK                                 764\n",
       "LA                                 729\n",
       "NM                                 721\n",
       "AL                                 682\n",
       "NJ                                 680\n",
       "VA                                 660\n",
       "KS                                 659\n",
       "ID                                 654\n",
       "UT                                 653\n",
       "NV                                 601\n",
       "                                  ... \n",
       "Northern Mariana Islands             5\n",
       "MAUI                                 4\n",
       "American Samoa                       4\n",
       "OAHU                                 4\n",
       "KAUAI                                3\n",
       "Canada                               3\n",
       "GM                                   3\n",
       "GU                                   3\n",
       "Colombia                             2\n",
       "Mexico                               2\n",
       "PR                                   2\n",
       "Mauritius                            2\n",
       "Taiwan                               1\n",
       "India                                1\n",
       "MANU'A                               1\n",
       "Netherlands                          1\n",
       "Cuba                                 1\n",
       "Federated States Of Micronesia       1\n",
       "Australia                            1\n",
       "Iceland                              1\n",
       "Haiti                                1\n",
       "Bermuda                              1\n",
       "Papua New Guinea                     1\n",
       "El Salvador                          1\n",
       "Guyana                               1\n",
       "Brazil                               1\n",
       "Japan                                1\n",
       "Mali                                 1\n",
       "Marshall Islands                     1\n",
       "Jamaica                              1\n",
       "Name: State, Length: 82, dtype: int64"
      ]
     },
     "execution_count": 24,
     "metadata": {},
     "output_type": "execute_result"
    }
   ],
   "source": [
    "real_df.State.value_counts()"
   ]
  },
  {
   "cell_type": "code",
   "execution_count": 25,
   "metadata": {
    "ExecuteTime": {
     "end_time": "2018-08-05T00:28:42.933052Z",
     "start_time": "2018-08-05T00:28:42.712424Z"
    }
   },
   "outputs": [],
   "source": [
    "real_df['Total_Passengers'] = (real_df['Total_Fatal_Injuries'] + real_df['Total_Serious_Injuries'] + \n",
    "                                real_df['Total_Minor_Injuries'] + real_df['Total_Uninjured'])"
   ]
  },
  {
   "cell_type": "code",
   "execution_count": null,
   "metadata": {
    "ExecuteTime": {
     "end_time": "2018-08-04T03:00:01.642628Z",
     "start_time": "2018-08-04T03:00:01.639601Z"
    }
   },
   "outputs": [],
   "source": []
  },
  {
   "cell_type": "code",
   "execution_count": null,
   "metadata": {
    "ExecuteTime": {
     "end_time": "2018-08-04T03:00:16.913973Z",
     "start_time": "2018-08-04T03:00:16.907106Z"
    }
   },
   "outputs": [],
   "source": []
  },
  {
   "cell_type": "code",
   "execution_count": 26,
   "metadata": {
    "ExecuteTime": {
     "end_time": "2018-08-05T00:28:42.947119Z",
     "start_time": "2018-08-05T00:28:42.935743Z"
    }
   },
   "outputs": [
    {
     "data": {
      "text/plain": [
       "1.0      20672\n",
       "2.0      15012\n",
       "3.0       4343\n",
       "4.0       3154\n",
       "5.0        915\n",
       "6.0        508\n",
       "7.0        210\n",
       "8.0        133\n",
       "10.0        67\n",
       "9.0         61\n",
       "11.0        47\n",
       "12.0        39\n",
       "16.0        30\n",
       "14.0        25\n",
       "18.0        25\n",
       "20.0        21\n",
       "21.0        20\n",
       "13.0        17\n",
       "15.0        17\n",
       "17.0        15\n",
       "22.0        12\n",
       "33.0        12\n",
       "53.0        12\n",
       "96.0        11\n",
       "26.0        10\n",
       "108.0       10\n",
       "24.0        10\n",
       "87.0        10\n",
       "131.0       10\n",
       "127.0       10\n",
       "         ...  \n",
       "199.0        1\n",
       "205.0        1\n",
       "305.0        1\n",
       "171.0        1\n",
       "225.0        1\n",
       "200.0        1\n",
       "412.0        1\n",
       "187.0        1\n",
       "390.0        1\n",
       "231.0        1\n",
       "260.0        1\n",
       "436.0        1\n",
       "209.0        1\n",
       "411.0        1\n",
       "195.0        1\n",
       "262.0        1\n",
       "269.0        1\n",
       "206.0        1\n",
       "283.0        1\n",
       "251.0        1\n",
       "306.0        1\n",
       "173.0        1\n",
       "481.0        1\n",
       "265.0        1\n",
       "126.0        1\n",
       "257.0        1\n",
       "253.0        1\n",
       "246.0        1\n",
       "277.0        1\n",
       "216.0        1\n",
       "Name: Total_Passengers, Length: 293, dtype: int64"
      ]
     },
     "execution_count": 26,
     "metadata": {},
     "output_type": "execute_result"
    }
   ],
   "source": [
    "real_df['Total_Passengers'].value_counts()"
   ]
  },
  {
   "cell_type": "code",
   "execution_count": 27,
   "metadata": {
    "ExecuteTime": {
     "end_time": "2018-08-05T00:28:42.953278Z",
     "start_time": "2018-08-05T00:28:42.949277Z"
    }
   },
   "outputs": [],
   "source": [
    "def solo_flight(row):\n",
    "    if row['Total_Passengers'] == 1 :\n",
    "        return 'Yes'\n",
    "    else:\n",
    "        return 'No'"
   ]
  },
  {
   "cell_type": "code",
   "execution_count": 28,
   "metadata": {
    "ExecuteTime": {
     "end_time": "2018-08-05T00:28:45.787023Z",
     "start_time": "2018-08-05T00:28:42.955529Z"
    },
    "scrolled": true
   },
   "outputs": [
    {
     "data": {
      "text/plain": [
       "16185     No\n",
       "16254     No\n",
       "16315     No\n",
       "16337    Yes\n",
       "16369    Yes\n",
       "16370     No\n",
       "16395    Yes\n",
       "16412     No\n",
       "16418     No\n",
       "16438    Yes\n",
       "16472     No\n",
       "16474     No\n",
       "16480    Yes\n",
       "16507    Yes\n",
       "16540     No\n",
       "16546     No\n",
       "16569    Yes\n",
       "16571     No\n",
       "16592    Yes\n",
       "16600    Yes\n",
       "16621     No\n",
       "16667    Yes\n",
       "16674     No\n",
       "16733    Yes\n",
       "16802     No\n",
       "16850     No\n",
       "16851     No\n",
       "16857     No\n",
       "16862    Yes\n",
       "16895     No\n",
       "        ... \n",
       "81861     No\n",
       "81862     No\n",
       "81864     No\n",
       "81865     No\n",
       "81866     No\n",
       "81867     No\n",
       "81868     No\n",
       "81869    Yes\n",
       "81870     No\n",
       "81871     No\n",
       "81872     No\n",
       "81873    Yes\n",
       "81874     No\n",
       "81875    Yes\n",
       "81876    Yes\n",
       "81877     No\n",
       "81878    Yes\n",
       "81879    Yes\n",
       "81880    Yes\n",
       "81881     No\n",
       "81882    Yes\n",
       "81883    Yes\n",
       "81884     No\n",
       "81885    Yes\n",
       "81887     No\n",
       "81888     No\n",
       "81889     No\n",
       "81890    Yes\n",
       "81891    Yes\n",
       "81895     No\n",
       "Length: 46404, dtype: object"
      ]
     },
     "execution_count": 28,
     "metadata": {},
     "output_type": "execute_result"
    }
   ],
   "source": [
    "real_df.apply(lambda row: solo_flight(row),axis=1)"
   ]
  },
  {
   "cell_type": "code",
   "execution_count": 29,
   "metadata": {
    "ExecuteTime": {
     "end_time": "2018-08-05T00:28:48.567079Z",
     "start_time": "2018-08-05T00:28:45.788899Z"
    }
   },
   "outputs": [],
   "source": [
    "real_df['Solo_Flight'] = real_df.apply(lambda row: solo_flight(row),axis=1)"
   ]
  },
  {
   "cell_type": "code",
   "execution_count": 30,
   "metadata": {
    "ExecuteTime": {
     "end_time": "2018-08-05T00:28:48.582337Z",
     "start_time": "2018-08-05T00:28:48.569688Z"
    }
   },
   "outputs": [
    {
     "data": {
      "text/plain": [
       "No     25732\n",
       "Yes    20672\n",
       "Name: Solo_Flight, dtype: int64"
      ]
     },
     "execution_count": 30,
     "metadata": {},
     "output_type": "execute_result"
    }
   ],
   "source": [
    "real_df['Solo_Flight'].value_counts()"
   ]
  },
  {
   "cell_type": "code",
   "execution_count": 31,
   "metadata": {
    "ExecuteTime": {
     "end_time": "2018-08-05T00:28:48.604010Z",
     "start_time": "2018-08-05T00:28:48.585029Z"
    }
   },
   "outputs": [
    {
     "data": {
      "text/plain": [
       "Personal                     26591\n",
       "Instructional                 5768\n",
       "Unknown                       5276\n",
       "Aerial Application            3029\n",
       "Business                      2820\n",
       "Positioning                    739\n",
       "Other Work Use                 593\n",
       "Ferry                          556\n",
       "Executive/Corporate            350\n",
       "Public Aircraft                337\n",
       "Aerial Observation             322\n",
       "Flight Test                      9\n",
       "Air Race/Show                    3\n",
       "Skydiving                        3\n",
       "External Load                    3\n",
       "Public Aircraft - Local          2\n",
       "Public Aircraft - Federal        1\n",
       "Glider Tow                       1\n",
       "Public Aircraft - State          1\n",
       "Name: Flight_Purpose, dtype: int64"
      ]
     },
     "execution_count": 31,
     "metadata": {},
     "output_type": "execute_result"
    }
   ],
   "source": [
    "real_df['Flight_Purpose'].value_counts()"
   ]
  },
  {
   "cell_type": "code",
   "execution_count": 32,
   "metadata": {
    "ExecuteTime": {
     "end_time": "2018-08-05T00:28:48.644064Z",
     "start_time": "2018-08-05T00:28:48.606382Z"
    }
   },
   "outputs": [],
   "source": [
    "real_df.Flight_Purpose.replace('Unknown', 'Other', inplace=True)\n",
    "real_df.Flight_Purpose.replace('Executive/Corporate', 'Business', inplace=True)\n",
    "real_df.Flight_Purpose.replace('Aerial Observation', 'Aerial Application', inplace=True)\n",
    "real_df.Flight_Purpose.replace('Flight Test', 'Instructional', inplace=True)\n",
    "real_df.Flight_Purpose.replace('Air Race/Show', 'Business', inplace=True)\n",
    "real_df.Flight_Purpose.replace('Public Aircraft', 'Business', inplace=True)\n",
    "real_df.Flight_Purpose.replace('Skydiving', 'Business', inplace=True)\n",
    "real_df.Flight_Purpose.replace('External Load', 'Business', inplace=True)\n",
    "real_df.Flight_Purpose.replace('Public Aircraft - Local', 'Business', inplace=True)\n",
    "real_df.Flight_Purpose.replace('Other Work Use', 'Business', inplace=True)\n",
    "real_df.Flight_Purpose.replace('Public Aircraft - Federal', 'Business', inplace=True)\n",
    "real_df.Flight_Purpose.replace('Glider Tow', 'Business', inplace=True)\n",
    "real_df.Flight_Purpose.replace('Public Aircraft - State', 'Business', inplace=True)"
   ]
  },
  {
   "cell_type": "code",
   "execution_count": 33,
   "metadata": {
    "ExecuteTime": {
     "end_time": "2018-08-05T00:28:48.660117Z",
     "start_time": "2018-08-05T00:28:48.646484Z"
    }
   },
   "outputs": [
    {
     "data": {
      "text/plain": [
       "Personal              26591\n",
       "Instructional          5777\n",
       "Other                  5276\n",
       "Business               4114\n",
       "Aerial Application     3351\n",
       "Positioning             739\n",
       "Ferry                   556\n",
       "Name: Flight_Purpose, dtype: int64"
      ]
     },
     "execution_count": 33,
     "metadata": {},
     "output_type": "execute_result"
    }
   ],
   "source": [
    "real_df['Flight_Purpose'].value_counts()"
   ]
  },
  {
   "cell_type": "code",
   "execution_count": 34,
   "metadata": {
    "ExecuteTime": {
     "end_time": "2018-08-05T00:28:48.669280Z",
     "start_time": "2018-08-05T00:28:48.662131Z"
    }
   },
   "outputs": [],
   "source": [
    "real_df['Was_Fatal'] = real_df['Total_Fatal_Injuries']\n",
    "\n",
    "fatal = np.array(real_df['Was_Fatal'].values.tolist())"
   ]
  },
  {
   "cell_type": "code",
   "execution_count": 35,
   "metadata": {
    "ExecuteTime": {
     "end_time": "2018-08-05T00:28:48.692403Z",
     "start_time": "2018-08-05T00:28:48.671433Z"
    }
   },
   "outputs": [],
   "source": [
    "real_df['Was_Fatal'] = np.where(fatal > 0, 'Fatal', fatal).tolist()"
   ]
  },
  {
   "cell_type": "code",
   "execution_count": 36,
   "metadata": {
    "ExecuteTime": {
     "end_time": "2018-08-05T00:28:48.705468Z",
     "start_time": "2018-08-05T00:28:48.694452Z"
    }
   },
   "outputs": [
    {
     "data": {
      "text/plain": [
       "array(['0.0', '0.0', '0.0', ..., '0.0', '0.0', 'Fatal'], dtype='<U5')"
      ]
     },
     "execution_count": 36,
     "metadata": {},
     "output_type": "execute_result"
    }
   ],
   "source": [
    "new_fatal = np.array(real_df['Was_Fatal'].values.tolist())\n",
    "\n",
    "new_fatal"
   ]
  },
  {
   "cell_type": "code",
   "execution_count": 37,
   "metadata": {
    "ExecuteTime": {
     "end_time": "2018-08-05T00:28:48.719308Z",
     "start_time": "2018-08-05T00:28:48.707439Z"
    }
   },
   "outputs": [],
   "source": [
    "real_df['Was_Fatal'] = np.where(new_fatal == '0.0', 'Non-fatal', new_fatal).tolist()"
   ]
  },
  {
   "cell_type": "code",
   "execution_count": 38,
   "metadata": {
    "ExecuteTime": {
     "end_time": "2018-08-05T00:28:48.746858Z",
     "start_time": "2018-08-05T00:28:48.721534Z"
    }
   },
   "outputs": [
    {
     "data": {
      "text/html": [
       "<div>\n",
       "<style scoped>\n",
       "    .dataframe tbody tr th:only-of-type {\n",
       "        vertical-align: middle;\n",
       "    }\n",
       "\n",
       "    .dataframe tbody tr th {\n",
       "        vertical-align: top;\n",
       "    }\n",
       "\n",
       "    .dataframe thead th {\n",
       "        text-align: right;\n",
       "    }\n",
       "</style>\n",
       "<table border=\"1\" class=\"dataframe\">\n",
       "  <thead>\n",
       "    <tr style=\"text-align: right;\">\n",
       "      <th></th>\n",
       "      <th>Event_Id</th>\n",
       "      <th>Investigation_Type</th>\n",
       "      <th>Event_Date</th>\n",
       "      <th>Country</th>\n",
       "      <th>Injury_Severity</th>\n",
       "      <th>Amateur_Built</th>\n",
       "      <th>Number_Engines</th>\n",
       "      <th>Engine_Type</th>\n",
       "      <th>Flight_Purpose</th>\n",
       "      <th>Total_Fatal_Injuries</th>\n",
       "      <th>Total_Serious_Injuries</th>\n",
       "      <th>Total_Minor_Injuries</th>\n",
       "      <th>Total_Uninjured</th>\n",
       "      <th>Weather_Condition</th>\n",
       "      <th>Broad_Phase_of_Flight</th>\n",
       "      <th>City</th>\n",
       "      <th>State</th>\n",
       "      <th>Total_Passengers</th>\n",
       "      <th>Solo_Flight</th>\n",
       "      <th>Was_Fatal</th>\n",
       "    </tr>\n",
       "  </thead>\n",
       "  <tbody>\n",
       "    <tr>\n",
       "      <th>16185</th>\n",
       "      <td>20081126X30503</td>\n",
       "      <td>Accident</td>\n",
       "      <td>2008-11-25</td>\n",
       "      <td>United States</td>\n",
       "      <td>Non-Fatal</td>\n",
       "      <td>No</td>\n",
       "      <td>1.0</td>\n",
       "      <td>Reciprocating</td>\n",
       "      <td>Personal</td>\n",
       "      <td>0.0</td>\n",
       "      <td>1.0</td>\n",
       "      <td>1.0</td>\n",
       "      <td>0.0</td>\n",
       "      <td>VMC</td>\n",
       "      <td>INFLIGHT</td>\n",
       "      <td>Monterey</td>\n",
       "      <td>CA</td>\n",
       "      <td>2.0</td>\n",
       "      <td>No</td>\n",
       "      <td>Non-fatal</td>\n",
       "    </tr>\n",
       "    <tr>\n",
       "      <th>16254</th>\n",
       "      <td>20081112X43029</td>\n",
       "      <td>Accident</td>\n",
       "      <td>2008-11-08</td>\n",
       "      <td>United States</td>\n",
       "      <td>Non-Fatal</td>\n",
       "      <td>No</td>\n",
       "      <td>1.0</td>\n",
       "      <td>Reciprocating</td>\n",
       "      <td>Instructional</td>\n",
       "      <td>0.0</td>\n",
       "      <td>0.0</td>\n",
       "      <td>0.0</td>\n",
       "      <td>2.0</td>\n",
       "      <td>VMC</td>\n",
       "      <td>TAKEOFF</td>\n",
       "      <td>Nacogdoches</td>\n",
       "      <td>TX</td>\n",
       "      <td>2.0</td>\n",
       "      <td>No</td>\n",
       "      <td>Non-fatal</td>\n",
       "    </tr>\n",
       "    <tr>\n",
       "      <th>16315</th>\n",
       "      <td>20081024X13647</td>\n",
       "      <td>Accident</td>\n",
       "      <td>2008-10-24</td>\n",
       "      <td>United States</td>\n",
       "      <td>Non-Fatal</td>\n",
       "      <td>Yes</td>\n",
       "      <td>1.0</td>\n",
       "      <td>Reciprocating</td>\n",
       "      <td>Personal</td>\n",
       "      <td>0.0</td>\n",
       "      <td>2.0</td>\n",
       "      <td>0.0</td>\n",
       "      <td>0.0</td>\n",
       "      <td>VMC</td>\n",
       "      <td>INFLIGHT</td>\n",
       "      <td>Breckenridge</td>\n",
       "      <td>TX</td>\n",
       "      <td>2.0</td>\n",
       "      <td>No</td>\n",
       "      <td>Non-fatal</td>\n",
       "    </tr>\n",
       "    <tr>\n",
       "      <th>16337</th>\n",
       "      <td>20081020X12359</td>\n",
       "      <td>Accident</td>\n",
       "      <td>2008-10-19</td>\n",
       "      <td>United States</td>\n",
       "      <td>Non-Fatal</td>\n",
       "      <td>No</td>\n",
       "      <td>1.0</td>\n",
       "      <td>Reciprocating</td>\n",
       "      <td>Personal</td>\n",
       "      <td>0.0</td>\n",
       "      <td>0.0</td>\n",
       "      <td>0.0</td>\n",
       "      <td>1.0</td>\n",
       "      <td>VMC</td>\n",
       "      <td>LANDING</td>\n",
       "      <td>Angleton</td>\n",
       "      <td>TX</td>\n",
       "      <td>1.0</td>\n",
       "      <td>Yes</td>\n",
       "      <td>Non-fatal</td>\n",
       "    </tr>\n",
       "    <tr>\n",
       "      <th>16369</th>\n",
       "      <td>20081012X91435</td>\n",
       "      <td>Accident</td>\n",
       "      <td>2008-10-10</td>\n",
       "      <td>United States</td>\n",
       "      <td>Non-Fatal</td>\n",
       "      <td>No</td>\n",
       "      <td>1.0</td>\n",
       "      <td>Turbo Shaft</td>\n",
       "      <td>Business</td>\n",
       "      <td>0.0</td>\n",
       "      <td>1.0</td>\n",
       "      <td>0.0</td>\n",
       "      <td>0.0</td>\n",
       "      <td>VMC</td>\n",
       "      <td>INFLIGHT</td>\n",
       "      <td>Cougar</td>\n",
       "      <td>WA</td>\n",
       "      <td>1.0</td>\n",
       "      <td>Yes</td>\n",
       "      <td>Non-fatal</td>\n",
       "    </tr>\n",
       "  </tbody>\n",
       "</table>\n",
       "</div>"
      ],
      "text/plain": [
       "             Event_Id Investigation_Type Event_Date        Country  \\\n",
       "16185  20081126X30503           Accident 2008-11-25  United States   \n",
       "16254  20081112X43029           Accident 2008-11-08  United States   \n",
       "16315  20081024X13647           Accident 2008-10-24  United States   \n",
       "16337  20081020X12359           Accident 2008-10-19  United States   \n",
       "16369  20081012X91435           Accident 2008-10-10  United States   \n",
       "\n",
       "      Injury_Severity Amateur_Built  Number_Engines    Engine_Type  \\\n",
       "16185       Non-Fatal            No             1.0  Reciprocating   \n",
       "16254       Non-Fatal            No             1.0  Reciprocating   \n",
       "16315       Non-Fatal           Yes             1.0  Reciprocating   \n",
       "16337       Non-Fatal            No             1.0  Reciprocating   \n",
       "16369       Non-Fatal            No             1.0    Turbo Shaft   \n",
       "\n",
       "      Flight_Purpose  Total_Fatal_Injuries  Total_Serious_Injuries  \\\n",
       "16185       Personal                   0.0                     1.0   \n",
       "16254  Instructional                   0.0                     0.0   \n",
       "16315       Personal                   0.0                     2.0   \n",
       "16337       Personal                   0.0                     0.0   \n",
       "16369       Business                   0.0                     1.0   \n",
       "\n",
       "       Total_Minor_Injuries  Total_Uninjured Weather_Condition  \\\n",
       "16185                   1.0              0.0               VMC   \n",
       "16254                   0.0              2.0               VMC   \n",
       "16315                   0.0              0.0               VMC   \n",
       "16337                   0.0              1.0               VMC   \n",
       "16369                   0.0              0.0               VMC   \n",
       "\n",
       "      Broad_Phase_of_Flight          City State  Total_Passengers Solo_Flight  \\\n",
       "16185              INFLIGHT      Monterey    CA               2.0          No   \n",
       "16254               TAKEOFF   Nacogdoches    TX               2.0          No   \n",
       "16315              INFLIGHT  Breckenridge    TX               2.0          No   \n",
       "16337               LANDING      Angleton    TX               1.0         Yes   \n",
       "16369              INFLIGHT        Cougar    WA               1.0         Yes   \n",
       "\n",
       "       Was_Fatal  \n",
       "16185  Non-fatal  \n",
       "16254  Non-fatal  \n",
       "16315  Non-fatal  \n",
       "16337  Non-fatal  \n",
       "16369  Non-fatal  "
      ]
     },
     "execution_count": 38,
     "metadata": {},
     "output_type": "execute_result"
    }
   ],
   "source": [
    "real_df.head()"
   ]
  },
  {
   "cell_type": "code",
   "execution_count": 39,
   "metadata": {
    "ExecuteTime": {
     "end_time": "2018-08-05T00:28:48.763746Z",
     "start_time": "2018-08-05T00:28:48.748841Z"
    }
   },
   "outputs": [
    {
     "data": {
      "text/plain": [
       "Non-fatal    38118\n",
       "Fatal         8286\n",
       "Name: Was_Fatal, dtype: int64"
      ]
     },
     "execution_count": 39,
     "metadata": {},
     "output_type": "execute_result"
    }
   ],
   "source": [
    "real_df['Was_Fatal'].value_counts()"
   ]
  },
  {
   "cell_type": "code",
   "execution_count": 40,
   "metadata": {
    "ExecuteTime": {
     "end_time": "2018-08-05T00:28:48.874206Z",
     "start_time": "2018-08-05T00:28:48.765683Z"
    }
   },
   "outputs": [
    {
     "name": "stdout",
     "output_type": "stream",
     "text": [
      "<class 'pandas.core.frame.DataFrame'>\n",
      "Int64Index: 46404 entries, 16185 to 81895\n",
      "Data columns (total 20 columns):\n",
      "Event_Id                  46404 non-null object\n",
      "Investigation_Type        46404 non-null object\n",
      "Event_Date                46404 non-null datetime64[ns]\n",
      "Country                   46404 non-null object\n",
      "Injury_Severity           46404 non-null object\n",
      "Amateur_Built             46404 non-null object\n",
      "Number_Engines            46404 non-null float64\n",
      "Engine_Type               46404 non-null object\n",
      "Flight_Purpose            46404 non-null object\n",
      "Total_Fatal_Injuries      46404 non-null float64\n",
      "Total_Serious_Injuries    46404 non-null float64\n",
      "Total_Minor_Injuries      46404 non-null float64\n",
      "Total_Uninjured           46404 non-null float64\n",
      "Weather_Condition         46404 non-null object\n",
      "Broad_Phase_of_Flight     46404 non-null object\n",
      "City                      46404 non-null object\n",
      "State                     46404 non-null object\n",
      "Total_Passengers          46404 non-null float64\n",
      "Solo_Flight               46404 non-null object\n",
      "Was_Fatal                 46404 non-null object\n",
      "dtypes: datetime64[ns](1), float64(6), object(13)\n",
      "memory usage: 8.7+ MB\n"
     ]
    }
   ],
   "source": [
    "real_df.info()"
   ]
  },
  {
   "cell_type": "code",
   "execution_count": 41,
   "metadata": {
    "ExecuteTime": {
     "end_time": "2018-08-05T00:28:48.882492Z",
     "start_time": "2018-08-05T00:28:48.876114Z"
    }
   },
   "outputs": [],
   "source": [
    "real_df['Month'] = real_df['Event_Date'].dt.month"
   ]
  },
  {
   "cell_type": "code",
   "execution_count": 42,
   "metadata": {
    "ExecuteTime": {
     "end_time": "2018-08-05T00:28:48.892545Z",
     "start_time": "2018-08-05T00:28:48.885080Z"
    }
   },
   "outputs": [
    {
     "data": {
      "text/plain": [
       "7     5603\n",
       "8     5279\n",
       "6     4962\n",
       "5     4515\n",
       "9     4368\n",
       "4     3874\n",
       "3     3512\n",
       "10    3504\n",
       "11    2850\n",
       "2     2772\n",
       "12    2595\n",
       "1     2570\n",
       "Name: Month, dtype: int64"
      ]
     },
     "execution_count": 42,
     "metadata": {},
     "output_type": "execute_result"
    }
   ],
   "source": [
    "real_df.Month.value_counts()"
   ]
  },
  {
   "cell_type": "code",
   "execution_count": 43,
   "metadata": {
    "ExecuteTime": {
     "end_time": "2018-08-05T00:28:48.905300Z",
     "start_time": "2018-08-05T00:28:48.894497Z"
    }
   },
   "outputs": [
    {
     "data": {
      "text/plain": [
       "3    15844\n",
       "2    11901\n",
       "4    10722\n",
       "1     7937\n",
       "Name: Season, dtype: int64"
      ]
     },
     "execution_count": 43,
     "metadata": {},
     "output_type": "execute_result"
    }
   ],
   "source": [
    "real_df['Season'] = ((real_df['Month']%12 + 3)//3)\n",
    "\n",
    "real_df.Season.value_counts()"
   ]
  },
  {
   "cell_type": "code",
   "execution_count": 44,
   "metadata": {
    "ExecuteTime": {
     "end_time": "2018-08-05T00:28:48.920915Z",
     "start_time": "2018-08-05T00:28:48.907250Z"
    }
   },
   "outputs": [],
   "source": [
    "real_df.Season.replace(1, 'Winter', inplace=True)\n",
    "real_df.Season.replace(2, 'Spring', inplace=True)\n",
    "real_df.Season.replace(3, 'Summer', inplace=True)\n",
    "real_df.Season.replace(4, 'Fall', inplace=True)"
   ]
  },
  {
   "cell_type": "code",
   "execution_count": 45,
   "metadata": {
    "ExecuteTime": {
     "end_time": "2018-08-05T00:28:48.936426Z",
     "start_time": "2018-08-05T00:28:48.923214Z"
    }
   },
   "outputs": [
    {
     "data": {
      "text/plain": [
       "Summer    15844\n",
       "Spring    11901\n",
       "Fall      10722\n",
       "Winter     7937\n",
       "Name: Season, dtype: int64"
      ]
     },
     "execution_count": 45,
     "metadata": {},
     "output_type": "execute_result"
    }
   ],
   "source": [
    "real_df.Season.value_counts()"
   ]
  },
  {
   "cell_type": "code",
   "execution_count": 46,
   "metadata": {
    "ExecuteTime": {
     "end_time": "2018-08-05T00:28:48.970710Z",
     "start_time": "2018-08-05T00:28:48.938435Z"
    }
   },
   "outputs": [],
   "source": [
    "fatal_crash_df = real_df[real_df['Was_Fatal'] == 'Fatal']"
   ]
  },
  {
   "cell_type": "code",
   "execution_count": 47,
   "metadata": {
    "ExecuteTime": {
     "end_time": "2018-08-05T00:28:49.024434Z",
     "start_time": "2018-08-05T00:28:48.973035Z"
    }
   },
   "outputs": [
    {
     "name": "stdout",
     "output_type": "stream",
     "text": [
      "<class 'pandas.core.frame.DataFrame'>\n",
      "Int64Index: 46404 entries, 16185 to 81895\n",
      "Data columns (total 22 columns):\n",
      "Event_Id                  46404 non-null object\n",
      "Investigation_Type        46404 non-null object\n",
      "Event_Date                46404 non-null datetime64[ns]\n",
      "Country                   46404 non-null object\n",
      "Injury_Severity           46404 non-null object\n",
      "Amateur_Built             46404 non-null object\n",
      "Number_Engines            46404 non-null float64\n",
      "Engine_Type               46404 non-null object\n",
      "Flight_Purpose            46404 non-null object\n",
      "Total_Fatal_Injuries      46404 non-null float64\n",
      "Total_Serious_Injuries    46404 non-null float64\n",
      "Total_Minor_Injuries      46404 non-null float64\n",
      "Total_Uninjured           46404 non-null float64\n",
      "Weather_Condition         46404 non-null object\n",
      "Broad_Phase_of_Flight     46404 non-null object\n",
      "City                      46404 non-null object\n",
      "State                     46404 non-null object\n",
      "Total_Passengers          46404 non-null float64\n",
      "Solo_Flight               46404 non-null object\n",
      "Was_Fatal                 46404 non-null object\n",
      "Month                     46404 non-null int64\n",
      "Season                    46404 non-null object\n",
      "dtypes: datetime64[ns](1), float64(6), int64(1), object(14)\n",
      "memory usage: 9.4+ MB\n"
     ]
    }
   ],
   "source": [
    "real_df.info()"
   ]
  },
  {
   "cell_type": "code",
   "execution_count": null,
   "metadata": {
    "ExecuteTime": {
     "end_time": "2018-08-04T03:27:32.394252Z",
     "start_time": "2018-08-04T03:27:32.230177Z"
    }
   },
   "outputs": [],
   "source": []
  },
  {
   "cell_type": "code",
   "execution_count": 48,
   "metadata": {
    "ExecuteTime": {
     "end_time": "2018-08-05T00:28:49.040705Z",
     "start_time": "2018-08-05T00:28:49.026585Z"
    }
   },
   "outputs": [],
   "source": [
    "relative_season_impact = pd.value_counts(fatal_crash_df['Season']) / pd.value_counts(real_df['Season'])"
   ]
  },
  {
   "cell_type": "code",
   "execution_count": 49,
   "metadata": {
    "ExecuteTime": {
     "end_time": "2018-08-05T00:28:49.278617Z",
     "start_time": "2018-08-05T00:28:49.042579Z"
    }
   },
   "outputs": [
    {
     "data": {
      "text/plain": [
       "Text(0.5,1,'Fatal Accidents by Season')"
      ]
     },
     "execution_count": 49,
     "metadata": {},
     "output_type": "execute_result"
    },
    {
     "data": {
      "image/png": "[encoded data removed]",
      "text/plain": [
       "<Figure size 432x288 with 1 Axes>"
      ]
     },
     "metadata": {},
     "output_type": "display_data"
    }
   ],
   "source": [
    "relative_season_impact.plot.bar()\n",
    "plt.xlabel('Season')\n",
    "plt.ylabel('Percentage of Total Accidents')\n",
    "plt.xticks(rotation=0)\n",
    "plt.title(\"Fatal Accidents by Season\")"
   ]
  },
  {
   "cell_type": "markdown",
   "metadata": {},
   "source": [
    "## Fall and winter have the relatively highest fatal accidents!"
   ]
  },
  {
   "cell_type": "code",
   "execution_count": 50,
   "metadata": {
    "ExecuteTime": {
     "end_time": "2018-08-05T00:28:49.294784Z",
     "start_time": "2018-08-05T00:28:49.280638Z"
    }
   },
   "outputs": [],
   "source": [
    "amatuer_build_impact = pd.value_counts(fatal_crash_df['Amateur_Built']) / pd.value_counts(real_df['Amateur_Built'])"
   ]
  },
  {
   "cell_type": "code",
   "execution_count": 51,
   "metadata": {
    "ExecuteTime": {
     "end_time": "2018-08-05T00:28:49.427895Z",
     "start_time": "2018-08-05T00:28:49.296990Z"
    }
   },
   "outputs": [
    {
     "data": {
      "text/plain": [
       "Text(0.5,1,'Fatal Accidents by Amatuer Built')"
      ]
     },
     "execution_count": 51,
     "metadata": {},
     "output_type": "execute_result"
    },
    {
     "data": {
      "image/png": "[encoded data removed]",
      "text/plain": [
       "<Figure size 432x288 with 1 Axes>"
      ]
     },
     "metadata": {},
     "output_type": "display_data"
    }
   ],
   "source": [
    "amatuer_build_impact.plot.bar()\n",
    "plt.xlabel('Amateur Built?')\n",
    "plt.ylabel('Percentage of Total Accidents')\n",
    "plt.xticks(rotation=0)\n",
    "plt.title(\"Fatal Accidents by Amatuer Built\")"
   ]
  },
  {
   "cell_type": "code",
   "execution_count": 52,
   "metadata": {
    "ExecuteTime": {
     "end_time": "2018-08-05T00:28:49.444385Z",
     "start_time": "2018-08-05T00:28:49.429722Z"
    }
   },
   "outputs": [],
   "source": [
    "flight_purpose_impact = pd.value_counts(fatal_crash_df['Flight_Purpose']) / pd.value_counts(real_df['Flight_Purpose'])"
   ]
  },
  {
   "cell_type": "code",
   "execution_count": 53,
   "metadata": {
    "ExecuteTime": {
     "end_time": "2018-08-05T00:28:49.605034Z",
     "start_time": "2018-08-05T00:28:49.446336Z"
    }
   },
   "outputs": [
    {
     "data": {
      "text/plain": [
       "Text(0.5,1,'Fatal Accidents by Flight Purpose')"
      ]
     },
     "execution_count": 53,
     "metadata": {},
     "output_type": "execute_result"
    },
    {
     "data": {
      "image/png": "[encoded data removed]",
      "text/plain": [
       "<Figure size 432x288 with 1 Axes>"
      ]
     },
     "metadata": {},
     "output_type": "display_data"
    }
   ],
   "source": [
    "flight_purpose_impact.plot.bar()\n",
    "plt.xlabel('Flight Purpose')\n",
    "plt.ylabel('Percentage of Total Accidents')\n",
    "plt.xticks(rotation=90)\n",
    "plt.title(\"Fatal Accidents by Flight Purpose\")"
   ]
  },
  {
   "cell_type": "code",
   "execution_count": 54,
   "metadata": {
    "ExecuteTime": {
     "end_time": "2018-08-05T00:28:49.621181Z",
     "start_time": "2018-08-05T00:28:49.607394Z"
    }
   },
   "outputs": [],
   "source": [
    "weather_impact = pd.value_counts(fatal_crash_df['Weather_Condition']) / pd.value_counts(real_df['Weather_Condition'])"
   ]
  },
  {
   "cell_type": "code",
   "execution_count": 55,
   "metadata": {
    "ExecuteTime": {
     "end_time": "2018-08-05T00:28:49.745706Z",
     "start_time": "2018-08-05T00:28:49.623009Z"
    }
   },
   "outputs": [
    {
     "data": {
      "text/plain": [
       "Text(0.5,1,'Fatal Accidents by Weather Condition')"
      ]
     },
     "execution_count": 55,
     "metadata": {},
     "output_type": "execute_result"
    },
    {
     "data": {
      "image/png": "[encoded data removed]",
      "text/plain": [
       "<Figure size 432x288 with 1 Axes>"
      ]
     },
     "metadata": {},
     "output_type": "display_data"
    }
   ],
   "source": [
    "weather_impact.plot.bar()\n",
    "plt.xlabel('Weather/Visibility')\n",
    "plt.ylabel('Percentage of Total Accidents')\n",
    "plt.xticks(rotation=90)\n",
    "plt.title(\"Fatal Accidents by Weather Condition\")"
   ]
  },
  {
   "cell_type": "code",
   "execution_count": 56,
   "metadata": {
    "ExecuteTime": {
     "end_time": "2018-08-05T00:28:49.762233Z",
     "start_time": "2018-08-05T00:28:49.748012Z"
    }
   },
   "outputs": [],
   "source": [
    "flight_phase_impact = pd.value_counts(fatal_crash_df['Broad_Phase_of_Flight']) / pd.value_counts(real_df['Broad_Phase_of_Flight'])"
   ]
  },
  {
   "cell_type": "code",
   "execution_count": 57,
   "metadata": {
    "ExecuteTime": {
     "end_time": "2018-08-05T00:28:49.911885Z",
     "start_time": "2018-08-05T00:28:49.764323Z"
    }
   },
   "outputs": [
    {
     "data": {
      "text/plain": [
       "Text(0.5,1,'Fatal Accidents by flight phase')"
      ]
     },
     "execution_count": 57,
     "metadata": {},
     "output_type": "execute_result"
    },
    {
     "data": {
      "image/png": "[encoded data removed]",
      "text/plain": [
       "<Figure size 432x288 with 1 Axes>"
      ]
     },
     "metadata": {},
     "output_type": "display_data"
    }
   ],
   "source": [
    "flight_phase_impact.plot.bar()\n",
    "plt.xlabel('Flight phase')\n",
    "plt.ylabel('Percentage of Total Accidents')\n",
    "plt.xticks(rotation=90)\n",
    "plt.title(\"Fatal Accidents by flight phase\")"
   ]
  },
  {
   "cell_type": "code",
   "execution_count": 58,
   "metadata": {
    "ExecuteTime": {
     "end_time": "2018-08-05T00:28:49.916188Z",
     "start_time": "2018-08-05T00:28:49.913895Z"
    }
   },
   "outputs": [],
   "source": [
    "# aircraft_category_impact = pd.value_counts(fatal_crash_df['Aircraft_Category']) / pd.value_counts(real_df['Aircraft_Category'])"
   ]
  },
  {
   "cell_type": "code",
   "execution_count": 59,
   "metadata": {
    "ExecuteTime": {
     "end_time": "2018-08-05T00:28:49.923480Z",
     "start_time": "2018-08-05T00:28:49.917991Z"
    }
   },
   "outputs": [],
   "source": [
    "# aircraft_category_impact.plot.bar()\n",
    "# plt.xlabel('Aircraft Category')\n",
    "# plt.ylabel('Percentage of Total Accidents')\n",
    "# plt.xticks(rotation=90)\n",
    "# plt.title(\"Fatal Accidents by aircraft category\")"
   ]
  },
  {
   "cell_type": "code",
   "execution_count": 60,
   "metadata": {
    "ExecuteTime": {
     "end_time": "2018-08-05T00:28:49.937867Z",
     "start_time": "2018-08-05T00:28:49.925443Z"
    }
   },
   "outputs": [],
   "source": [
    "solo_flight_impact = pd.value_counts(fatal_crash_df['Solo_Flight']) / pd.value_counts(real_df['Solo_Flight'])"
   ]
  },
  {
   "cell_type": "code",
   "execution_count": 61,
   "metadata": {
    "ExecuteTime": {
     "end_time": "2018-08-05T00:28:50.071538Z",
     "start_time": "2018-08-05T00:28:49.939984Z"
    }
   },
   "outputs": [
    {
     "data": {
      "text/plain": [
       "Text(0.5,1,'Fatal Accidents by solo flight')"
      ]
     },
     "execution_count": 61,
     "metadata": {},
     "output_type": "execute_result"
    },
    {
     "data": {
      "image/png": "[encoded data removed]",
      "text/plain": [
       "<Figure size 432x288 with 1 Axes>"
      ]
     },
     "metadata": {},
     "output_type": "display_data"
    }
   ],
   "source": [
    "solo_flight_impact.plot.bar()\n",
    "plt.xlabel('Solo Flight')\n",
    "plt.ylabel('Percentage of Total Accidents')\n",
    "plt.xticks(rotation=90)\n",
    "plt.title(\"Fatal Accidents by solo flight\")"
   ]
  },
  {
   "cell_type": "code",
   "execution_count": 62,
   "metadata": {
    "ExecuteTime": {
     "end_time": "2018-08-05T00:28:50.092989Z",
     "start_time": "2018-08-05T00:28:50.073608Z"
    }
   },
   "outputs": [],
   "source": [
    "engine_type_impact = pd.value_counts(fatal_crash_df['Engine_Type']) / pd.value_counts(real_df['Engine_Type'])"
   ]
  },
  {
   "cell_type": "code",
   "execution_count": 63,
   "metadata": {
    "ExecuteTime": {
     "end_time": "2018-08-05T00:28:50.242242Z",
     "start_time": "2018-08-05T00:28:50.096446Z"
    }
   },
   "outputs": [
    {
     "data": {
      "text/plain": [
       "Text(0.5,1,'Fatal Accidents by engine type')"
      ]
     },
     "execution_count": 63,
     "metadata": {},
     "output_type": "execute_result"
    },
    {
     "data": {
      "image/png": "[encoded data removed]",
      "text/plain": [
       "<Figure size 432x288 with 1 Axes>"
      ]
     },
     "metadata": {},
     "output_type": "display_data"
    }
   ],
   "source": [
    "engine_type_impact.plot.bar()\n",
    "plt.xlabel('Engine Type')\n",
    "plt.ylabel('Percentage of Total Accidents')\n",
    "plt.xticks(rotation=90)\n",
    "plt.title(\"Fatal Accidents by engine type\")"
   ]
  },
  {
   "cell_type": "code",
   "execution_count": 64,
   "metadata": {
    "ExecuteTime": {
     "end_time": "2018-08-05T00:28:50.297640Z",
     "start_time": "2018-08-05T00:28:50.244257Z"
    }
   },
   "outputs": [
    {
     "name": "stdout",
     "output_type": "stream",
     "text": [
      "<class 'pandas.core.frame.DataFrame'>\n",
      "Int64Index: 46404 entries, 16185 to 81895\n",
      "Data columns (total 22 columns):\n",
      "Event_Id                  46404 non-null object\n",
      "Investigation_Type        46404 non-null object\n",
      "Event_Date                46404 non-null datetime64[ns]\n",
      "Country                   46404 non-null object\n",
      "Injury_Severity           46404 non-null object\n",
      "Amateur_Built             46404 non-null object\n",
      "Number_Engines            46404 non-null float64\n",
      "Engine_Type               46404 non-null object\n",
      "Flight_Purpose            46404 non-null object\n",
      "Total_Fatal_Injuries      46404 non-null float64\n",
      "Total_Serious_Injuries    46404 non-null float64\n",
      "Total_Minor_Injuries      46404 non-null float64\n",
      "Total_Uninjured           46404 non-null float64\n",
      "Weather_Condition         46404 non-null object\n",
      "Broad_Phase_of_Flight     46404 non-null object\n",
      "City                      46404 non-null object\n",
      "State                     46404 non-null object\n",
      "Total_Passengers          46404 non-null float64\n",
      "Solo_Flight               46404 non-null object\n",
      "Was_Fatal                 46404 non-null object\n",
      "Month                     46404 non-null int64\n",
      "Season                    46404 non-null object\n",
      "dtypes: datetime64[ns](1), float64(6), int64(1), object(14)\n",
      "memory usage: 9.4+ MB\n"
     ]
    }
   ],
   "source": [
    "real_df.info()"
   ]
  },
  {
   "cell_type": "code",
   "execution_count": 65,
   "metadata": {
    "ExecuteTime": {
     "end_time": "2018-08-05T00:28:50.307096Z",
     "start_time": "2018-08-05T00:28:50.299550Z"
    }
   },
   "outputs": [],
   "source": [
    "dummy_df = real_df[['Season', 'Amateur_Built', 'Engine_Type',\n",
    "                    'Flight_Purpose', 'Weather_Condition', 'Broad_Phase_of_Flight', 'Solo_Flight']]"
   ]
  },
  {
   "cell_type": "code",
   "execution_count": 66,
   "metadata": {
    "ExecuteTime": {
     "end_time": "2018-08-05T00:28:50.346837Z",
     "start_time": "2018-08-05T00:28:50.309680Z"
    }
   },
   "outputs": [],
   "source": [
    "dummy_df = pd.get_dummies(dummy_df)"
   ]
  },
  {
   "cell_type": "code",
   "execution_count": 67,
   "metadata": {
    "ExecuteTime": {
     "end_time": "2018-08-05T00:28:50.351944Z",
     "start_time": "2018-08-05T00:28:50.349164Z"
    }
   },
   "outputs": [],
   "source": [
    "# dummy_df.reset_index(inplace=True)\n",
    "# real_df.reset_index(inplace=True)"
   ]
  },
  {
   "cell_type": "code",
   "execution_count": 68,
   "metadata": {
    "ExecuteTime": {
     "end_time": "2018-08-05T00:28:50.374461Z",
     "start_time": "2018-08-05T00:28:50.354236Z"
    }
   },
   "outputs": [
    {
     "data": {
      "text/html": [
       "<div>\n",
       "<style scoped>\n",
       "    .dataframe tbody tr th:only-of-type {\n",
       "        vertical-align: middle;\n",
       "    }\n",
       "\n",
       "    .dataframe tbody tr th {\n",
       "        vertical-align: top;\n",
       "    }\n",
       "\n",
       "    .dataframe thead th {\n",
       "        text-align: right;\n",
       "    }\n",
       "</style>\n",
       "<table border=\"1\" class=\"dataframe\">\n",
       "  <thead>\n",
       "    <tr style=\"text-align: right;\">\n",
       "      <th></th>\n",
       "      <th>Season_Fall</th>\n",
       "      <th>Season_Spring</th>\n",
       "      <th>Season_Summer</th>\n",
       "      <th>Season_Winter</th>\n",
       "      <th>Amateur_Built_No</th>\n",
       "      <th>Amateur_Built_Yes</th>\n",
       "      <th>Engine_Type_Reciprocating</th>\n",
       "      <th>Engine_Type_Turbo Fan</th>\n",
       "      <th>Engine_Type_Turbo Jet</th>\n",
       "      <th>Engine_Type_Turbo Prop</th>\n",
       "      <th>...</th>\n",
       "      <th>Flight_Purpose_Personal</th>\n",
       "      <th>Flight_Purpose_Positioning</th>\n",
       "      <th>Weather_Condition_IMC</th>\n",
       "      <th>Weather_Condition_VMC</th>\n",
       "      <th>Broad_Phase_of_Flight_INFLIGHT</th>\n",
       "      <th>Broad_Phase_of_Flight_LANDING</th>\n",
       "      <th>Broad_Phase_of_Flight_TAKEOFF</th>\n",
       "      <th>Broad_Phase_of_Flight_TAXI</th>\n",
       "      <th>Solo_Flight_No</th>\n",
       "      <th>Solo_Flight_Yes</th>\n",
       "    </tr>\n",
       "  </thead>\n",
       "  <tbody>\n",
       "    <tr>\n",
       "      <th>16185</th>\n",
       "      <td>1</td>\n",
       "      <td>0</td>\n",
       "      <td>0</td>\n",
       "      <td>0</td>\n",
       "      <td>1</td>\n",
       "      <td>0</td>\n",
       "      <td>1</td>\n",
       "      <td>0</td>\n",
       "      <td>0</td>\n",
       "      <td>0</td>\n",
       "      <td>...</td>\n",
       "      <td>1</td>\n",
       "      <td>0</td>\n",
       "      <td>0</td>\n",
       "      <td>1</td>\n",
       "      <td>1</td>\n",
       "      <td>0</td>\n",
       "      <td>0</td>\n",
       "      <td>0</td>\n",
       "      <td>1</td>\n",
       "      <td>0</td>\n",
       "    </tr>\n",
       "    <tr>\n",
       "      <th>16254</th>\n",
       "      <td>1</td>\n",
       "      <td>0</td>\n",
       "      <td>0</td>\n",
       "      <td>0</td>\n",
       "      <td>1</td>\n",
       "      <td>0</td>\n",
       "      <td>1</td>\n",
       "      <td>0</td>\n",
       "      <td>0</td>\n",
       "      <td>0</td>\n",
       "      <td>...</td>\n",
       "      <td>0</td>\n",
       "      <td>0</td>\n",
       "      <td>0</td>\n",
       "      <td>1</td>\n",
       "      <td>0</td>\n",
       "      <td>0</td>\n",
       "      <td>1</td>\n",
       "      <td>0</td>\n",
       "      <td>1</td>\n",
       "      <td>0</td>\n",
       "    </tr>\n",
       "    <tr>\n",
       "      <th>16315</th>\n",
       "      <td>1</td>\n",
       "      <td>0</td>\n",
       "      <td>0</td>\n",
       "      <td>0</td>\n",
       "      <td>0</td>\n",
       "      <td>1</td>\n",
       "      <td>1</td>\n",
       "      <td>0</td>\n",
       "      <td>0</td>\n",
       "      <td>0</td>\n",
       "      <td>...</td>\n",
       "      <td>1</td>\n",
       "      <td>0</td>\n",
       "      <td>0</td>\n",
       "      <td>1</td>\n",
       "      <td>1</td>\n",
       "      <td>0</td>\n",
       "      <td>0</td>\n",
       "      <td>0</td>\n",
       "      <td>1</td>\n",
       "      <td>0</td>\n",
       "    </tr>\n",
       "    <tr>\n",
       "      <th>16337</th>\n",
       "      <td>1</td>\n",
       "      <td>0</td>\n",
       "      <td>0</td>\n",
       "      <td>0</td>\n",
       "      <td>1</td>\n",
       "      <td>0</td>\n",
       "      <td>1</td>\n",
       "      <td>0</td>\n",
       "      <td>0</td>\n",
       "      <td>0</td>\n",
       "      <td>...</td>\n",
       "      <td>1</td>\n",
       "      <td>0</td>\n",
       "      <td>0</td>\n",
       "      <td>1</td>\n",
       "      <td>0</td>\n",
       "      <td>1</td>\n",
       "      <td>0</td>\n",
       "      <td>0</td>\n",
       "      <td>0</td>\n",
       "      <td>1</td>\n",
       "    </tr>\n",
       "    <tr>\n",
       "      <th>16369</th>\n",
       "      <td>1</td>\n",
       "      <td>0</td>\n",
       "      <td>0</td>\n",
       "      <td>0</td>\n",
       "      <td>1</td>\n",
       "      <td>0</td>\n",
       "      <td>0</td>\n",
       "      <td>0</td>\n",
       "      <td>0</td>\n",
       "      <td>0</td>\n",
       "      <td>...</td>\n",
       "      <td>0</td>\n",
       "      <td>0</td>\n",
       "      <td>0</td>\n",
       "      <td>1</td>\n",
       "      <td>1</td>\n",
       "      <td>0</td>\n",
       "      <td>0</td>\n",
       "      <td>0</td>\n",
       "      <td>0</td>\n",
       "      <td>1</td>\n",
       "    </tr>\n",
       "  </tbody>\n",
       "</table>\n",
       "<p>5 rows × 27 columns</p>\n",
       "</div>"
      ],
      "text/plain": [
       "       Season_Fall  Season_Spring  Season_Summer  Season_Winter  \\\n",
       "16185            1              0              0              0   \n",
       "16254            1              0              0              0   \n",
       "16315            1              0              0              0   \n",
       "16337            1              0              0              0   \n",
       "16369            1              0              0              0   \n",
       "\n",
       "       Amateur_Built_No  Amateur_Built_Yes  Engine_Type_Reciprocating  \\\n",
       "16185                 1                  0                          1   \n",
       "16254                 1                  0                          1   \n",
       "16315                 0                  1                          1   \n",
       "16337                 1                  0                          1   \n",
       "16369                 1                  0                          0   \n",
       "\n",
       "       Engine_Type_Turbo Fan  Engine_Type_Turbo Jet  Engine_Type_Turbo Prop  \\\n",
       "16185                      0                      0                       0   \n",
       "16254                      0                      0                       0   \n",
       "16315                      0                      0                       0   \n",
       "16337                      0                      0                       0   \n",
       "16369                      0                      0                       0   \n",
       "\n",
       "            ...         Flight_Purpose_Personal  Flight_Purpose_Positioning  \\\n",
       "16185       ...                               1                           0   \n",
       "16254       ...                               0                           0   \n",
       "16315       ...                               1                           0   \n",
       "16337       ...                               1                           0   \n",
       "16369       ...                               0                           0   \n",
       "\n",
       "       Weather_Condition_IMC  Weather_Condition_VMC  \\\n",
       "16185                      0                      1   \n",
       "16254                      0                      1   \n",
       "16315                      0                      1   \n",
       "16337                      0                      1   \n",
       "16369                      0                      1   \n",
       "\n",
       "       Broad_Phase_of_Flight_INFLIGHT  Broad_Phase_of_Flight_LANDING  \\\n",
       "16185                               1                              0   \n",
       "16254                               0                              0   \n",
       "16315                               1                              0   \n",
       "16337                               0                              1   \n",
       "16369                               1                              0   \n",
       "\n",
       "       Broad_Phase_of_Flight_TAKEOFF  Broad_Phase_of_Flight_TAXI  \\\n",
       "16185                              0                           0   \n",
       "16254                              1                           0   \n",
       "16315                              0                           0   \n",
       "16337                              0                           0   \n",
       "16369                              0                           0   \n",
       "\n",
       "       Solo_Flight_No  Solo_Flight_Yes  \n",
       "16185               1                0  \n",
       "16254               1                0  \n",
       "16315               1                0  \n",
       "16337               0                1  \n",
       "16369               0                1  \n",
       "\n",
       "[5 rows x 27 columns]"
      ]
     },
     "execution_count": 68,
     "metadata": {},
     "output_type": "execute_result"
    }
   ],
   "source": [
    "dummy_df.head()"
   ]
  },
  {
   "cell_type": "code",
   "execution_count": 69,
   "metadata": {
    "ExecuteTime": {
     "end_time": "2018-08-05T00:28:50.410149Z",
     "start_time": "2018-08-05T00:28:50.376486Z"
    }
   },
   "outputs": [
    {
     "data": {
      "text/html": [
       "<div>\n",
       "<style scoped>\n",
       "    .dataframe tbody tr th:only-of-type {\n",
       "        vertical-align: middle;\n",
       "    }\n",
       "\n",
       "    .dataframe tbody tr th {\n",
       "        vertical-align: top;\n",
       "    }\n",
       "\n",
       "    .dataframe thead th {\n",
       "        text-align: right;\n",
       "    }\n",
       "</style>\n",
       "<table border=\"1\" class=\"dataframe\">\n",
       "  <thead>\n",
       "    <tr style=\"text-align: right;\">\n",
       "      <th></th>\n",
       "      <th>Event_Id</th>\n",
       "      <th>Investigation_Type</th>\n",
       "      <th>Event_Date</th>\n",
       "      <th>Country</th>\n",
       "      <th>Injury_Severity</th>\n",
       "      <th>Amateur_Built</th>\n",
       "      <th>Number_Engines</th>\n",
       "      <th>Engine_Type</th>\n",
       "      <th>Flight_Purpose</th>\n",
       "      <th>Total_Fatal_Injuries</th>\n",
       "      <th>...</th>\n",
       "      <th>Total_Uninjured</th>\n",
       "      <th>Weather_Condition</th>\n",
       "      <th>Broad_Phase_of_Flight</th>\n",
       "      <th>City</th>\n",
       "      <th>State</th>\n",
       "      <th>Total_Passengers</th>\n",
       "      <th>Solo_Flight</th>\n",
       "      <th>Was_Fatal</th>\n",
       "      <th>Month</th>\n",
       "      <th>Season</th>\n",
       "    </tr>\n",
       "  </thead>\n",
       "  <tbody>\n",
       "    <tr>\n",
       "      <th>16185</th>\n",
       "      <td>20081126X30503</td>\n",
       "      <td>Accident</td>\n",
       "      <td>2008-11-25</td>\n",
       "      <td>United States</td>\n",
       "      <td>Non-Fatal</td>\n",
       "      <td>No</td>\n",
       "      <td>1.0</td>\n",
       "      <td>Reciprocating</td>\n",
       "      <td>Personal</td>\n",
       "      <td>0.0</td>\n",
       "      <td>...</td>\n",
       "      <td>0.0</td>\n",
       "      <td>VMC</td>\n",
       "      <td>INFLIGHT</td>\n",
       "      <td>Monterey</td>\n",
       "      <td>CA</td>\n",
       "      <td>2.0</td>\n",
       "      <td>No</td>\n",
       "      <td>Non-fatal</td>\n",
       "      <td>11</td>\n",
       "      <td>Fall</td>\n",
       "    </tr>\n",
       "    <tr>\n",
       "      <th>16254</th>\n",
       "      <td>20081112X43029</td>\n",
       "      <td>Accident</td>\n",
       "      <td>2008-11-08</td>\n",
       "      <td>United States</td>\n",
       "      <td>Non-Fatal</td>\n",
       "      <td>No</td>\n",
       "      <td>1.0</td>\n",
       "      <td>Reciprocating</td>\n",
       "      <td>Instructional</td>\n",
       "      <td>0.0</td>\n",
       "      <td>...</td>\n",
       "      <td>2.0</td>\n",
       "      <td>VMC</td>\n",
       "      <td>TAKEOFF</td>\n",
       "      <td>Nacogdoches</td>\n",
       "      <td>TX</td>\n",
       "      <td>2.0</td>\n",
       "      <td>No</td>\n",
       "      <td>Non-fatal</td>\n",
       "      <td>11</td>\n",
       "      <td>Fall</td>\n",
       "    </tr>\n",
       "    <tr>\n",
       "      <th>16315</th>\n",
       "      <td>20081024X13647</td>\n",
       "      <td>Accident</td>\n",
       "      <td>2008-10-24</td>\n",
       "      <td>United States</td>\n",
       "      <td>Non-Fatal</td>\n",
       "      <td>Yes</td>\n",
       "      <td>1.0</td>\n",
       "      <td>Reciprocating</td>\n",
       "      <td>Personal</td>\n",
       "      <td>0.0</td>\n",
       "      <td>...</td>\n",
       "      <td>0.0</td>\n",
       "      <td>VMC</td>\n",
       "      <td>INFLIGHT</td>\n",
       "      <td>Breckenridge</td>\n",
       "      <td>TX</td>\n",
       "      <td>2.0</td>\n",
       "      <td>No</td>\n",
       "      <td>Non-fatal</td>\n",
       "      <td>10</td>\n",
       "      <td>Fall</td>\n",
       "    </tr>\n",
       "    <tr>\n",
       "      <th>16337</th>\n",
       "      <td>20081020X12359</td>\n",
       "      <td>Accident</td>\n",
       "      <td>2008-10-19</td>\n",
       "      <td>United States</td>\n",
       "      <td>Non-Fatal</td>\n",
       "      <td>No</td>\n",
       "      <td>1.0</td>\n",
       "      <td>Reciprocating</td>\n",
       "      <td>Personal</td>\n",
       "      <td>0.0</td>\n",
       "      <td>...</td>\n",
       "      <td>1.0</td>\n",
       "      <td>VMC</td>\n",
       "      <td>LANDING</td>\n",
       "      <td>Angleton</td>\n",
       "      <td>TX</td>\n",
       "      <td>1.0</td>\n",
       "      <td>Yes</td>\n",
       "      <td>Non-fatal</td>\n",
       "      <td>10</td>\n",
       "      <td>Fall</td>\n",
       "    </tr>\n",
       "    <tr>\n",
       "      <th>16369</th>\n",
       "      <td>20081012X91435</td>\n",
       "      <td>Accident</td>\n",
       "      <td>2008-10-10</td>\n",
       "      <td>United States</td>\n",
       "      <td>Non-Fatal</td>\n",
       "      <td>No</td>\n",
       "      <td>1.0</td>\n",
       "      <td>Turbo Shaft</td>\n",
       "      <td>Business</td>\n",
       "      <td>0.0</td>\n",
       "      <td>...</td>\n",
       "      <td>0.0</td>\n",
       "      <td>VMC</td>\n",
       "      <td>INFLIGHT</td>\n",
       "      <td>Cougar</td>\n",
       "      <td>WA</td>\n",
       "      <td>1.0</td>\n",
       "      <td>Yes</td>\n",
       "      <td>Non-fatal</td>\n",
       "      <td>10</td>\n",
       "      <td>Fall</td>\n",
       "    </tr>\n",
       "  </tbody>\n",
       "</table>\n",
       "<p>5 rows × 22 columns</p>\n",
       "</div>"
      ],
      "text/plain": [
       "             Event_Id Investigation_Type Event_Date        Country  \\\n",
       "16185  20081126X30503           Accident 2008-11-25  United States   \n",
       "16254  20081112X43029           Accident 2008-11-08  United States   \n",
       "16315  20081024X13647           Accident 2008-10-24  United States   \n",
       "16337  20081020X12359           Accident 2008-10-19  United States   \n",
       "16369  20081012X91435           Accident 2008-10-10  United States   \n",
       "\n",
       "      Injury_Severity Amateur_Built  Number_Engines    Engine_Type  \\\n",
       "16185       Non-Fatal            No             1.0  Reciprocating   \n",
       "16254       Non-Fatal            No             1.0  Reciprocating   \n",
       "16315       Non-Fatal           Yes             1.0  Reciprocating   \n",
       "16337       Non-Fatal            No             1.0  Reciprocating   \n",
       "16369       Non-Fatal            No             1.0    Turbo Shaft   \n",
       "\n",
       "      Flight_Purpose  Total_Fatal_Injuries  ...    Total_Uninjured  \\\n",
       "16185       Personal                   0.0  ...                0.0   \n",
       "16254  Instructional                   0.0  ...                2.0   \n",
       "16315       Personal                   0.0  ...                0.0   \n",
       "16337       Personal                   0.0  ...                1.0   \n",
       "16369       Business                   0.0  ...                0.0   \n",
       "\n",
       "       Weather_Condition  Broad_Phase_of_Flight          City State  \\\n",
       "16185                VMC               INFLIGHT      Monterey    CA   \n",
       "16254                VMC                TAKEOFF   Nacogdoches    TX   \n",
       "16315                VMC               INFLIGHT  Breckenridge    TX   \n",
       "16337                VMC                LANDING      Angleton    TX   \n",
       "16369                VMC               INFLIGHT        Cougar    WA   \n",
       "\n",
       "      Total_Passengers Solo_Flight  Was_Fatal Month Season  \n",
       "16185              2.0          No  Non-fatal    11   Fall  \n",
       "16254              2.0          No  Non-fatal    11   Fall  \n",
       "16315              2.0          No  Non-fatal    10   Fall  \n",
       "16337              1.0         Yes  Non-fatal    10   Fall  \n",
       "16369              1.0         Yes  Non-fatal    10   Fall  \n",
       "\n",
       "[5 rows x 22 columns]"
      ]
     },
     "execution_count": 69,
     "metadata": {},
     "output_type": "execute_result"
    }
   ],
   "source": [
    "real_df.head()"
   ]
  },
  {
   "cell_type": "code",
   "execution_count": 70,
   "metadata": {
    "ExecuteTime": {
     "end_time": "2018-08-05T00:28:50.429411Z",
     "start_time": "2018-08-05T00:28:50.412021Z"
    }
   },
   "outputs": [],
   "source": [
    "real_df = real_df.join(dummy_df)"
   ]
  },
  {
   "cell_type": "code",
   "execution_count": 71,
   "metadata": {
    "ExecuteTime": {
     "end_time": "2018-08-05T00:28:50.456834Z",
     "start_time": "2018-08-05T00:28:50.431551Z"
    }
   },
   "outputs": [
    {
     "data": {
      "text/html": [
       "<div>\n",
       "<style scoped>\n",
       "    .dataframe tbody tr th:only-of-type {\n",
       "        vertical-align: middle;\n",
       "    }\n",
       "\n",
       "    .dataframe tbody tr th {\n",
       "        vertical-align: top;\n",
       "    }\n",
       "\n",
       "    .dataframe thead th {\n",
       "        text-align: right;\n",
       "    }\n",
       "</style>\n",
       "<table border=\"1\" class=\"dataframe\">\n",
       "  <thead>\n",
       "    <tr style=\"text-align: right;\">\n",
       "      <th></th>\n",
       "      <th>Event_Id</th>\n",
       "      <th>Investigation_Type</th>\n",
       "      <th>Event_Date</th>\n",
       "      <th>Country</th>\n",
       "      <th>Injury_Severity</th>\n",
       "      <th>Amateur_Built</th>\n",
       "      <th>Number_Engines</th>\n",
       "      <th>Engine_Type</th>\n",
       "      <th>Flight_Purpose</th>\n",
       "      <th>Total_Fatal_Injuries</th>\n",
       "      <th>...</th>\n",
       "      <th>Flight_Purpose_Personal</th>\n",
       "      <th>Flight_Purpose_Positioning</th>\n",
       "      <th>Weather_Condition_IMC</th>\n",
       "      <th>Weather_Condition_VMC</th>\n",
       "      <th>Broad_Phase_of_Flight_INFLIGHT</th>\n",
       "      <th>Broad_Phase_of_Flight_LANDING</th>\n",
       "      <th>Broad_Phase_of_Flight_TAKEOFF</th>\n",
       "      <th>Broad_Phase_of_Flight_TAXI</th>\n",
       "      <th>Solo_Flight_No</th>\n",
       "      <th>Solo_Flight_Yes</th>\n",
       "    </tr>\n",
       "  </thead>\n",
       "  <tbody>\n",
       "    <tr>\n",
       "      <th>16185</th>\n",
       "      <td>20081126X30503</td>\n",
       "      <td>Accident</td>\n",
       "      <td>2008-11-25</td>\n",
       "      <td>United States</td>\n",
       "      <td>Non-Fatal</td>\n",
       "      <td>No</td>\n",
       "      <td>1.0</td>\n",
       "      <td>Reciprocating</td>\n",
       "      <td>Personal</td>\n",
       "      <td>0.0</td>\n",
       "      <td>...</td>\n",
       "      <td>1</td>\n",
       "      <td>0</td>\n",
       "      <td>0</td>\n",
       "      <td>1</td>\n",
       "      <td>1</td>\n",
       "      <td>0</td>\n",
       "      <td>0</td>\n",
       "      <td>0</td>\n",
       "      <td>1</td>\n",
       "      <td>0</td>\n",
       "    </tr>\n",
       "    <tr>\n",
       "      <th>16254</th>\n",
       "      <td>20081112X43029</td>\n",
       "      <td>Accident</td>\n",
       "      <td>2008-11-08</td>\n",
       "      <td>United States</td>\n",
       "      <td>Non-Fatal</td>\n",
       "      <td>No</td>\n",
       "      <td>1.0</td>\n",
       "      <td>Reciprocating</td>\n",
       "      <td>Instructional</td>\n",
       "      <td>0.0</td>\n",
       "      <td>...</td>\n",
       "      <td>0</td>\n",
       "      <td>0</td>\n",
       "      <td>0</td>\n",
       "      <td>1</td>\n",
       "      <td>0</td>\n",
       "      <td>0</td>\n",
       "      <td>1</td>\n",
       "      <td>0</td>\n",
       "      <td>1</td>\n",
       "      <td>0</td>\n",
       "    </tr>\n",
       "    <tr>\n",
       "      <th>16315</th>\n",
       "      <td>20081024X13647</td>\n",
       "      <td>Accident</td>\n",
       "      <td>2008-10-24</td>\n",
       "      <td>United States</td>\n",
       "      <td>Non-Fatal</td>\n",
       "      <td>Yes</td>\n",
       "      <td>1.0</td>\n",
       "      <td>Reciprocating</td>\n",
       "      <td>Personal</td>\n",
       "      <td>0.0</td>\n",
       "      <td>...</td>\n",
       "      <td>1</td>\n",
       "      <td>0</td>\n",
       "      <td>0</td>\n",
       "      <td>1</td>\n",
       "      <td>1</td>\n",
       "      <td>0</td>\n",
       "      <td>0</td>\n",
       "      <td>0</td>\n",
       "      <td>1</td>\n",
       "      <td>0</td>\n",
       "    </tr>\n",
       "    <tr>\n",
       "      <th>16337</th>\n",
       "      <td>20081020X12359</td>\n",
       "      <td>Accident</td>\n",
       "      <td>2008-10-19</td>\n",
       "      <td>United States</td>\n",
       "      <td>Non-Fatal</td>\n",
       "      <td>No</td>\n",
       "      <td>1.0</td>\n",
       "      <td>Reciprocating</td>\n",
       "      <td>Personal</td>\n",
       "      <td>0.0</td>\n",
       "      <td>...</td>\n",
       "      <td>1</td>\n",
       "      <td>0</td>\n",
       "      <td>0</td>\n",
       "      <td>1</td>\n",
       "      <td>0</td>\n",
       "      <td>1</td>\n",
       "      <td>0</td>\n",
       "      <td>0</td>\n",
       "      <td>0</td>\n",
       "      <td>1</td>\n",
       "    </tr>\n",
       "    <tr>\n",
       "      <th>16369</th>\n",
       "      <td>20081012X91435</td>\n",
       "      <td>Accident</td>\n",
       "      <td>2008-10-10</td>\n",
       "      <td>United States</td>\n",
       "      <td>Non-Fatal</td>\n",
       "      <td>No</td>\n",
       "      <td>1.0</td>\n",
       "      <td>Turbo Shaft</td>\n",
       "      <td>Business</td>\n",
       "      <td>0.0</td>\n",
       "      <td>...</td>\n",
       "      <td>0</td>\n",
       "      <td>0</td>\n",
       "      <td>0</td>\n",
       "      <td>1</td>\n",
       "      <td>1</td>\n",
       "      <td>0</td>\n",
       "      <td>0</td>\n",
       "      <td>0</td>\n",
       "      <td>0</td>\n",
       "      <td>1</td>\n",
       "    </tr>\n",
       "  </tbody>\n",
       "</table>\n",
       "<p>5 rows × 49 columns</p>\n",
       "</div>"
      ],
      "text/plain": [
       "             Event_Id Investigation_Type Event_Date        Country  \\\n",
       "16185  20081126X30503           Accident 2008-11-25  United States   \n",
       "16254  20081112X43029           Accident 2008-11-08  United States   \n",
       "16315  20081024X13647           Accident 2008-10-24  United States   \n",
       "16337  20081020X12359           Accident 2008-10-19  United States   \n",
       "16369  20081012X91435           Accident 2008-10-10  United States   \n",
       "\n",
       "      Injury_Severity Amateur_Built  Number_Engines    Engine_Type  \\\n",
       "16185       Non-Fatal            No             1.0  Reciprocating   \n",
       "16254       Non-Fatal            No             1.0  Reciprocating   \n",
       "16315       Non-Fatal           Yes             1.0  Reciprocating   \n",
       "16337       Non-Fatal            No             1.0  Reciprocating   \n",
       "16369       Non-Fatal            No             1.0    Turbo Shaft   \n",
       "\n",
       "      Flight_Purpose  Total_Fatal_Injuries       ...        \\\n",
       "16185       Personal                   0.0       ...         \n",
       "16254  Instructional                   0.0       ...         \n",
       "16315       Personal                   0.0       ...         \n",
       "16337       Personal                   0.0       ...         \n",
       "16369       Business                   0.0       ...         \n",
       "\n",
       "       Flight_Purpose_Personal  Flight_Purpose_Positioning  \\\n",
       "16185                        1                           0   \n",
       "16254                        0                           0   \n",
       "16315                        1                           0   \n",
       "16337                        1                           0   \n",
       "16369                        0                           0   \n",
       "\n",
       "       Weather_Condition_IMC Weather_Condition_VMC  \\\n",
       "16185                      0                     1   \n",
       "16254                      0                     1   \n",
       "16315                      0                     1   \n",
       "16337                      0                     1   \n",
       "16369                      0                     1   \n",
       "\n",
       "      Broad_Phase_of_Flight_INFLIGHT Broad_Phase_of_Flight_LANDING  \\\n",
       "16185                              1                             0   \n",
       "16254                              0                             0   \n",
       "16315                              1                             0   \n",
       "16337                              0                             1   \n",
       "16369                              1                             0   \n",
       "\n",
       "      Broad_Phase_of_Flight_TAKEOFF  Broad_Phase_of_Flight_TAXI  \\\n",
       "16185                             0                           0   \n",
       "16254                             1                           0   \n",
       "16315                             0                           0   \n",
       "16337                             0                           0   \n",
       "16369                             0                           0   \n",
       "\n",
       "      Solo_Flight_No Solo_Flight_Yes  \n",
       "16185              1               0  \n",
       "16254              1               0  \n",
       "16315              1               0  \n",
       "16337              0               1  \n",
       "16369              0               1  \n",
       "\n",
       "[5 rows x 49 columns]"
      ]
     },
     "execution_count": 71,
     "metadata": {},
     "output_type": "execute_result"
    }
   ],
   "source": [
    "real_df.head()"
   ]
  },
  {
   "cell_type": "code",
   "execution_count": 72,
   "metadata": {
    "ExecuteTime": {
     "end_time": "2018-08-05T00:28:50.569649Z",
     "start_time": "2018-08-05T00:28:50.459065Z"
    }
   },
   "outputs": [
    {
     "name": "stdout",
     "output_type": "stream",
     "text": [
      "<class 'pandas.core.frame.DataFrame'>\n",
      "Int64Index: 46404 entries, 16185 to 81895\n",
      "Data columns (total 49 columns):\n",
      "Event_Id                             46404 non-null object\n",
      "Investigation_Type                   46404 non-null object\n",
      "Event_Date                           46404 non-null datetime64[ns]\n",
      "Country                              46404 non-null object\n",
      "Injury_Severity                      46404 non-null object\n",
      "Amateur_Built                        46404 non-null object\n",
      "Number_Engines                       46404 non-null float64\n",
      "Engine_Type                          46404 non-null object\n",
      "Flight_Purpose                       46404 non-null object\n",
      "Total_Fatal_Injuries                 46404 non-null float64\n",
      "Total_Serious_Injuries               46404 non-null float64\n",
      "Total_Minor_Injuries                 46404 non-null float64\n",
      "Total_Uninjured                      46404 non-null float64\n",
      "Weather_Condition                    46404 non-null object\n",
      "Broad_Phase_of_Flight                46404 non-null object\n",
      "City                                 46404 non-null object\n",
      "State                                46404 non-null object\n",
      "Total_Passengers                     46404 non-null float64\n",
      "Solo_Flight                          46404 non-null object\n",
      "Was_Fatal                            46404 non-null object\n",
      "Month                                46404 non-null int64\n",
      "Season                               46404 non-null object\n",
      "Season_Fall                          46404 non-null uint8\n",
      "Season_Spring                        46404 non-null uint8\n",
      "Season_Summer                        46404 non-null uint8\n",
      "Season_Winter                        46404 non-null uint8\n",
      "Amateur_Built_No                     46404 non-null uint8\n",
      "Amateur_Built_Yes                    46404 non-null uint8\n",
      "Engine_Type_Reciprocating            46404 non-null uint8\n",
      "Engine_Type_Turbo Fan                46404 non-null uint8\n",
      "Engine_Type_Turbo Jet                46404 non-null uint8\n",
      "Engine_Type_Turbo Prop               46404 non-null uint8\n",
      "Engine_Type_Turbo Shaft              46404 non-null uint8\n",
      "Engine_Type_Unknown                  46404 non-null uint8\n",
      "Flight_Purpose_Aerial Application    46404 non-null uint8\n",
      "Flight_Purpose_Business              46404 non-null uint8\n",
      "Flight_Purpose_Ferry                 46404 non-null uint8\n",
      "Flight_Purpose_Instructional         46404 non-null uint8\n",
      "Flight_Purpose_Other                 46404 non-null uint8\n",
      "Flight_Purpose_Personal              46404 non-null uint8\n",
      "Flight_Purpose_Positioning           46404 non-null uint8\n",
      "Weather_Condition_IMC                46404 non-null uint8\n",
      "Weather_Condition_VMC                46404 non-null uint8\n",
      "Broad_Phase_of_Flight_INFLIGHT       46404 non-null uint8\n",
      "Broad_Phase_of_Flight_LANDING        46404 non-null uint8\n",
      "Broad_Phase_of_Flight_TAKEOFF        46404 non-null uint8\n",
      "Broad_Phase_of_Flight_TAXI           46404 non-null uint8\n",
      "Solo_Flight_No                       46404 non-null uint8\n",
      "Solo_Flight_Yes                      46404 non-null uint8\n",
      "dtypes: datetime64[ns](1), float64(6), int64(1), object(14), uint8(27)\n",
      "memory usage: 10.6+ MB\n"
     ]
    }
   ],
   "source": [
    "real_df.info()"
   ]
  },
  {
   "cell_type": "code",
   "execution_count": 73,
   "metadata": {
    "ExecuteTime": {
     "end_time": "2018-08-05T00:28:50.575912Z",
     "start_time": "2018-08-05T00:28:50.571695Z"
    }
   },
   "outputs": [
    {
     "data": {
      "text/plain": [
       "Index(['Event_Id', 'Investigation_Type', 'Event_Date', 'Country',\n",
       "       'Injury_Severity', 'Amateur_Built', 'Number_Engines', 'Engine_Type',\n",
       "       'Flight_Purpose', 'Total_Fatal_Injuries', 'Total_Serious_Injuries',\n",
       "       'Total_Minor_Injuries', 'Total_Uninjured', 'Weather_Condition',\n",
       "       'Broad_Phase_of_Flight', 'City', 'State', 'Total_Passengers',\n",
       "       'Solo_Flight', 'Was_Fatal', 'Month', 'Season', 'Season_Fall',\n",
       "       'Season_Spring', 'Season_Summer', 'Season_Winter', 'Amateur_Built_No',\n",
       "       'Amateur_Built_Yes', 'Engine_Type_Reciprocating',\n",
       "       'Engine_Type_Turbo Fan', 'Engine_Type_Turbo Jet',\n",
       "       'Engine_Type_Turbo Prop', 'Engine_Type_Turbo Shaft',\n",
       "       'Engine_Type_Unknown', 'Flight_Purpose_Aerial Application',\n",
       "       'Flight_Purpose_Business', 'Flight_Purpose_Ferry',\n",
       "       'Flight_Purpose_Instructional', 'Flight_Purpose_Other',\n",
       "       'Flight_Purpose_Personal', 'Flight_Purpose_Positioning',\n",
       "       'Weather_Condition_IMC', 'Weather_Condition_VMC',\n",
       "       'Broad_Phase_of_Flight_INFLIGHT', 'Broad_Phase_of_Flight_LANDING',\n",
       "       'Broad_Phase_of_Flight_TAKEOFF', 'Broad_Phase_of_Flight_TAXI',\n",
       "       'Solo_Flight_No', 'Solo_Flight_Yes'],\n",
       "      dtype='object')"
      ]
     },
     "execution_count": 73,
     "metadata": {},
     "output_type": "execute_result"
    }
   ],
   "source": [
    "real_df.columns"
   ]
  },
  {
   "cell_type": "code",
   "execution_count": 74,
   "metadata": {
    "ExecuteTime": {
     "end_time": "2018-08-05T00:28:50.596398Z",
     "start_time": "2018-08-05T00:28:50.577697Z"
    }
   },
   "outputs": [
    {
     "name": "stdout",
     "output_type": "stream",
     "text": [
      "Non-Fatal: 38118\n",
      "Fatal: 8286\n",
      "Proportion: 4.6 : 1\n",
      "Percentage of Majority Class: 82.14\n"
     ]
    }
   ],
   "source": [
    "target_count = real_df['Was_Fatal'].value_counts()\n",
    "print(f'Non-Fatal: {target_count[0]}')\n",
    "print(f'Fatal: {target_count[1]}')\n",
    "print(f'Proportion: {round(target_count[0] / target_count[1], 2)} : 1')\n",
    "print(f'Percentage of Majority Class: {round(target_count[0] / sum(target_count), 4)*100}')"
   ]
  },
  {
   "cell_type": "code",
   "execution_count": 75,
   "metadata": {
    "ExecuteTime": {
     "end_time": "2018-08-05T00:28:50.755527Z",
     "start_time": "2018-08-05T00:28:50.599016Z"
    }
   },
   "outputs": [
    {
     "data": {
      "image/png": "[encoded data removed]",
      "text/plain": [
       "<Figure size 864x576 with 1 Axes>"
      ]
     },
     "metadata": {},
     "output_type": "display_data"
    }
   ],
   "source": [
    "target_count.plot(kind='bar', title='Class Count', rot=0);\n",
    "plt.gcf().set_size_inches(12,8)"
   ]
  },
  {
   "cell_type": "code",
   "execution_count": 76,
   "metadata": {
    "ExecuteTime": {
     "end_time": "2018-08-05T00:28:50.772748Z",
     "start_time": "2018-08-05T00:28:50.757244Z"
    }
   },
   "outputs": [],
   "source": [
    "def print_confusion_matrix(confusion_matrix, class_names, figsize = (10,7), fontsize=18):\n",
    "    \"\"\"Prints a confusion matrix, as returned by sklearn.metrics.confusion_matrix, as a heatmap.\n",
    "    \n",
    "    Arguments\n",
    "    ---------\n",
    "    confusion_matrix: numpy.ndarray\n",
    "        The numpy.ndarray object returned from a call to sklearn.metrics.confusion_matrix. \n",
    "        Similarly constructed ndarrays can also be used.\n",
    "    class_names: list\n",
    "        An ordered list of class names, in the order they index the given confusion matrix.\n",
    "    figsize: tuple\n",
    "        A 2-long tuple, the first value determining the horizontal size of the ouputted figure,\n",
    "        the second determining the vertical size. Defaults to (10,7).\n",
    "    fontsize: int\n",
    "        Font size for axes labels. Defaults to 14.\n",
    "        \n",
    "    Returns\n",
    "    -------\n",
    "    matplotlib.figure.Figure\n",
    "        The resulting confusion matrix figure\n",
    "    \"\"\"\n",
    "    df_cm = pd.DataFrame(\n",
    "        confusion_matrix, index=class_names, columns=class_names, \n",
    "    )\n",
    "    fig = plt.figure(figsize=figsize)\n",
    "    try:\n",
    "        heatmap = sns.heatmap(df_cm, annot=True, fmt=\"d\")\n",
    "    except ValueError:\n",
    "        raise ValueError(\"Confusion matrix values must be integers.\")\n",
    "    heatmap.yaxis.set_ticklabels(heatmap.yaxis.get_ticklabels(), rotation=0, ha='right', fontsize=fontsize)\n",
    "    heatmap.xaxis.set_ticklabels(heatmap.xaxis.get_ticklabels(), rotation=45, ha='right', fontsize=fontsize)\n",
    "    plt.ylabel('True label')\n",
    "    plt.xlabel('Predicted label')\n",
    "    return fig"
   ]
  },
  {
   "cell_type": "code",
   "execution_count": 77,
   "metadata": {
    "ExecuteTime": {
     "end_time": "2018-08-05T00:28:52.268291Z",
     "start_time": "2018-08-05T00:28:50.774592Z"
    }
   },
   "outputs": [
    {
     "data": {
      "image/png": "[encoded data removed]",
      "text/plain": [
       "<Figure size 802.125x720 with 6 Axes>"
      ]
     },
     "metadata": {},
     "output_type": "display_data"
    }
   ],
   "source": [
    "numerical_df = real_df[['Number_Engines','Total_Passengers','Was_Fatal']]\n",
    "\n",
    "sns.pairplot(numerical_df, hue='Was_Fatal', size=5);"
   ]
  },
  {
   "cell_type": "code",
   "execution_count": 78,
   "metadata": {
    "ExecuteTime": {
     "end_time": "2018-08-05T00:28:58.850477Z",
     "start_time": "2018-08-05T00:28:52.270154Z"
    }
   },
   "outputs": [
    {
     "data": {
      "image/png": "[encoded data removed]",
      "text/plain": [
       "<Figure size 802.125x720 with 20 Axes>"
      ]
     },
     "metadata": {},
     "output_type": "display_data"
    }
   ],
   "source": [
    "season_df = real_df[['Was_Fatal','Season_Fall',\n",
    "       'Season_Spring', 'Season_Summer', 'Season_Winter']]\n",
    "\n",
    "sns.pairplot(season_df, hue='Was_Fatal');"
   ]
  },
  {
   "cell_type": "code",
   "execution_count": 79,
   "metadata": {
    "ExecuteTime": {
     "end_time": "2018-08-05T00:29:00.358792Z",
     "start_time": "2018-08-05T00:28:58.852686Z"
    }
   },
   "outputs": [
    {
     "data": {
      "image/png": "[encoded data removed]",
      "text/plain": [
       "<Figure size 802.125x720 with 6 Axes>"
      ]
     },
     "metadata": {},
     "output_type": "display_data"
    }
   ],
   "source": [
    "amateur_df = real_df[['Was_Fatal','Amateur_Built_No', 'Amateur_Built_Yes']]\n",
    "\n",
    "sns.pairplot(amateur_df, hue='Was_Fatal', size=5);"
   ]
  },
  {
   "cell_type": "markdown",
   "metadata": {},
   "source": [
    "# END OF EDA / START OF ANALYSIS"
   ]
  },
  {
   "cell_type": "code",
   "execution_count": 80,
   "metadata": {
    "ExecuteTime": {
     "end_time": "2018-08-05T00:29:00.429838Z",
     "start_time": "2018-08-05T00:29:00.361002Z"
    }
   },
   "outputs": [],
   "source": [
    "y = real_df['Was_Fatal']\n",
    "X = real_df[['Number_Engines','Total_Passengers', 'Season_Fall',\n",
    "       'Season_Spring', 'Season_Summer', 'Season_Winter', 'Amateur_Built_No', 'Amateur_Built_Yes',\n",
    "       'Engine_Type_Reciprocating', 'Engine_Type_Turbo Fan',\n",
    "       'Engine_Type_Turbo Jet', 'Engine_Type_Turbo Prop',\n",
    "       'Engine_Type_Turbo Shaft', 'Engine_Type_Unknown',\n",
    "       'Flight_Purpose_Aerial Application', 'Flight_Purpose_Business',\n",
    "       'Flight_Purpose_Ferry', 'Flight_Purpose_Instructional',\n",
    "       'Flight_Purpose_Other', 'Flight_Purpose_Personal',\n",
    "       'Flight_Purpose_Positioning', 'Weather_Condition_IMC', 'Weather_Condition_VMC',\n",
    "       'Broad_Phase_of_Flight_INFLIGHT', 'Broad_Phase_of_Flight_LANDING',\n",
    "       'Broad_Phase_of_Flight_TAKEOFF', 'Broad_Phase_of_Flight_TAXI',\n",
    "       'Solo_Flight_No', 'Solo_Flight_Yes']]\n",
    "\n",
    "\n",
    "X_train, X_FINALtest, y_train, y_FINALtest = train_test_split(X, y, test_size=0.25, random_state=4444, stratify=y)"
   ]
  },
  {
   "cell_type": "code",
   "execution_count": 81,
   "metadata": {
    "ExecuteTime": {
     "end_time": "2018-08-05T00:29:00.454845Z",
     "start_time": "2018-08-05T00:29:00.432376Z"
    }
   },
   "outputs": [
    {
     "data": {
      "text/html": [
       "<div>\n",
       "<style scoped>\n",
       "    .dataframe tbody tr th:only-of-type {\n",
       "        vertical-align: middle;\n",
       "    }\n",
       "\n",
       "    .dataframe tbody tr th {\n",
       "        vertical-align: top;\n",
       "    }\n",
       "\n",
       "    .dataframe thead th {\n",
       "        text-align: right;\n",
       "    }\n",
       "</style>\n",
       "<table border=\"1\" class=\"dataframe\">\n",
       "  <thead>\n",
       "    <tr style=\"text-align: right;\">\n",
       "      <th></th>\n",
       "      <th>Number_Engines</th>\n",
       "      <th>Total_Passengers</th>\n",
       "      <th>Season_Fall</th>\n",
       "      <th>Season_Spring</th>\n",
       "      <th>Season_Summer</th>\n",
       "      <th>Season_Winter</th>\n",
       "      <th>Amateur_Built_No</th>\n",
       "      <th>Amateur_Built_Yes</th>\n",
       "      <th>Engine_Type_Reciprocating</th>\n",
       "      <th>Engine_Type_Turbo Fan</th>\n",
       "      <th>...</th>\n",
       "      <th>Flight_Purpose_Personal</th>\n",
       "      <th>Flight_Purpose_Positioning</th>\n",
       "      <th>Weather_Condition_IMC</th>\n",
       "      <th>Weather_Condition_VMC</th>\n",
       "      <th>Broad_Phase_of_Flight_INFLIGHT</th>\n",
       "      <th>Broad_Phase_of_Flight_LANDING</th>\n",
       "      <th>Broad_Phase_of_Flight_TAKEOFF</th>\n",
       "      <th>Broad_Phase_of_Flight_TAXI</th>\n",
       "      <th>Solo_Flight_No</th>\n",
       "      <th>Solo_Flight_Yes</th>\n",
       "    </tr>\n",
       "  </thead>\n",
       "  <tbody>\n",
       "    <tr>\n",
       "      <th>72375</th>\n",
       "      <td>1.0</td>\n",
       "      <td>5.0</td>\n",
       "      <td>0</td>\n",
       "      <td>0</td>\n",
       "      <td>1</td>\n",
       "      <td>0</td>\n",
       "      <td>1</td>\n",
       "      <td>0</td>\n",
       "      <td>1</td>\n",
       "      <td>0</td>\n",
       "      <td>...</td>\n",
       "      <td>1</td>\n",
       "      <td>0</td>\n",
       "      <td>0</td>\n",
       "      <td>1</td>\n",
       "      <td>0</td>\n",
       "      <td>0</td>\n",
       "      <td>0</td>\n",
       "      <td>1</td>\n",
       "      <td>1</td>\n",
       "      <td>0</td>\n",
       "    </tr>\n",
       "    <tr>\n",
       "      <th>60461</th>\n",
       "      <td>1.0</td>\n",
       "      <td>2.0</td>\n",
       "      <td>1</td>\n",
       "      <td>0</td>\n",
       "      <td>0</td>\n",
       "      <td>0</td>\n",
       "      <td>1</td>\n",
       "      <td>0</td>\n",
       "      <td>1</td>\n",
       "      <td>0</td>\n",
       "      <td>...</td>\n",
       "      <td>1</td>\n",
       "      <td>0</td>\n",
       "      <td>0</td>\n",
       "      <td>1</td>\n",
       "      <td>0</td>\n",
       "      <td>0</td>\n",
       "      <td>1</td>\n",
       "      <td>0</td>\n",
       "      <td>1</td>\n",
       "      <td>0</td>\n",
       "    </tr>\n",
       "    <tr>\n",
       "      <th>52151</th>\n",
       "      <td>1.0</td>\n",
       "      <td>2.0</td>\n",
       "      <td>0</td>\n",
       "      <td>0</td>\n",
       "      <td>0</td>\n",
       "      <td>1</td>\n",
       "      <td>1</td>\n",
       "      <td>0</td>\n",
       "      <td>1</td>\n",
       "      <td>0</td>\n",
       "      <td>...</td>\n",
       "      <td>1</td>\n",
       "      <td>0</td>\n",
       "      <td>0</td>\n",
       "      <td>1</td>\n",
       "      <td>0</td>\n",
       "      <td>0</td>\n",
       "      <td>1</td>\n",
       "      <td>0</td>\n",
       "      <td>1</td>\n",
       "      <td>0</td>\n",
       "    </tr>\n",
       "    <tr>\n",
       "      <th>64397</th>\n",
       "      <td>1.0</td>\n",
       "      <td>1.0</td>\n",
       "      <td>0</td>\n",
       "      <td>1</td>\n",
       "      <td>0</td>\n",
       "      <td>0</td>\n",
       "      <td>1</td>\n",
       "      <td>0</td>\n",
       "      <td>1</td>\n",
       "      <td>0</td>\n",
       "      <td>...</td>\n",
       "      <td>0</td>\n",
       "      <td>0</td>\n",
       "      <td>0</td>\n",
       "      <td>1</td>\n",
       "      <td>1</td>\n",
       "      <td>0</td>\n",
       "      <td>0</td>\n",
       "      <td>0</td>\n",
       "      <td>0</td>\n",
       "      <td>1</td>\n",
       "    </tr>\n",
       "    <tr>\n",
       "      <th>35226</th>\n",
       "      <td>1.0</td>\n",
       "      <td>1.0</td>\n",
       "      <td>0</td>\n",
       "      <td>0</td>\n",
       "      <td>1</td>\n",
       "      <td>0</td>\n",
       "      <td>1</td>\n",
       "      <td>0</td>\n",
       "      <td>1</td>\n",
       "      <td>0</td>\n",
       "      <td>...</td>\n",
       "      <td>0</td>\n",
       "      <td>0</td>\n",
       "      <td>0</td>\n",
       "      <td>1</td>\n",
       "      <td>0</td>\n",
       "      <td>1</td>\n",
       "      <td>0</td>\n",
       "      <td>0</td>\n",
       "      <td>0</td>\n",
       "      <td>1</td>\n",
       "    </tr>\n",
       "  </tbody>\n",
       "</table>\n",
       "<p>5 rows × 29 columns</p>\n",
       "</div>"
      ],
      "text/plain": [
       "       Number_Engines  Total_Passengers  Season_Fall  Season_Spring  \\\n",
       "72375             1.0               5.0            0              0   \n",
       "60461             1.0               2.0            1              0   \n",
       "52151             1.0               2.0            0              0   \n",
       "64397             1.0               1.0            0              1   \n",
       "35226             1.0               1.0            0              0   \n",
       "\n",
       "       Season_Summer  Season_Winter  Amateur_Built_No  Amateur_Built_Yes  \\\n",
       "72375              1              0                 1                  0   \n",
       "60461              0              0                 1                  0   \n",
       "52151              0              1                 1                  0   \n",
       "64397              0              0                 1                  0   \n",
       "35226              1              0                 1                  0   \n",
       "\n",
       "       Engine_Type_Reciprocating  Engine_Type_Turbo Fan       ...         \\\n",
       "72375                          1                      0       ...          \n",
       "60461                          1                      0       ...          \n",
       "52151                          1                      0       ...          \n",
       "64397                          1                      0       ...          \n",
       "35226                          1                      0       ...          \n",
       "\n",
       "       Flight_Purpose_Personal  Flight_Purpose_Positioning  \\\n",
       "72375                        1                           0   \n",
       "60461                        1                           0   \n",
       "52151                        1                           0   \n",
       "64397                        0                           0   \n",
       "35226                        0                           0   \n",
       "\n",
       "       Weather_Condition_IMC  Weather_Condition_VMC  \\\n",
       "72375                      0                      1   \n",
       "60461                      0                      1   \n",
       "52151                      0                      1   \n",
       "64397                      0                      1   \n",
       "35226                      0                      1   \n",
       "\n",
       "       Broad_Phase_of_Flight_INFLIGHT  Broad_Phase_of_Flight_LANDING  \\\n",
       "72375                               0                              0   \n",
       "60461                               0                              0   \n",
       "52151                               0                              0   \n",
       "64397                               1                              0   \n",
       "35226                               0                              1   \n",
       "\n",
       "       Broad_Phase_of_Flight_TAKEOFF  Broad_Phase_of_Flight_TAXI  \\\n",
       "72375                              0                           1   \n",
       "60461                              1                           0   \n",
       "52151                              1                           0   \n",
       "64397                              0                           0   \n",
       "35226                              0                           0   \n",
       "\n",
       "       Solo_Flight_No  Solo_Flight_Yes  \n",
       "72375               1                0  \n",
       "60461               1                0  \n",
       "52151               1                0  \n",
       "64397               0                1  \n",
       "35226               0                1  \n",
       "\n",
       "[5 rows x 29 columns]"
      ]
     },
     "execution_count": 81,
     "metadata": {},
     "output_type": "execute_result"
    }
   ],
   "source": [
    "X_train.head()"
   ]
  },
  {
   "cell_type": "code",
   "execution_count": 82,
   "metadata": {
    "ExecuteTime": {
     "end_time": "2018-08-05T00:29:00.576461Z",
     "start_time": "2018-08-05T00:29:00.457305Z"
    }
   },
   "outputs": [],
   "source": [
    "ssX = StandardScaler()\n",
    "X_train_scalable = X_train.filter(['Number_Engines','Total_Passengers'], axis=1)\n",
    "X_train_scaled_columns = pd.DataFrame(ssX.fit_transform(X_train_scalable), columns = ['Number_Engines_Scaled','Total_Passengers_Scaled'])\n",
    "\n",
    "X_train.reset_index(inplace=True)\n",
    "X_train = X_train.join(X_train_scaled_columns)\n",
    "X_train = X_train.drop(['Number_Engines','Total_Passengers'],1)\n",
    "\n",
    "X_train = X_train.set_index('index')\n",
    "\n",
    "X_test_scalable = X_FINALtest.filter(['Number_Engines','Total_Passengers'], axis=1)\n",
    "X_test_scaled_columns = pd.DataFrame(ssX.transform(X_test_scalable), columns = ['Number_Engines_Scaled','Total_Passengers_Scaled'])\n",
    "\n",
    "X_FINALtest.reset_index(inplace=True)\n",
    "X_FINALtest = X_FINALtest.join(X_test_scaled_columns)\n",
    "X_FINALtest = X_FINALtest.drop(['Number_Engines','Total_Passengers'],1)\n",
    "\n",
    "X_FINALtest = X_FINALtest.set_index('index')"
   ]
  },
  {
   "cell_type": "code",
   "execution_count": 83,
   "metadata": {
    "ExecuteTime": {
     "end_time": "2018-08-05T00:29:00.616013Z",
     "start_time": "2018-08-05T00:29:00.578774Z"
    }
   },
   "outputs": [
    {
     "name": "stdout",
     "output_type": "stream",
     "text": [
      "<class 'pandas.core.frame.DataFrame'>\n",
      "Int64Index: 34803 entries, 72375 to 70075\n",
      "Data columns (total 29 columns):\n",
      "Season_Fall                          34803 non-null uint8\n",
      "Season_Spring                        34803 non-null uint8\n",
      "Season_Summer                        34803 non-null uint8\n",
      "Season_Winter                        34803 non-null uint8\n",
      "Amateur_Built_No                     34803 non-null uint8\n",
      "Amateur_Built_Yes                    34803 non-null uint8\n",
      "Engine_Type_Reciprocating            34803 non-null uint8\n",
      "Engine_Type_Turbo Fan                34803 non-null uint8\n",
      "Engine_Type_Turbo Jet                34803 non-null uint8\n",
      "Engine_Type_Turbo Prop               34803 non-null uint8\n",
      "Engine_Type_Turbo Shaft              34803 non-null uint8\n",
      "Engine_Type_Unknown                  34803 non-null uint8\n",
      "Flight_Purpose_Aerial Application    34803 non-null uint8\n",
      "Flight_Purpose_Business              34803 non-null uint8\n",
      "Flight_Purpose_Ferry                 34803 non-null uint8\n",
      "Flight_Purpose_Instructional         34803 non-null uint8\n",
      "Flight_Purpose_Other                 34803 non-null uint8\n",
      "Flight_Purpose_Personal              34803 non-null uint8\n",
      "Flight_Purpose_Positioning           34803 non-null uint8\n",
      "Weather_Condition_IMC                34803 non-null uint8\n",
      "Weather_Condition_VMC                34803 non-null uint8\n",
      "Broad_Phase_of_Flight_INFLIGHT       34803 non-null uint8\n",
      "Broad_Phase_of_Flight_LANDING        34803 non-null uint8\n",
      "Broad_Phase_of_Flight_TAKEOFF        34803 non-null uint8\n",
      "Broad_Phase_of_Flight_TAXI           34803 non-null uint8\n",
      "Solo_Flight_No                       34803 non-null uint8\n",
      "Solo_Flight_Yes                      34803 non-null uint8\n",
      "Number_Engines_Scaled                34803 non-null float64\n",
      "Total_Passengers_Scaled              34803 non-null float64\n",
      "dtypes: float64(2), uint8(27)\n",
      "memory usage: 1.7 MB\n"
     ]
    }
   ],
   "source": [
    "X_train.info()"
   ]
  },
  {
   "cell_type": "code",
   "execution_count": 84,
   "metadata": {
    "ExecuteTime": {
     "end_time": "2018-08-05T00:29:00.634866Z",
     "start_time": "2018-08-05T00:29:00.618022Z"
    }
   },
   "outputs": [
    {
     "name": "stdout",
     "output_type": "stream",
     "text": [
      "<class 'pandas.core.frame.DataFrame'>\n",
      "Int64Index: 11601 entries, 47509 to 54324\n",
      "Data columns (total 29 columns):\n",
      "Season_Fall                          11601 non-null uint8\n",
      "Season_Spring                        11601 non-null uint8\n",
      "Season_Summer                        11601 non-null uint8\n",
      "Season_Winter                        11601 non-null uint8\n",
      "Amateur_Built_No                     11601 non-null uint8\n",
      "Amateur_Built_Yes                    11601 non-null uint8\n",
      "Engine_Type_Reciprocating            11601 non-null uint8\n",
      "Engine_Type_Turbo Fan                11601 non-null uint8\n",
      "Engine_Type_Turbo Jet                11601 non-null uint8\n",
      "Engine_Type_Turbo Prop               11601 non-null uint8\n",
      "Engine_Type_Turbo Shaft              11601 non-null uint8\n",
      "Engine_Type_Unknown                  11601 non-null uint8\n",
      "Flight_Purpose_Aerial Application    11601 non-null uint8\n",
      "Flight_Purpose_Business              11601 non-null uint8\n",
      "Flight_Purpose_Ferry                 11601 non-null uint8\n",
      "Flight_Purpose_Instructional         11601 non-null uint8\n",
      "Flight_Purpose_Other                 11601 non-null uint8\n",
      "Flight_Purpose_Personal              11601 non-null uint8\n",
      "Flight_Purpose_Positioning           11601 non-null uint8\n",
      "Weather_Condition_IMC                11601 non-null uint8\n",
      "Weather_Condition_VMC                11601 non-null uint8\n",
      "Broad_Phase_of_Flight_INFLIGHT       11601 non-null uint8\n",
      "Broad_Phase_of_Flight_LANDING        11601 non-null uint8\n",
      "Broad_Phase_of_Flight_TAKEOFF        11601 non-null uint8\n",
      "Broad_Phase_of_Flight_TAXI           11601 non-null uint8\n",
      "Solo_Flight_No                       11601 non-null uint8\n",
      "Solo_Flight_Yes                      11601 non-null uint8\n",
      "Number_Engines_Scaled                11601 non-null float64\n",
      "Total_Passengers_Scaled              11601 non-null float64\n",
      "dtypes: float64(2), uint8(27)\n",
      "memory usage: 577.8 KB\n"
     ]
    }
   ],
   "source": [
    "X_FINALtest.info()"
   ]
  },
  {
   "cell_type": "code",
   "execution_count": 85,
   "metadata": {
    "ExecuteTime": {
     "end_time": "2018-08-05T00:29:32.280535Z",
     "start_time": "2018-08-05T00:29:00.637496Z"
    }
   },
   "outputs": [
    {
     "name": "stdout",
     "output_type": "stream",
     "text": [
      "LR acc: 0.8429 prec: 0.6654 recall: 0.1949 f1-score: 0.3015\n",
      "\n",
      "KNN acc: 0.8245 prec: 0.4902 recall: 0.2208 f1-score: 0.3045\n",
      "\n",
      "NB acc: 0.7445 prec: 0.3575 recall: 0.5887 f1-score: 0.4449\n",
      "\n",
      "SVC acc: 0.839 prec: 0.6006 recall: 0.2219 f1-score: 0.3241\n",
      "\n",
      "Decision Tree acc: 0.8251 prec: 0.495 recall: 0.272 f1-score: 0.3511\n",
      "\n",
      "Random Forest acc: 0.8293 prec: 0.52 recall: 0.2439 f1-score: 0.3321\n",
      "\n",
      "Gradient Boosted Trees acc: 0.8434 prec: 0.6591 recall: 0.2065 f1-score: 0.3145\n",
      "\n"
     ]
    }
   ],
   "source": [
    "## THIS IS JUST USING DEFAULTS FOR EACH TYPE -- NEED TO TUNE HYPERPARAMETERS\n",
    "\n",
    "X_temptrain, X_temptest, y_temptrain, y_temptest = train_test_split(X_train, y_train, test_size=0.3, random_state=4444)\n",
    "\n",
    "models = [LogisticRegression(), KNeighborsClassifier(), GaussianNB(), SVC(),\n",
    "           DecisionTreeClassifier(), RandomForestClassifier(), GradientBoostingClassifier()]\n",
    "names = ['LR', 'KNN', 'NB', 'SVC', 'Decision Tree', 'Random Forest', 'Gradient Boosted Trees']\n",
    "\n",
    "for i in range(len(models)):    \n",
    "    models[i].fit(X_temptrain, y_temptrain)\n",
    "    y_predict = models[i].predict(X_temptest)\n",
    "    accuracy = np.round(accuracy_score(y_temptest, y_predict), 4)\n",
    "    precision = np.round(precision_score(y_temptest, y_predict, pos_label = 'Fatal'), 4)\n",
    "    recall = np.round(recall_score(y_temptest, y_predict, pos_label = 'Fatal'), 4)\n",
    "    f1 = np.round(f1_score(y_temptest, y_predict, pos_label = 'Fatal'), 4)\n",
    "    print(f'{names[i]} acc: {accuracy} prec: {precision} recall: {recall} f1-score: {f1}')\n",
    "    print('')"
   ]
  },
  {
   "cell_type": "code",
   "execution_count": 86,
   "metadata": {
    "ExecuteTime": {
     "end_time": "2018-08-05T00:36:16.942652Z",
     "start_time": "2018-08-05T00:29:32.282499Z"
    }
   },
   "outputs": [
    {
     "name": "stdout",
     "output_type": "stream",
     "text": [
      "knn: best score: 0.8263368100451111, best estimator: KNeighborsClassifier(algorithm='auto', leaf_size=30, metric='minkowski',\n",
      "           metric_params=None, n_jobs=1, n_neighbors=11, p=2,\n",
      "           weights='uniform')\n",
      "logistic: best score: 0.8382036031376605, best estimator: LogisticRegression(C=0.006579332246575682, class_weight=None, dual=False,\n",
      "          fit_intercept=True, intercept_scaling=1, max_iter=100,\n",
      "          multi_class='ovr', n_jobs=1, penalty='l2', random_state=None,\n",
      "          solver='liblinear', tol=0.0001, verbose=0, warm_start=False)\n",
      "tree: best score: 0.8387207999310404, best estimator: DecisionTreeClassifier(class_weight=None, criterion='gini', max_depth=5,\n",
      "            max_features=None, max_leaf_nodes=None,\n",
      "            min_impurity_decrease=0.0, min_impurity_split=None,\n",
      "            min_samples_leaf=6, min_samples_split=2,\n",
      "            min_weight_fraction_leaf=0.0, presort=False, random_state=None,\n",
      "            splitter='best')\n",
      "forest: best score: 0.8391805304140447, best estimator: RandomForestClassifier(bootstrap=True, class_weight=None, criterion='gini',\n",
      "            max_depth=5, max_features='auto', max_leaf_nodes=None,\n",
      "            min_impurity_decrease=0.0, min_impurity_split=None,\n",
      "            min_samples_leaf=10, min_samples_split=2,\n",
      "            min_weight_fraction_leaf=0.0, n_estimators=100, n_jobs=1,\n",
      "            oob_score=False, random_state=None, verbose=0,\n",
      "            warm_start=False)\n"
     ]
    }
   ],
   "source": [
    "## FROM DAMIEN'S PAIR PROGRAMMING EXAMPLE\n",
    "\n",
    "models = [('knn', KNeighborsClassifier), \n",
    "          ('logistic', LogisticRegression),\n",
    "          ('tree', DecisionTreeClassifier),\n",
    "          ('forest', RandomForestClassifier)\n",
    "         ]\n",
    "\n",
    "param_choices = [\n",
    "    {\n",
    "        'n_neighbors': range(1, 12)\n",
    "    },\n",
    "    {\n",
    "        'C': np.logspace(-3,6, 12),\n",
    "        'penalty': ['l1', 'l2']\n",
    "    },\n",
    "    {\n",
    "        'max_depth': [1,2,3,4,5],\n",
    "        'min_samples_leaf': [3,6,10]\n",
    "    },\n",
    "    {\n",
    "        'n_estimators': [50, 100, 200],\n",
    "        'max_depth': [1,2,3,4,5],\n",
    "        'min_samples_leaf': [3,6,10]\n",
    "    }\n",
    "]\n",
    "\n",
    "grids = {}\n",
    "for model_info, params in zip(models, param_choices):\n",
    "    name, model = model_info\n",
    "    grid = GridSearchCV(model(), params)\n",
    "    grid.fit(X_train, y_train)\n",
    "    s = f\"{name}: best score: {grid.best_score_}, best estimator: {grid.best_estimator_}\"\n",
    "    print(s)\n",
    "    grids[name] = grid"
   ]
  },
  {
   "cell_type": "code",
   "execution_count": 87,
   "metadata": {
    "ExecuteTime": {
     "end_time": "2018-08-05T00:36:16.992231Z",
     "start_time": "2018-08-05T00:36:16.944761Z"
    }
   },
   "outputs": [],
   "source": [
    "from sklearn.feature_selection import SelectKBest, RFE, chi2\n",
    "from sklearn.ensemble import ExtraTreesClassifier\n",
    "from sklearn.decomposition import PCA\n",
    "\n",
    "def feature_selection(X, y, count):\n",
    "\n",
    "    # Feature Importance from Random Forest\n",
    "    ET = ExtraTreesClassifier()\n",
    "    ET.fit(X, y)    \n",
    "    importances = list(zip(ET.feature_importances_, X.columns))\n",
    "    importances.sort(reverse=True)\n",
    "    FI_features = [x[1] for x in importances][0:count]\n",
    "\n",
    "    # Recursive Feature Elimination\n",
    "    lm1 = LogisticRegression()\n",
    "    rfe = RFE(lm1, count)\n",
    "    fit = rfe.fit(X, y)\n",
    "    RFE_features = list(X.columns[fit.support_])\n",
    "\n",
    "    # PCA\n",
    "#     pca = PCA(n_components=5)\n",
    "#     fit = pca.fit(X)    \n",
    "#     df = pd.DataFrame(pca.components_,columns=X.columns).abs().mean().sort_values(ascending = False)\n",
    "#     PCA_features = list(df.index.values)[0:7]\n",
    "    \n",
    "    feats = pd.DataFrame(\n",
    "        {\n",
    "         'Feature_Importance': FI_features,\n",
    "         'RFE': RFE_features,\n",
    "#          'PCA': PCA_features\n",
    "        })\n",
    "    \n",
    "    return feats"
   ]
  },
  {
   "cell_type": "code",
   "execution_count": 88,
   "metadata": {
    "ExecuteTime": {
     "end_time": "2018-08-05T00:36:19.578349Z",
     "start_time": "2018-08-05T00:36:16.994574Z"
    }
   },
   "outputs": [
    {
     "data": {
      "text/html": [
       "<div>\n",
       "<style scoped>\n",
       "    .dataframe tbody tr th:only-of-type {\n",
       "        vertical-align: middle;\n",
       "    }\n",
       "\n",
       "    .dataframe tbody tr th {\n",
       "        vertical-align: top;\n",
       "    }\n",
       "\n",
       "    .dataframe thead th {\n",
       "        text-align: right;\n",
       "    }\n",
       "</style>\n",
       "<table border=\"1\" class=\"dataframe\">\n",
       "  <thead>\n",
       "    <tr style=\"text-align: right;\">\n",
       "      <th></th>\n",
       "      <th>Feature_Importance</th>\n",
       "      <th>RFE</th>\n",
       "    </tr>\n",
       "  </thead>\n",
       "  <tbody>\n",
       "    <tr>\n",
       "      <th>0</th>\n",
       "      <td>Total_Passengers_Scaled</td>\n",
       "      <td>Season_Summer</td>\n",
       "    </tr>\n",
       "    <tr>\n",
       "      <th>1</th>\n",
       "      <td>Broad_Phase_of_Flight_INFLIGHT</td>\n",
       "      <td>Amateur_Built_No</td>\n",
       "    </tr>\n",
       "    <tr>\n",
       "      <th>2</th>\n",
       "      <td>Weather_Condition_IMC</td>\n",
       "      <td>Amateur_Built_Yes</td>\n",
       "    </tr>\n",
       "    <tr>\n",
       "      <th>3</th>\n",
       "      <td>Weather_Condition_VMC</td>\n",
       "      <td>Engine_Type_Reciprocating</td>\n",
       "    </tr>\n",
       "    <tr>\n",
       "      <th>4</th>\n",
       "      <td>Number_Engines_Scaled</td>\n",
       "      <td>Engine_Type_Turbo Fan</td>\n",
       "    </tr>\n",
       "    <tr>\n",
       "      <th>5</th>\n",
       "      <td>Broad_Phase_of_Flight_LANDING</td>\n",
       "      <td>Engine_Type_Turbo Jet</td>\n",
       "    </tr>\n",
       "    <tr>\n",
       "      <th>6</th>\n",
       "      <td>Broad_Phase_of_Flight_TAKEOFF</td>\n",
       "      <td>Engine_Type_Unknown</td>\n",
       "    </tr>\n",
       "    <tr>\n",
       "      <th>7</th>\n",
       "      <td>Amateur_Built_No</td>\n",
       "      <td>Flight_Purpose_Aerial Application</td>\n",
       "    </tr>\n",
       "    <tr>\n",
       "      <th>8</th>\n",
       "      <td>Engine_Type_Reciprocating</td>\n",
       "      <td>Flight_Purpose_Business</td>\n",
       "    </tr>\n",
       "    <tr>\n",
       "      <th>9</th>\n",
       "      <td>Amateur_Built_Yes</td>\n",
       "      <td>Flight_Purpose_Ferry</td>\n",
       "    </tr>\n",
       "    <tr>\n",
       "      <th>10</th>\n",
       "      <td>Flight_Purpose_Personal</td>\n",
       "      <td>Flight_Purpose_Instructional</td>\n",
       "    </tr>\n",
       "    <tr>\n",
       "      <th>11</th>\n",
       "      <td>Flight_Purpose_Other</td>\n",
       "      <td>Flight_Purpose_Positioning</td>\n",
       "    </tr>\n",
       "    <tr>\n",
       "      <th>12</th>\n",
       "      <td>Flight_Purpose_Aerial Application</td>\n",
       "      <td>Weather_Condition_IMC</td>\n",
       "    </tr>\n",
       "    <tr>\n",
       "      <th>13</th>\n",
       "      <td>Season_Summer</td>\n",
       "      <td>Weather_Condition_VMC</td>\n",
       "    </tr>\n",
       "    <tr>\n",
       "      <th>14</th>\n",
       "      <td>Season_Fall</td>\n",
       "      <td>Broad_Phase_of_Flight_INFLIGHT</td>\n",
       "    </tr>\n",
       "    <tr>\n",
       "      <th>15</th>\n",
       "      <td>Season_Winter</td>\n",
       "      <td>Broad_Phase_of_Flight_LANDING</td>\n",
       "    </tr>\n",
       "    <tr>\n",
       "      <th>16</th>\n",
       "      <td>Flight_Purpose_Instructional</td>\n",
       "      <td>Broad_Phase_of_Flight_TAXI</td>\n",
       "    </tr>\n",
       "    <tr>\n",
       "      <th>17</th>\n",
       "      <td>Season_Spring</td>\n",
       "      <td>Solo_Flight_Yes</td>\n",
       "    </tr>\n",
       "    <tr>\n",
       "      <th>18</th>\n",
       "      <td>Solo_Flight_Yes</td>\n",
       "      <td>Number_Engines_Scaled</td>\n",
       "    </tr>\n",
       "    <tr>\n",
       "      <th>19</th>\n",
       "      <td>Solo_Flight_No</td>\n",
       "      <td>Total_Passengers_Scaled</td>\n",
       "    </tr>\n",
       "  </tbody>\n",
       "</table>\n",
       "</div>"
      ],
      "text/plain": [
       "                   Feature_Importance                                RFE\n",
       "0             Total_Passengers_Scaled                      Season_Summer\n",
       "1      Broad_Phase_of_Flight_INFLIGHT                   Amateur_Built_No\n",
       "2               Weather_Condition_IMC                  Amateur_Built_Yes\n",
       "3               Weather_Condition_VMC          Engine_Type_Reciprocating\n",
       "4               Number_Engines_Scaled              Engine_Type_Turbo Fan\n",
       "5       Broad_Phase_of_Flight_LANDING              Engine_Type_Turbo Jet\n",
       "6       Broad_Phase_of_Flight_TAKEOFF                Engine_Type_Unknown\n",
       "7                    Amateur_Built_No  Flight_Purpose_Aerial Application\n",
       "8           Engine_Type_Reciprocating            Flight_Purpose_Business\n",
       "9                   Amateur_Built_Yes               Flight_Purpose_Ferry\n",
       "10            Flight_Purpose_Personal       Flight_Purpose_Instructional\n",
       "11               Flight_Purpose_Other         Flight_Purpose_Positioning\n",
       "12  Flight_Purpose_Aerial Application              Weather_Condition_IMC\n",
       "13                      Season_Summer              Weather_Condition_VMC\n",
       "14                        Season_Fall     Broad_Phase_of_Flight_INFLIGHT\n",
       "15                      Season_Winter      Broad_Phase_of_Flight_LANDING\n",
       "16       Flight_Purpose_Instructional         Broad_Phase_of_Flight_TAXI\n",
       "17                      Season_Spring                    Solo_Flight_Yes\n",
       "18                    Solo_Flight_Yes              Number_Engines_Scaled\n",
       "19                     Solo_Flight_No            Total_Passengers_Scaled"
      ]
     },
     "execution_count": 88,
     "metadata": {},
     "output_type": "execute_result"
    }
   ],
   "source": [
    "feature_selection(X_train, y_train, 20)"
   ]
  },
  {
   "cell_type": "code",
   "execution_count": 89,
   "metadata": {
    "ExecuteTime": {
     "end_time": "2018-08-05T00:36:43.047851Z",
     "start_time": "2018-08-05T00:36:19.580722Z"
    }
   },
   "outputs": [
    {
     "name": "stdout",
     "output_type": "stream",
     "text": [
      "logistic: best score: 0.8382036031376605, best estimator: LogisticRegression(C=0.006579332246575682, class_weight=None, dual=False,\n",
      "          fit_intercept=True, intercept_scaling=1, max_iter=100,\n",
      "          multi_class='ovr', n_jobs=1, penalty='l2', random_state=None,\n",
      "          solver='liblinear', tol=0.0001, verbose=0, warm_start=False)\n"
     ]
    }
   ],
   "source": [
    "models = [('logistic', LogisticRegression)]\n",
    "\n",
    "param_choices = [{\n",
    "        'C': np.logspace(-3,6, 12),\n",
    "        'penalty': ['l1', 'l2']\n",
    "    }]\n",
    "\n",
    "grids = {}\n",
    "for model_info, params in zip(models, param_choices):\n",
    "    name, model = model_info\n",
    "    grid = GridSearchCV(model(), params)\n",
    "    grid.fit(X_train, y_train)\n",
    "    s = f\"{name}: best score: {grid.best_score_}, best estimator: {grid.best_estimator_}\"\n",
    "    print(s)\n",
    "    grids[name] = grid"
   ]
  },
  {
   "cell_type": "code",
   "execution_count": 93,
   "metadata": {
    "ExecuteTime": {
     "end_time": "2018-08-05T00:37:43.316808Z",
     "start_time": "2018-08-05T00:37:43.122257Z"
    }
   },
   "outputs": [
    {
     "data": {
      "text/plain": [
       "LogisticRegression(C=0.006579332246575682, class_weight=None, dual=False,\n",
       "          fit_intercept=True, intercept_scaling=1, max_iter=100,\n",
       "          multi_class='ovr', n_jobs=1, penalty='l2', random_state=None,\n",
       "          solver='liblinear', tol=0.0001, verbose=0, warm_start=False)"
      ]
     },
     "execution_count": 93,
     "metadata": {},
     "output_type": "execute_result"
    }
   ],
   "source": [
    "lm1 = grid.best_estimator_\n",
    "lm1.fit(X_train, y_train)"
   ]
  },
  {
   "cell_type": "code",
   "execution_count": 94,
   "metadata": {
    "ExecuteTime": {
     "end_time": "2018-08-05T00:37:44.745683Z",
     "start_time": "2018-08-05T00:37:43.319638Z"
    }
   },
   "outputs": [
    {
     "name": "stdout",
     "output_type": "stream",
     "text": [
      "Scores with Unbalanced Data -- Logistic Regress MVP\n",
      "Logistic Regress accuracy: 0.8382 precision: 0.6754 recall: 0.1808 f1: 0.2852 fB: 0.2118\n",
      "\n"
     ]
    }
   ],
   "source": [
    "kf = KFold(random_state = 4444)\n",
    "accuracy = []\n",
    "precision = []\n",
    "recall = []\n",
    "f1 = []\n",
    "fB = []\n",
    "    \n",
    "for train_index, test_index in kf.split(X_train):\n",
    "\n",
    "    kX_train = X_train.iloc[train_index]\n",
    "    kX_test = X_train.iloc[test_index]\n",
    "    ky_train = y_train.iloc[train_index]\n",
    "    ky_test = y_train.iloc[test_index]\n",
    "\n",
    "    lm1.fit(kX_train, ky_train)\n",
    "    y_predict = lm1.predict(kX_test)\n",
    "\n",
    "    accuracy.append(accuracy_score(ky_test, y_predict))\n",
    "    precision.append(precision_score(ky_test, y_predict, pos_label = 'Fatal'))\n",
    "    recall.append(recall_score(ky_test, y_predict, pos_label = 'Fatal'))\n",
    "    f1.append(f1_score(ky_test, y_predict, pos_label = 'Fatal'))\n",
    "    fB.append(fbeta_score(ky_test, y_predict, beta=2.0, pos_label = 'Fatal'))\n",
    "\n",
    "accuracy = np.round(np.mean(accuracy), 4)\n",
    "precision = np.round(np.mean(precision), 4)\n",
    "recall = np.round(np.mean(recall), 4)\n",
    "f1 = np.round(np.mean(f1), 4)\n",
    "fB = np.round(np.mean(fB), 4)\n",
    "\n",
    "print('Scores with Unbalanced Data -- Logistic Regress MVP')\n",
    "print(f'Logistic Regress accuracy: {accuracy} precision: {precision} recall: {recall} f1: {f1} fB: {fB}')\n",
    "print('')"
   ]
  },
  {
   "cell_type": "code",
   "execution_count": 95,
   "metadata": {
    "ExecuteTime": {
     "end_time": "2018-08-05T00:37:44.761322Z",
     "start_time": "2018-08-05T00:37:44.747686Z"
    }
   },
   "outputs": [
    {
     "data": {
      "text/plain": [
       "Amateur_Built_No                     0.029500\n",
       "Amateur_Built_Yes                    0.201813\n",
       "Broad_Phase_of_Flight_INFLIGHT       0.051650\n",
       "Broad_Phase_of_Flight_LANDING        0.354439\n",
       "Broad_Phase_of_Flight_TAKEOFF       -0.010469\n",
       "Broad_Phase_of_Flight_TAXI           0.295414\n",
       "Engine_Type_Reciprocating            0.012284\n",
       "Engine_Type_Turbo Fan                0.003341\n",
       "Engine_Type_Turbo Jet                0.049894\n",
       "Engine_Type_Turbo Prop              -0.011886\n",
       "Engine_Type_Turbo Shaft              0.335452\n",
       "Engine_Type_Unknown                 -0.183484\n",
       "Flight_Purpose_Aerial Application    0.059134\n",
       "Flight_Purpose_Business              0.290558\n",
       "Flight_Purpose_Ferry                 0.052080\n",
       "Flight_Purpose_Instructional        -0.123479\n",
       "Flight_Purpose_Other                -0.145318\n",
       "Flight_Purpose_Personal             -0.655913\n",
       "Flight_Purpose_Positioning           0.940857\n",
       "Number_Engines                      -0.038579\n",
       "Season_Fall                          0.155878\n",
       "Season_Spring                        0.055462\n",
       "Season_Summer                        0.517463\n",
       "Season_Winter                       -0.232519\n",
       "Solo_Flight_No                      -0.116323\n",
       "Solo_Flight_Yes                      0.247000\n",
       "Total_Passengers                     0.112184\n",
       "Weather_Condition_IMC               -0.733702\n",
       "Weather_Condition_VMC                0.612558\n",
       "dtype: float64"
      ]
     },
     "execution_count": 95,
     "metadata": {},
     "output_type": "execute_result"
    }
   ],
   "source": [
    "columns = ['Number_Engines_Scaled','Total_Passengers_Scaled', 'Season_Fall',\n",
    "       'Season_Spring', 'Season_Summer', 'Season_Winter', 'Amateur_Built_No', 'Amateur_Built_Yes',\n",
    "       'Engine_Type_Reciprocating', 'Engine_Type_Turbo Fan',\n",
    "       'Engine_Type_Turbo Jet', 'Engine_Type_Turbo Prop',\n",
    "       'Engine_Type_Turbo Shaft', 'Engine_Type_Unknown',\n",
    "       'Flight_Purpose_Aerial Application', 'Flight_Purpose_Business',\n",
    "       'Flight_Purpose_Ferry', 'Flight_Purpose_Instructional',\n",
    "       'Flight_Purpose_Other', 'Flight_Purpose_Personal',\n",
    "       'Flight_Purpose_Positioning', 'Weather_Condition_IMC', 'Weather_Condition_VMC',\n",
    "       'Broad_Phase_of_Flight_INFLIGHT', 'Broad_Phase_of_Flight_LANDING',\n",
    "       'Broad_Phase_of_Flight_TAKEOFF', 'Broad_Phase_of_Flight_TAXI',\n",
    "       'Solo_Flight_No', 'Solo_Flight_Yes']\n",
    "\n",
    "coef_viewer = {}\n",
    "for col, score in zip(columns, lm1.coef_[0]):\n",
    "    coef_viewer[col] = score\n",
    "pd.Series(coef_viewer)"
   ]
  },
  {
   "cell_type": "code",
   "execution_count": 96,
   "metadata": {
    "ExecuteTime": {
     "end_time": "2018-08-05T00:39:32.115365Z",
     "start_time": "2018-08-05T00:37:44.763185Z"
    }
   },
   "outputs": [
    {
     "name": "stdout",
     "output_type": "stream",
     "text": [
      "forest: best score: 0.8390368646381059, best estimator: RandomForestClassifier(bootstrap=True, class_weight=None, criterion='gini',\n",
      "            max_depth=5, max_features='auto', max_leaf_nodes=None,\n",
      "            min_impurity_decrease=0.0, min_impurity_split=None,\n",
      "            min_samples_leaf=6, min_samples_split=2,\n",
      "            min_weight_fraction_leaf=0.0, n_estimators=100, n_jobs=1,\n",
      "            oob_score=False, random_state=None, verbose=0,\n",
      "            warm_start=False)\n"
     ]
    }
   ],
   "source": [
    "models = [('forest', RandomForestClassifier)]\n",
    "\n",
    "param_choices = [{\n",
    "        'n_estimators': [50, 100, 200],\n",
    "        'max_depth': [1,2,3,4,5],\n",
    "        'min_samples_leaf': [3,6,10]\n",
    "    }]\n",
    "\n",
    "grids = {}\n",
    "for model_info, params in zip(models, param_choices):\n",
    "    name, model = model_info\n",
    "    grid = GridSearchCV(model(), params)\n",
    "    grid.fit(X_train, y_train)\n",
    "    s = f\"{name}: best score: {grid.best_score_}, best estimator: {grid.best_estimator_}\"\n",
    "    print(s)\n",
    "    grids[name] = grid"
   ]
  },
  {
   "cell_type": "code",
   "execution_count": 97,
   "metadata": {
    "ExecuteTime": {
     "end_time": "2018-08-05T00:39:33.102522Z",
     "start_time": "2018-08-05T00:39:32.117843Z"
    }
   },
   "outputs": [
    {
     "data": {
      "text/plain": [
       "RandomForestClassifier(bootstrap=True, class_weight=None, criterion='gini',\n",
       "            max_depth=5, max_features='auto', max_leaf_nodes=None,\n",
       "            min_impurity_decrease=0.0, min_impurity_split=None,\n",
       "            min_samples_leaf=6, min_samples_split=2,\n",
       "            min_weight_fraction_leaf=0.0, n_estimators=100, n_jobs=1,\n",
       "            oob_score=False, random_state=None, verbose=0,\n",
       "            warm_start=False)"
      ]
     },
     "execution_count": 97,
     "metadata": {},
     "output_type": "execute_result"
    }
   ],
   "source": [
    "rf = grid.best_estimator_\n",
    "rf.fit(X_train, y_train)"
   ]
  },
  {
   "cell_type": "code",
   "execution_count": 98,
   "metadata": {
    "ExecuteTime": {
     "end_time": "2018-08-05T00:39:34.494483Z",
     "start_time": "2018-08-05T00:39:33.105219Z"
    }
   },
   "outputs": [
    {
     "name": "stdout",
     "output_type": "stream",
     "text": [
      "Scores with Unbalanced Data -- RF MVP\n",
      "RF MVP accuracy: 0.8387 precision: 0.695 recall: 0.1726 f1: 0.2765 fB: 0.2032\n",
      "\n"
     ]
    }
   ],
   "source": [
    "kf = KFold(random_state = 4444)\n",
    "accuracy = []\n",
    "precision = []\n",
    "recall = []\n",
    "f1 = []\n",
    "fB = []\n",
    "    \n",
    "for train_index, test_index in kf.split(X_train):\n",
    "\n",
    "    kX_train = X_train.iloc[train_index]\n",
    "    kX_test = X_train.iloc[test_index]\n",
    "    ky_train = y_train.iloc[train_index]\n",
    "    ky_test = y_train.iloc[test_index]\n",
    "\n",
    "    lm1.fit(kX_train, ky_train)\n",
    "    y_predict = rf.predict(kX_test)\n",
    "\n",
    "    accuracy.append(accuracy_score(ky_test, y_predict))\n",
    "    precision.append(precision_score(ky_test, y_predict, pos_label = 'Fatal'))\n",
    "    recall.append(recall_score(ky_test, y_predict, pos_label = 'Fatal'))\n",
    "    f1.append(f1_score(ky_test, y_predict, pos_label = 'Fatal'))\n",
    "    fB.append(fbeta_score(ky_test, y_predict, beta=2.0, pos_label = 'Fatal'))\n",
    "\n",
    "accuracy = np.round(np.mean(accuracy), 4)\n",
    "precision = np.round(np.mean(precision), 4)\n",
    "recall = np.round(np.mean(recall), 4)\n",
    "f1 = np.round(np.mean(f1), 4)\n",
    "fB = np.round(np.mean(fB), 4)\n",
    "\n",
    "print('Scores with Unbalanced Data -- RF MVP')\n",
    "print(f'RF MVP accuracy: {accuracy} precision: {precision} recall: {recall} f1: {f1} fB: {fB}')\n",
    "print('')"
   ]
  },
  {
   "cell_type": "code",
   "execution_count": 99,
   "metadata": {
    "ExecuteTime": {
     "end_time": "2018-08-05T00:39:34.513659Z",
     "start_time": "2018-08-05T00:39:34.496191Z"
    }
   },
   "outputs": [
    {
     "data": {
      "text/plain": [
       "Amateur_Built_No                     0.009250\n",
       "Amateur_Built_Yes                    0.005535\n",
       "Broad_Phase_of_Flight_INFLIGHT       0.017862\n",
       "Broad_Phase_of_Flight_LANDING        0.016090\n",
       "Broad_Phase_of_Flight_TAKEOFF        0.008681\n",
       "Broad_Phase_of_Flight_TAXI           0.009116\n",
       "Engine_Type_Reciprocating            0.000790\n",
       "Engine_Type_Turbo Fan                0.001793\n",
       "Engine_Type_Turbo Jet                0.000851\n",
       "Engine_Type_Turbo Prop               0.000385\n",
       "Engine_Type_Turbo Shaft              0.010060\n",
       "Engine_Type_Unknown                  0.002498\n",
       "Flight_Purpose_Aerial Application    0.000296\n",
       "Flight_Purpose_Business              0.017692\n",
       "Flight_Purpose_Ferry                 0.007864\n",
       "Flight_Purpose_Instructional         0.016221\n",
       "Flight_Purpose_Other                 0.000502\n",
       "Flight_Purpose_Personal              0.232069\n",
       "Flight_Purpose_Positioning           0.267440\n",
       "Number_Engines                       0.001936\n",
       "Season_Fall                          0.002416\n",
       "Season_Spring                        0.001885\n",
       "Season_Summer                        0.017326\n",
       "Season_Winter                        0.028220\n",
       "Solo_Flight_No                       0.010769\n",
       "Solo_Flight_Yes                      0.022118\n",
       "Total_Passengers                     0.000635\n",
       "Weather_Condition_IMC                0.197194\n",
       "Weather_Condition_VMC                0.092505\n",
       "dtype: float64"
      ]
     },
     "execution_count": 99,
     "metadata": {},
     "output_type": "execute_result"
    }
   ],
   "source": [
    "columns = ['Number_Engines_Scaled','Total_Passengers_Scaled', 'Season_Fall',\n",
    "       'Season_Spring', 'Season_Summer', 'Season_Winter', 'Amateur_Built_No', 'Amateur_Built_Yes',\n",
    "       'Engine_Type_Reciprocating', 'Engine_Type_Turbo Fan',\n",
    "       'Engine_Type_Turbo Jet', 'Engine_Type_Turbo Prop',\n",
    "       'Engine_Type_Turbo Shaft', 'Engine_Type_Unknown',\n",
    "       'Flight_Purpose_Aerial Application', 'Flight_Purpose_Business',\n",
    "       'Flight_Purpose_Ferry', 'Flight_Purpose_Instructional',\n",
    "       'Flight_Purpose_Other', 'Flight_Purpose_Personal',\n",
    "       'Flight_Purpose_Positioning', 'Weather_Condition_IMC', 'Weather_Condition_VMC',\n",
    "       'Broad_Phase_of_Flight_INFLIGHT', 'Broad_Phase_of_Flight_LANDING',\n",
    "       'Broad_Phase_of_Flight_TAKEOFF', 'Broad_Phase_of_Flight_TAXI',\n",
    "       'Solo_Flight_No', 'Solo_Flight_Yes']\n",
    "\n",
    "feature_viewer = {}\n",
    "for col, score in zip(columns, rf.feature_importances_):\n",
    "    feature_viewer[col] = score\n",
    "pd.Series(feature_viewer)"
   ]
  },
  {
   "cell_type": "code",
   "execution_count": 100,
   "metadata": {
    "ExecuteTime": {
     "end_time": "2018-08-05T00:39:34.520325Z",
     "start_time": "2018-08-05T00:39:34.515595Z"
    }
   },
   "outputs": [
    {
     "name": "stdout",
     "output_type": "stream",
     "text": [
      "{'beta': array([1.        , 1.11111111, 1.22222222, 1.33333333, 1.44444444,\n",
      "       1.55555556, 1.66666667, 1.77777778, 1.88888889, 2.        ])}\n"
     ]
    }
   ],
   "source": [
    "beta = np.linspace(1, 2, 10)\n",
    "\n",
    "param_grid = dict(beta=beta)\n",
    "print(param_grid)"
   ]
  },
  {
   "cell_type": "code",
   "execution_count": 101,
   "metadata": {
    "ExecuteTime": {
     "end_time": "2018-08-05T00:39:38.487726Z",
     "start_time": "2018-08-05T00:39:34.522160Z"
    }
   },
   "outputs": [
    {
     "name": "stdout",
     "output_type": "stream",
     "text": [
      "TEST Scores with unbalanced RF -- beta: 1.0\n",
      "accuracy: 0.835 precision: 0.6548 recall: 0.1603 f1: 0.2576 fB: 0.2576\n",
      "\n",
      "TEST Scores with unbalanced RF -- beta: 1.1111111111111112\n",
      "accuracy: 0.835 precision: 0.6548 recall: 0.1603 f1: 0.2576 fB: 0.2421\n",
      "\n",
      "TEST Scores with unbalanced RF -- beta: 1.2222222222222223\n",
      "accuracy: 0.835 precision: 0.6548 recall: 0.1603 f1: 0.2576 fB: 0.2299\n",
      "\n",
      "TEST Scores with unbalanced RF -- beta: 1.3333333333333333\n",
      "accuracy: 0.835 precision: 0.6548 recall: 0.1603 f1: 0.2576 fB: 0.2202\n",
      "\n",
      "TEST Scores with unbalanced RF -- beta: 1.4444444444444444\n",
      "accuracy: 0.835 precision: 0.6548 recall: 0.1603 f1: 0.2576 fB: 0.2122\n",
      "\n",
      "TEST Scores with unbalanced RF -- beta: 1.5555555555555556\n",
      "accuracy: 0.835 precision: 0.6548 recall: 0.1603 f1: 0.2576 fB: 0.2057\n",
      "\n",
      "TEST Scores with unbalanced RF -- beta: 1.6666666666666665\n",
      "accuracy: 0.835 precision: 0.6548 recall: 0.1603 f1: 0.2576 fB: 0.2004\n",
      "\n",
      "TEST Scores with unbalanced RF -- beta: 1.7777777777777777\n",
      "accuracy: 0.835 precision: 0.6548 recall: 0.1603 f1: 0.2576 fB: 0.1959\n",
      "\n",
      "TEST Scores with unbalanced RF -- beta: 1.8888888888888888\n",
      "accuracy: 0.835 precision: 0.6548 recall: 0.1603 f1: 0.2576 fB: 0.1921\n",
      "\n",
      "TEST Scores with unbalanced RF -- beta: 2.0\n",
      "accuracy: 0.835 precision: 0.6548 recall: 0.1603 f1: 0.2576 fB: 0.1888\n",
      "\n"
     ]
    }
   ],
   "source": [
    "from sklearn.metrics import fbeta_score\n",
    "\n",
    "for b in beta:\n",
    "    kf = KFold(random_state = 4444)\n",
    "    accuracy = []\n",
    "    precision = []\n",
    "    recall = []\n",
    "    f1 = []\n",
    "    fB = []\n",
    "\n",
    "    y_predict = rf.predict(X_FINALtest)\n",
    "\n",
    "    accuracy.append(accuracy_score(y_FINALtest, y_predict))\n",
    "    precision.append(precision_score(y_FINALtest, y_predict, pos_label = 'Fatal'))\n",
    "    recall.append(recall_score(y_FINALtest, y_predict, pos_label = 'Fatal'))\n",
    "    f1.append(f1_score(y_FINALtest, y_predict, pos_label = 'Fatal'))\n",
    "    fB.append(fbeta_score(y_FINALtest, y_predict, beta=b, pos_label = 'Fatal'))\n",
    "\n",
    "    accuracy = np.round(np.mean(accuracy), 4)\n",
    "    precision = np.round(np.mean(precision), 4)\n",
    "    recall = np.round(np.mean(recall), 4)\n",
    "    f1 = np.round(np.mean(f1), 4)\n",
    "    fB = np.round(np.mean(fB), 4)\n",
    "\n",
    "    print(f'TEST Scores with unbalanced RF -- beta: {b}')\n",
    "    print(f'accuracy: {accuracy} precision: {precision} recall: {recall} f1: {f1} fB: {fB}')\n",
    "    print('')"
   ]
  },
  {
   "cell_type": "code",
   "execution_count": null,
   "metadata": {},
   "outputs": [],
   "source": []
  },
  {
   "cell_type": "code",
   "execution_count": null,
   "metadata": {},
   "outputs": [],
   "source": []
  },
  {
   "cell_type": "markdown",
   "metadata": {},
   "source": [
    "## MVP WITH SMOTE"
   ]
  },
  {
   "cell_type": "code",
   "execution_count": null,
   "metadata": {
    "ExecuteTime": {
     "start_time": "2018-08-05T00:37:43.175Z"
    }
   },
   "outputs": [],
   "source": [
    "from imblearn.over_sampling import SMOTE\n",
    "X_smoted, y_smoted = SMOTE(random_state=42).fit_sample(X_train,y_train)\n",
    "\n",
    "X_smoted = pd.DataFrame(X_smoted, columns=['Number_Engines_Scaled','Total_Passengers_Scaled', 'Season_Fall',\n",
    "       'Season_Spring', 'Season_Summer', 'Season_Winter', 'Amateur_Built_No', 'Amateur_Built_Yes',\n",
    "       'Engine_Type_Reciprocating', 'Engine_Type_Turbo Fan',\n",
    "       'Engine_Type_Turbo Jet', 'Engine_Type_Turbo Prop',\n",
    "       'Engine_Type_Turbo Shaft', 'Engine_Type_Unknown',\n",
    "       'Flight_Purpose_Aerial Application', 'Flight_Purpose_Business',\n",
    "       'Flight_Purpose_Ferry', 'Flight_Purpose_Instructional',\n",
    "       'Flight_Purpose_Other', 'Flight_Purpose_Personal',\n",
    "       'Flight_Purpose_Positioning', 'Weather_Condition_IMC', 'Weather_Condition_VMC',\n",
    "       'Broad_Phase_of_Flight_INFLIGHT', 'Broad_Phase_of_Flight_LANDING',\n",
    "       'Broad_Phase_of_Flight_TAKEOFF', 'Broad_Phase_of_Flight_TAXI',\n",
    "       'Solo_Flight_No', 'Solo_Flight_Yes'])\n",
    "\n",
    "y_smoted = pd.Series(y_smoted)"
   ]
  },
  {
   "cell_type": "code",
   "execution_count": null,
   "metadata": {
    "ExecuteTime": {
     "start_time": "2018-08-05T00:37:43.180Z"
    }
   },
   "outputs": [
    {
     "name": "stdout",
     "output_type": "stream",
     "text": [
      "Scores with SMOTE Oversampling\n",
      "LR accuracy: 0.5094 precision: 0.589 recall: 0.6513 f1: 0.4927 fB: 0.5514\n",
      "\n",
      "Scores with SMOTE Oversampling\n",
      "KNN accuracy: 0.6005 precision: 0.6186 recall: 0.5402 f1: 0.5208 fB: 0.5223\n",
      "\n",
      "Scores with SMOTE Oversampling\n",
      "NB accuracy: 0.6225 precision: 0.5668 recall: 0.7855 f1: 0.6001 fB: 0.677\n",
      "\n"
     ]
    }
   ],
   "source": [
    "# USING SMOTE\n",
    "\n",
    "models = [LogisticRegression(), KNeighborsClassifier(), GaussianNB(), SVC(),\n",
    "           DecisionTreeClassifier(), RandomForestClassifier(), GradientBoostingClassifier()]\n",
    "names = ['LR', 'KNN', 'NB', 'SVC', 'Decision Tree', 'Random Forest', 'Gradient Boosted Trees']\n",
    "\n",
    "for i in range(len(models)):\n",
    "    \n",
    "    kf = KFold(random_state = 4444)\n",
    "    accuracy = []\n",
    "    precision = []\n",
    "    recall = []\n",
    "    f1 = []\n",
    "    fB = []\n",
    "    \n",
    "    for train_index, test_index in kf.split(X_smoted):\n",
    "        \n",
    "        kX_train = X_smoted.iloc[train_index]\n",
    "        kX_test = X_smoted.iloc[test_index]\n",
    "        ky_train = y_smoted.iloc[train_index]\n",
    "        ky_test = y_smoted.iloc[test_index]\n",
    "        \n",
    "        models[i].fit(kX_train, ky_train)\n",
    "        y_predict = models[i].predict(kX_test)\n",
    "        \n",
    "        accuracy.append(accuracy_score(ky_test, y_predict))\n",
    "        precision.append(precision_score(ky_test, y_predict, pos_label = 'Fatal'))\n",
    "        recall.append(recall_score(ky_test, y_predict, pos_label = 'Fatal'))\n",
    "        f1.append(f1_score(ky_test, y_predict, pos_label = 'Fatal'))\n",
    "        fB.append(fbeta_score(ky_test, y_predict, beta=2.0, pos_label = 'Fatal'))\n",
    "    \n",
    "    accuracy = np.round(np.mean(accuracy), 4)\n",
    "    precision = np.round(np.mean(precision), 4)\n",
    "    recall = np.round(np.mean(recall), 4)\n",
    "    f1 = np.round(np.mean(f1), 4)\n",
    "    fB = np.round(np.mean(fB), 4)\n",
    "    \n",
    "    print('Scores with SMOTE Oversampling')\n",
    "    print(f'{names[i]} accuracy: {accuracy} precision: {precision} recall: {recall} f1: {f1} fB: {fB}')\n",
    "    print('')"
   ]
  },
  {
   "cell_type": "code",
   "execution_count": null,
   "metadata": {
    "ExecuteTime": {
     "start_time": "2018-08-05T00:37:43.185Z"
    }
   },
   "outputs": [],
   "source": [
    "models = [('forest', RandomForestClassifier)]\n",
    "\n",
    "param_choices = [{\n",
    "        'n_estimators': [25,50, 100, 200],\n",
    "        'max_depth': [1,2,3,4,5,7,10],\n",
    "        'min_samples_leaf': [3,6,10]\n",
    "    }]\n",
    "\n",
    "grids = {}\n",
    "for model_info, params in zip(models, param_choices):\n",
    "    name, model = model_info\n",
    "    grid = GridSearchCV(model(), params)\n",
    "    grid.fit(X_smoted, y_smoted)\n",
    "    s = f\"{name}: best score: {grid.best_score_}, best estimator: {grid.best_estimator_}\"\n",
    "    print(s)\n",
    "    grids[name] = grid"
   ]
  },
  {
   "cell_type": "code",
   "execution_count": null,
   "metadata": {
    "ExecuteTime": {
     "start_time": "2018-08-05T00:37:43.190Z"
    }
   },
   "outputs": [],
   "source": [
    "rf2 = grid.best_estimator_\n",
    "rf2.fit(X_smoted, y_smoted)"
   ]
  },
  {
   "cell_type": "code",
   "execution_count": null,
   "metadata": {
    "ExecuteTime": {
     "start_time": "2018-08-05T00:37:43.196Z"
    }
   },
   "outputs": [],
   "source": [
    "kf = KFold(random_state = 4444)\n",
    "accuracy = []\n",
    "precision = []\n",
    "recall = []\n",
    "f1 = []\n",
    "fB = []\n",
    "    \n",
    "for train_index, test_index in kf.split(X_smoted):\n",
    "\n",
    "    kX_train = X_smoted.iloc[train_index]\n",
    "    kX_test = X_smoted.iloc[test_index]\n",
    "    ky_train = y_smoted.iloc[train_index]\n",
    "    ky_test = y_smoted.iloc[test_index]\n",
    "\n",
    "    lm1.fit(kX_train, ky_train)\n",
    "    y_predict = rf2.predict(kX_test)\n",
    "\n",
    "    accuracy.append(accuracy_score(ky_test, y_predict))\n",
    "    precision.append(precision_score(ky_test, y_predict, pos_label = 'Fatal'))\n",
    "    recall.append(recall_score(ky_test, y_predict, pos_label = 'Fatal'))\n",
    "    f1.append(f1_score(ky_test, y_predict, pos_label = 'Fatal'))\n",
    "    fB.append(fbeta_score(ky_test, y_predict, beta=2.0, pos_label = 'Fatal'))\n",
    "\n",
    "accuracy = np.round(np.mean(accuracy), 4)\n",
    "precision = np.round(np.mean(precision), 4)\n",
    "recall = np.round(np.mean(recall), 4)\n",
    "f1 = np.round(np.mean(f1), 4)\n",
    "fB = np.round(np.mean(fB), 4)\n",
    "\n",
    "print('Scores with SMOTE Oversampling -- RF SMOTED MVP')\n",
    "print(f'RF MVP accuracy: {accuracy} precision: {precision} recall: {recall} f1: {f1} fB: {fB}')\n",
    "print('')"
   ]
  },
  {
   "cell_type": "code",
   "execution_count": null,
   "metadata": {
    "ExecuteTime": {
     "start_time": "2018-08-05T00:37:43.203Z"
    }
   },
   "outputs": [],
   "source": [
    "feature_selection(X_smoted, y_smoted, 20)"
   ]
  },
  {
   "cell_type": "code",
   "execution_count": null,
   "metadata": {
    "ExecuteTime": {
     "start_time": "2018-08-05T00:37:43.207Z"
    }
   },
   "outputs": [],
   "source": [
    "columns = ['Number_Engines_Scaled','Total_Passengers_Scaled', 'Season_Fall',\n",
    "       'Season_Spring', 'Season_Summer', 'Season_Winter', 'Amateur_Built_No', 'Amateur_Built_Yes',\n",
    "       'Engine_Type_Reciprocating', 'Engine_Type_Turbo Fan',\n",
    "       'Engine_Type_Turbo Jet', 'Engine_Type_Turbo Prop',\n",
    "       'Engine_Type_Turbo Shaft', 'Engine_Type_Unknown',\n",
    "       'Flight_Purpose_Aerial Application', 'Flight_Purpose_Business',\n",
    "       'Flight_Purpose_Ferry', 'Flight_Purpose_Instructional',\n",
    "       'Flight_Purpose_Other', 'Flight_Purpose_Personal',\n",
    "       'Flight_Purpose_Positioning', 'Weather_Condition_IMC', 'Weather_Condition_VMC',\n",
    "       'Broad_Phase_of_Flight_INFLIGHT', 'Broad_Phase_of_Flight_LANDING',\n",
    "       'Broad_Phase_of_Flight_TAKEOFF', 'Broad_Phase_of_Flight_TAXI',\n",
    "       'Solo_Flight_No', 'Solo_Flight_Yes']\n",
    "\n",
    "feature_viewer = {}\n",
    "for col, score in zip(columns, rf2.feature_importances_):\n",
    "    feature_viewer[col] = score\n",
    "pd.Series(feature_viewer)"
   ]
  },
  {
   "cell_type": "code",
   "execution_count": null,
   "metadata": {},
   "outputs": [],
   "source": []
  },
  {
   "cell_type": "code",
   "execution_count": null,
   "metadata": {
    "ExecuteTime": {
     "start_time": "2018-08-05T00:37:43.218Z"
    }
   },
   "outputs": [],
   "source": [
    "## FROM DAMIEN'S PAIR PROGRAMMING EXAMPLE\n",
    "\n",
    "# models = [('knn', KNeighborsClassifier), \n",
    "#           ('logistic', LogisticRegression),\n",
    "#           ('tree', DecisionTreeClassifier),\n",
    "#           ('forest', RandomForestClassifier)\n",
    "#          ]\n",
    "\n",
    "# param_choices = [\n",
    "#     {\n",
    "#         'n_neighbors': range(1, 12)\n",
    "#     },\n",
    "#     {\n",
    "#         'C': np.logspace(-3,6, 12),\n",
    "#         'penalty': ['l1', 'l2']\n",
    "#     },\n",
    "#     {\n",
    "#         'max_depth': [1,2,3,4,5],\n",
    "#         'min_samples_leaf': [3,6,10]\n",
    "#     },\n",
    "#     {\n",
    "#         'n_estimators': [50, 100, 200],\n",
    "#         'max_depth': [1,2,3,4,5],\n",
    "#         'min_samples_leaf': [3,6,10]\n",
    "#     }\n",
    "# ]\n",
    "\n",
    "# grids = {}\n",
    "# for model_info, params in zip(models, param_choices):\n",
    "#     name, model = model_info\n",
    "#     grid = GridSearchCV(model(), params)\n",
    "#     grid.fit(X_smoted, y_smoted)\n",
    "#     s = f\"{name}: best score: {grid.best_score_}, best estimator: {grid.best_estimator_}\"\n",
    "#     print(s)\n",
    "#     grids[name] = grid"
   ]
  },
  {
   "cell_type": "code",
   "execution_count": null,
   "metadata": {
    "ExecuteTime": {
     "start_time": "2018-08-05T00:37:43.222Z"
    }
   },
   "outputs": [],
   "source": [
    "from sklearn.metrics import fbeta_score\n",
    "\n",
    "kf = KFold(random_state = 4444)\n",
    "accuracy = []\n",
    "precision = []\n",
    "recall = []\n",
    "f1 = []\n",
    "fB = []\n",
    "\n",
    "y_predict = rf2.predict(X_FINALtest)\n",
    "\n",
    "accuracy.append(accuracy_score(y_FINALtest, y_predict))\n",
    "precision.append(precision_score(y_FINALtest, y_predict, pos_label = 'Fatal'))\n",
    "recall.append(recall_score(y_FINALtest, y_predict, pos_label = 'Fatal'))\n",
    "f1.append(f1_score(y_FINALtest, y_predict, pos_label = 'Fatal'))\n",
    "fB.append(fbeta_score(y_FINALtest, y_predict, beta=b, pos_label = 'Fatal'))\n",
    "\n",
    "accuracy = np.round(np.mean(accuracy), 4)\n",
    "precision = np.round(np.mean(precision), 4)\n",
    "recall = np.round(np.mean(recall), 4)\n",
    "f1 = np.round(np.mean(f1), 4)\n",
    "fB = np.round(np.mean(fB), 4)\n",
    "\n",
    "print(f'FINAL TEST SCORE with SMOTE Random Forest MVP')\n",
    "print(f'accuracy: {accuracy} precision: {precision} recall: {recall} f1: {f1} fB: {fB}')\n",
    "print('')"
   ]
  },
  {
   "cell_type": "code",
   "execution_count": null,
   "metadata": {
    "ExecuteTime": {
     "start_time": "2018-08-05T00:37:43.226Z"
    }
   },
   "outputs": [],
   "source": [
    "models = [('tree', DecisionTreeClassifier)]\n",
    "\n",
    "param_choices = [{\n",
    "        'max_depth': [1,2,3,4,5,6,7],\n",
    "        'min_samples_leaf': [3,6,8,10,12,15]\n",
    "    }]\n",
    "\n",
    "grids = {}\n",
    "for model_info, params in zip(models, param_choices):\n",
    "    name, model = model_info\n",
    "    grid = GridSearchCV(model(), params)\n",
    "    grid.fit(X_smoted, y_smoted)\n",
    "    s = f\"{name}: best score: {grid.best_score_}, best estimator: {grid.best_estimator_}\"\n",
    "    print(s)\n",
    "    grids[name] = grid"
   ]
  },
  {
   "cell_type": "code",
   "execution_count": null,
   "metadata": {
    "ExecuteTime": {
     "start_time": "2018-08-05T00:37:43.232Z"
    }
   },
   "outputs": [],
   "source": [
    "dt = grid.best_estimator_\n",
    "dt.fit(X_smoted, y_smoted)"
   ]
  },
  {
   "cell_type": "code",
   "execution_count": null,
   "metadata": {
    "ExecuteTime": {
     "start_time": "2018-08-05T00:37:43.237Z"
    }
   },
   "outputs": [],
   "source": [
    "kf = KFold(random_state = 4444)\n",
    "accuracy = []\n",
    "precision = []\n",
    "recall = []\n",
    "f1 = []\n",
    "fB = []\n",
    "    \n",
    "for train_index, test_index in kf.split(X_smoted):\n",
    "\n",
    "    kX_train = X_smoted.iloc[train_index]\n",
    "    kX_test = X_smoted.iloc[test_index]\n",
    "    ky_train = y_smoted.iloc[train_index]\n",
    "    ky_test = y_smoted.iloc[test_index]\n",
    "\n",
    "    lm1.fit(kX_train, ky_train)\n",
    "    y_predict = dt.predict(kX_test)\n",
    "\n",
    "    accuracy.append(accuracy_score(ky_test, y_predict))\n",
    "    precision.append(precision_score(ky_test, y_predict, pos_label = 'Fatal'))\n",
    "    recall.append(recall_score(ky_test, y_predict, pos_label = 'Fatal'))\n",
    "    f1.append(f1_score(ky_test, y_predict, pos_label = 'Fatal'))\n",
    "    fB.append(fbeta_score(ky_test, y_predict, beta=2.0, pos_label = 'Fatal'))\n",
    "\n",
    "accuracy = np.round(np.mean(accuracy), 4)\n",
    "precision = np.round(np.mean(precision), 4)\n",
    "recall = np.round(np.mean(recall), 4)\n",
    "f1 = np.round(np.mean(f1), 4)\n",
    "fB = np.round(np.mean(fB), 4)\n",
    "\n",
    "print('Scores with SMOTE Oversampling -- Decision Tree SMOTED MVP')\n",
    "print(f'RF MVP accuracy: {accuracy} precision: {precision} recall: {recall} f1: {f1} fB: {fB}')\n",
    "print('')"
   ]
  },
  {
   "cell_type": "code",
   "execution_count": null,
   "metadata": {
    "ExecuteTime": {
     "start_time": "2018-08-05T00:37:43.241Z"
    }
   },
   "outputs": [],
   "source": [
    "from sklearn.metrics import fbeta_score\n",
    "\n",
    "models = [dt, rf2]\n",
    "names = ['Decision Tree SMOTE MVP', 'Random Forest SMOTE MVP']\n",
    "\n",
    "for model, name in zip(models, names):\n",
    "\n",
    "    kf = KFold(random_state = 4444)\n",
    "    accuracy = []\n",
    "    precision = []\n",
    "    recall = []\n",
    "    f1 = []\n",
    "    fB = []\n",
    "\n",
    "    y_predict = model.predict(X_FINALtest)\n",
    "\n",
    "    accuracy.append(accuracy_score(y_FINALtest, y_predict))\n",
    "    precision.append(precision_score(y_FINALtest, y_predict, pos_label = 'Fatal'))\n",
    "    recall.append(recall_score(y_FINALtest, y_predict, pos_label = 'Fatal'))\n",
    "    f1.append(f1_score(y_FINALtest, y_predict, pos_label = 'Fatal'))\n",
    "    fB.append(fbeta_score(y_FINALtest, y_predict, beta=b, pos_label = 'Fatal'))\n",
    "\n",
    "    accuracy = np.round(np.mean(accuracy), 4)\n",
    "    precision = np.round(np.mean(precision), 4)\n",
    "    recall = np.round(np.mean(recall), 4)\n",
    "    f1 = np.round(np.mean(f1), 4)\n",
    "    fB = np.round(np.mean(fB), 4)\n",
    "\n",
    "    print(f'FINAL TEST Scores MVP')\n",
    "    print(f'{name} accuracy: {accuracy} precision: {precision} recall: {recall} f1: {f1} fB: {fB}')\n",
    "    print('')"
   ]
  },
  {
   "cell_type": "code",
   "execution_count": null,
   "metadata": {
    "ExecuteTime": {
     "start_time": "2018-08-05T00:37:43.246Z"
    }
   },
   "outputs": [],
   "source": [
    "from sklearn.linear_model import LogisticRegression, SGDClassifier\n",
    "from sklearn.svm import SVC\n",
    "from sklearn.metrics import roc_curve, auc\n",
    "\n",
    "models = [dt, rf2]\n",
    "names = ['Decision Tree SMOTE MVP', 'Random Forest SMOTE MVP']\n",
    "\n",
    "roc_plotting_stuff = []\n",
    "for model, name in zip(models, names):\n",
    "    model.fit(X_smoted, y_smoted)\n",
    "    preds = model.predict_proba(X_FINALtest)\n",
    "    fpr, tpr, _ = roc_curve(y_FINALtest, preds[:,0], pos_label = 'Fatal')\n",
    "    auc_score = auc(fpr, tpr)\n",
    "    roc_plotting_stuff.append((name, tpr, fpr, auc_score))\n",
    "    \n",
    "print(preds)"
   ]
  },
  {
   "cell_type": "code",
   "execution_count": null,
   "metadata": {
    "ExecuteTime": {
     "start_time": "2018-08-05T00:37:43.251Z"
    }
   },
   "outputs": [],
   "source": [
    "plt.figure(dpi=250)\n",
    "for name, tpr, fpr, auc_score in roc_plotting_stuff:\n",
    "    plt.plot(fpr, tpr, label=name+' (auc: %.2f)'%auc_score)\n",
    "plt.legend(loc='lower right', fontsize=9)\n",
    "plt.plot([0, 1], [0, 1], color='k', linestyle='--');\n",
    "plt.xlabel(\"False Positive Rate\")\n",
    "plt.ylabel(\"True Positive Rate\")\n",
    "plt.title(\"Comparing ROC Curves\");"
   ]
  },
  {
   "cell_type": "code",
   "execution_count": null,
   "metadata": {
    "ExecuteTime": {
     "end_time": "2018-08-04T19:57:52.168590Z",
     "start_time": "2018-08-04T19:57:51.924585Z"
    }
   },
   "outputs": [],
   "source": []
  },
  {
   "cell_type": "code",
   "execution_count": null,
   "metadata": {},
   "outputs": [],
   "source": []
  },
  {
   "cell_type": "markdown",
   "metadata": {
    "ExecuteTime": {
     "end_time": "2018-08-04T06:08:03.882602Z",
     "start_time": "2018-08-04T06:08:03.879910Z"
    }
   },
   "source": [
    "# REDO WITH LESS FEATURES"
   ]
  },
  {
   "cell_type": "code",
   "execution_count": null,
   "metadata": {
    "ExecuteTime": {
     "start_time": "2018-08-05T00:37:43.266Z"
    }
   },
   "outputs": [],
   "source": [
    "y = real_df['Was_Fatal']\n",
    "X = real_df[['Season_Fall',\n",
    "       'Season_Spring', 'Season_Summer', 'Season_Winter', 'Flight_Purpose_Aerial Application',\n",
    "       'Flight_Purpose_Business', 'Flight_Purpose_Ferry', 'Flight_Purpose_Instructional',\n",
    "       'Flight_Purpose_Other', 'Flight_Purpose_Personal',\n",
    "       'Flight_Purpose_Positioning', 'Weather_Condition_IMC', 'Weather_Condition_VMC',\n",
    "       'Broad_Phase_of_Flight_INFLIGHT', 'Broad_Phase_of_Flight_LANDING',\n",
    "       'Broad_Phase_of_Flight_TAKEOFF', 'Broad_Phase_of_Flight_TAXI']]\n",
    "\n",
    "\n",
    "X_train, X_FINALtest, y_train, y_FINALtest = train_test_split(X, y, test_size=0.25, random_state=4444, stratify=y)"
   ]
  },
  {
   "cell_type": "code",
   "execution_count": null,
   "metadata": {
    "ExecuteTime": {
     "start_time": "2018-08-05T00:37:43.271Z"
    }
   },
   "outputs": [],
   "source": [
    "X_train.info()"
   ]
  },
  {
   "cell_type": "code",
   "execution_count": null,
   "metadata": {
    "ExecuteTime": {
     "end_time": "2018-08-04T20:28:05.692853Z",
     "start_time": "2018-08-04T20:28:05.195131Z"
    }
   },
   "outputs": [],
   "source": []
  },
  {
   "cell_type": "code",
   "execution_count": null,
   "metadata": {
    "ExecuteTime": {
     "end_time": "2018-08-04T19:57:54.144846Z",
     "start_time": "2018-08-04T19:57:52.679969Z"
    }
   },
   "outputs": [],
   "source": []
  },
  {
   "cell_type": "code",
   "execution_count": null,
   "metadata": {
    "ExecuteTime": {
     "start_time": "2018-08-05T00:37:43.285Z"
    }
   },
   "outputs": [],
   "source": [
    "from imblearn.over_sampling import SMOTE\n",
    "X_smoted, y_smoted = SMOTE(random_state=42).fit_sample(X_train,y_train)\n",
    "\n",
    "X_smoted = pd.DataFrame(X_smoted, columns=['Season_Fall',\n",
    "       'Season_Spring', 'Season_Summer', 'Season_Winter',\n",
    "       'Flight_Purpose_Aerial Application', 'Flight_Purpose_Business',\n",
    "       'Flight_Purpose_Ferry', 'Flight_Purpose_Instructional',\n",
    "       'Flight_Purpose_Other', 'Flight_Purpose_Personal',\n",
    "       'Flight_Purpose_Positioning', 'Weather_Condition_IMC', 'Weather_Condition_VMC',\n",
    "       'Broad_Phase_of_Flight_INFLIGHT', 'Broad_Phase_of_Flight_LANDING',\n",
    "       'Broad_Phase_of_Flight_TAKEOFF', 'Broad_Phase_of_Flight_TAXI'])\n",
    "\n",
    "y_smoted = pd.Series(y_smoted)"
   ]
  },
  {
   "cell_type": "code",
   "execution_count": null,
   "metadata": {
    "ExecuteTime": {
     "start_time": "2018-08-05T00:37:43.290Z"
    }
   },
   "outputs": [],
   "source": [
    "# USING SMOTE\n",
    "\n",
    "models = [LogisticRegression(), KNeighborsClassifier(), GaussianNB(), SVC(),\n",
    "           DecisionTreeClassifier(), RandomForestClassifier(), GradientBoostingClassifier()]\n",
    "names = ['LR', 'KNN', 'NB', 'SVC', 'Decision Tree', 'Random Forest', 'Gradient Boosted Trees']\n",
    "\n",
    "for i in range(len(models)):\n",
    "    \n",
    "    kf = KFold(random_state = 4444)\n",
    "    accuracy = []\n",
    "    precision = []\n",
    "    recall = []\n",
    "    f1 = []\n",
    "    fB = []\n",
    "    \n",
    "    for train_index, test_index in kf.split(X_smoted):\n",
    "        \n",
    "        kX_train = X_smoted.iloc[train_index]\n",
    "        kX_test = X_smoted.iloc[test_index]\n",
    "        ky_train = y_smoted.iloc[train_index]\n",
    "        ky_test = y_smoted.iloc[test_index]\n",
    "        \n",
    "        models[i].fit(kX_train, ky_train)\n",
    "        y_predict = models[i].predict(kX_test)\n",
    "        \n",
    "        accuracy.append(accuracy_score(ky_test, y_predict))\n",
    "        precision.append(precision_score(ky_test, y_predict, pos_label = 'Fatal'))\n",
    "        recall.append(recall_score(ky_test, y_predict, pos_label = 'Fatal'))\n",
    "        f1.append(f1_score(ky_test, y_predict, pos_label = 'Fatal'))\n",
    "        fB.append(fbeta_score(ky_test, y_predict, beta=2.0, pos_label = 'Fatal'))\n",
    "    \n",
    "    accuracy = np.round(np.mean(accuracy), 4)\n",
    "    precision = np.round(np.mean(precision), 4)\n",
    "    recall = np.round(np.mean(recall), 4)\n",
    "    f1 = np.round(np.mean(f1), 4)\n",
    "    fB = np.round(np.mean(fB), 4)\n",
    "    \n",
    "    print('Scores with SMOTE Oversampling -- less features')\n",
    "    print(f'{names[i]} accuracy: {accuracy} precision: {precision} recall: {recall} f1: {f1} fB: {fB}')\n",
    "    print('')"
   ]
  },
  {
   "cell_type": "code",
   "execution_count": null,
   "metadata": {
    "ExecuteTime": {
     "start_time": "2018-08-05T00:37:43.299Z"
    }
   },
   "outputs": [],
   "source": [
    "## FROM DAMIEN'S PAIR PROGRAMMING EXAMPLE\n",
    "\n",
    "models = [('knn', KNeighborsClassifier), \n",
    "          ('logistic', LogisticRegression),\n",
    "          ('tree', DecisionTreeClassifier),\n",
    "          ('forest', RandomForestClassifier)\n",
    "         ]\n",
    "\n",
    "param_choices = [\n",
    "    {\n",
    "        'n_neighbors': range(1, 12)\n",
    "    },\n",
    "    {\n",
    "        'C': np.logspace(-3,6, 12),\n",
    "        'penalty': ['l1', 'l2']\n",
    "    },\n",
    "    {\n",
    "        'max_depth': [1,2,3,4,5],\n",
    "        'min_samples_leaf': [3,6,10]\n",
    "    },\n",
    "    {\n",
    "        'n_estimators': [50, 100, 200],\n",
    "        'max_depth': [1,2,3,4,5],\n",
    "        'min_samples_leaf': [3,6,10]\n",
    "    }\n",
    "]\n",
    "\n",
    "grids = {}\n",
    "for model_info, params in zip(models, param_choices):\n",
    "    name, model = model_info\n",
    "    grid = GridSearchCV(model(), params)\n",
    "    grid.fit(X_smoted, y_smoted)\n",
    "    s = f\"{name}: best score: {grid.best_score_}, best estimator: {grid.best_estimator_}\"\n",
    "    print(s)\n",
    "    grids[name] = grid"
   ]
  },
  {
   "cell_type": "code",
   "execution_count": null,
   "metadata": {
    "ExecuteTime": {
     "start_time": "2018-08-05T00:37:43.304Z"
    }
   },
   "outputs": [],
   "source": [
    "models = [('logistic', LogisticRegression)]\n",
    "\n",
    "param_choices = [{\n",
    "        'C': np.logspace(-3,6, 12),\n",
    "        'penalty': ['l1', 'l2']\n",
    "    }]\n",
    "\n",
    "grids = {}\n",
    "for model_info, params in zip(models, param_choices):\n",
    "    name, model = model_info\n",
    "    grid = GridSearchCV(model(), params)\n",
    "    grid.fit(X_smoted, y_smoted)\n",
    "    s = f\"{name}: best score: {grid.best_score_}, best estimator: {grid.best_estimator_}\"\n",
    "    print(s)\n",
    "    grids[name] = grid"
   ]
  },
  {
   "cell_type": "code",
   "execution_count": null,
   "metadata": {
    "ExecuteTime": {
     "start_time": "2018-08-05T00:37:43.312Z"
    }
   },
   "outputs": [],
   "source": [
    "lm2 = grid.best_estimator_\n",
    "lm2.fit(X_smoted, y_smoted)"
   ]
  },
  {
   "cell_type": "code",
   "execution_count": null,
   "metadata": {
    "ExecuteTime": {
     "start_time": "2018-08-05T00:37:43.319Z"
    }
   },
   "outputs": [],
   "source": [
    "kf = KFold(random_state = 4444)\n",
    "accuracy = []\n",
    "precision = []\n",
    "recall = []\n",
    "f1 = []\n",
    "fB = []\n",
    "    \n",
    "for train_index, test_index in kf.split(X_smoted):\n",
    "\n",
    "    kX_train = X_smoted.iloc[train_index]\n",
    "    kX_test = X_smoted.iloc[test_index]\n",
    "    ky_train = y_smoted.iloc[train_index]\n",
    "    ky_test = y_smoted.iloc[test_index]\n",
    "\n",
    "    lm1.fit(kX_train, ky_train)\n",
    "    y_predict = lm2.predict(kX_test)\n",
    "\n",
    "    accuracy.append(accuracy_score(ky_test, y_predict))\n",
    "    precision.append(precision_score(ky_test, y_predict, pos_label = 'Fatal'))\n",
    "    recall.append(recall_score(ky_test, y_predict, pos_label = 'Fatal'))\n",
    "    f1.append(f1_score(ky_test, y_predict, pos_label = 'Fatal'))\n",
    "    fB.append(fbeta_score(ky_test, y_predict, beta=2.0, pos_label = 'Fatal'))\n",
    "\n",
    "accuracy = np.round(np.mean(accuracy), 4)\n",
    "precision = np.round(np.mean(precision), 4)\n",
    "recall = np.round(np.mean(recall), 4)\n",
    "f1 = np.round(np.mean(f1), 4)\n",
    "fB = np.round(np.mean(fB), 4)\n",
    "\n",
    "print('Scores with SMOTED BALANCE -- Logistic Regress Less Features')\n",
    "print(f'Logistic Regress accuracy: {accuracy} precision: {precision} recall: {recall} f1: {f1} fB: {fB}')\n",
    "print('')"
   ]
  },
  {
   "cell_type": "code",
   "execution_count": null,
   "metadata": {
    "ExecuteTime": {
     "start_time": "2018-08-05T00:37:43.326Z"
    }
   },
   "outputs": [],
   "source": [
    "columns = ['Season_Fall',\n",
    "       'Season_Spring', 'Season_Summer', 'Season_Winter',\n",
    "       'Flight_Purpose_Aerial Application', 'Flight_Purpose_Business',\n",
    "       'Flight_Purpose_Ferry', 'Flight_Purpose_Instructional',\n",
    "       'Flight_Purpose_Other', 'Flight_Purpose_Personal',\n",
    "       'Flight_Purpose_Positioning', 'Weather_Condition_IMC', 'Weather_Condition_VMC',\n",
    "       'Broad_Phase_of_Flight_INFLIGHT', 'Broad_Phase_of_Flight_LANDING',\n",
    "       'Broad_Phase_of_Flight_TAKEOFF', 'Broad_Phase_of_Flight_TAXI']\n",
    "\n",
    "coef_viewer = {}\n",
    "for col, score in zip(columns, lm2.coef_[0]):\n",
    "    coef_viewer[col] = score\n",
    "pd.Series(coef_viewer)"
   ]
  },
  {
   "cell_type": "code",
   "execution_count": null,
   "metadata": {
    "ExecuteTime": {
     "start_time": "2018-08-05T00:37:43.333Z"
    }
   },
   "outputs": [],
   "source": [
    "from sklearn.metrics import fbeta_score\n",
    "\n",
    "kf = KFold(random_state = 4444)\n",
    "accuracy = []\n",
    "precision = []\n",
    "recall = []\n",
    "f1 = []\n",
    "fB = []\n",
    "\n",
    "y_predict = lm2.predict(X_FINALtest)\n",
    "\n",
    "accuracy.append(accuracy_score(y_FINALtest, y_predict))\n",
    "precision.append(precision_score(y_FINALtest, y_predict, pos_label = 'Fatal'))\n",
    "recall.append(recall_score(y_FINALtest, y_predict, pos_label = 'Fatal'))\n",
    "f1.append(f1_score(y_FINALtest, y_predict, pos_label = 'Fatal'))\n",
    "fB.append(fbeta_score(y_FINALtest, y_predict, beta=b, pos_label = 'Fatal'))\n",
    "\n",
    "accuracy = np.round(np.mean(accuracy), 4)\n",
    "precision = np.round(np.mean(precision), 4)\n",
    "recall = np.round(np.mean(recall), 4)\n",
    "f1 = np.round(np.mean(f1), 4)\n",
    "fB = np.round(np.mean(fB), 4)\n",
    "\n",
    "print(f'TEST Scores with SMOTE Logistic Regression Less Features')\n",
    "print(f'accuracy: {accuracy} precision: {precision} recall: {recall} f1: {f1} fB: {fB}')\n",
    "print('')"
   ]
  },
  {
   "cell_type": "code",
   "execution_count": null,
   "metadata": {
    "ExecuteTime": {
     "start_time": "2018-08-05T00:37:43.337Z"
    }
   },
   "outputs": [],
   "source": [
    "models = [('forest', RandomForestClassifier)]\n",
    "\n",
    "param_choices = [{\n",
    "        'n_estimators': [25,50, 100, 200],\n",
    "        'max_depth': [1,2,3,4,5,7,10],\n",
    "        'min_samples_leaf': [3,6,10]\n",
    "    }]\n",
    "\n",
    "grids = {}\n",
    "for model_info, params in zip(models, param_choices):\n",
    "    name, model = model_info\n",
    "    grid = GridSearchCV(model(), params)\n",
    "    grid.fit(X_smoted, y_smoted)\n",
    "    s = f\"{name}: best score: {grid.best_score_}, best estimator: {grid.best_estimator_}\"\n",
    "    print(s)\n",
    "    grids[name] = grid"
   ]
  },
  {
   "cell_type": "code",
   "execution_count": null,
   "metadata": {
    "ExecuteTime": {
     "start_time": "2018-08-05T00:37:43.342Z"
    }
   },
   "outputs": [],
   "source": [
    "rf3 = grid.best_estimator_\n",
    "rf3.fit(X_smoted, y_smoted)"
   ]
  },
  {
   "cell_type": "code",
   "execution_count": null,
   "metadata": {
    "ExecuteTime": {
     "start_time": "2018-08-05T00:37:43.346Z"
    }
   },
   "outputs": [],
   "source": [
    "kf = KFold(random_state = 4444)\n",
    "accuracy = []\n",
    "precision = []\n",
    "recall = []\n",
    "f1 = []\n",
    "fB = []\n",
    "    \n",
    "for train_index, test_index in kf.split(X_smoted):\n",
    "\n",
    "    kX_train = X_smoted.iloc[train_index]\n",
    "    kX_test = X_smoted.iloc[test_index]\n",
    "    ky_train = y_smoted.iloc[train_index]\n",
    "    ky_test = y_smoted.iloc[test_index]\n",
    "\n",
    "    lm1.fit(kX_train, ky_train)\n",
    "    y_predict = rf3.predict(kX_test)\n",
    "\n",
    "    accuracy.append(accuracy_score(ky_test, y_predict))\n",
    "    precision.append(precision_score(ky_test, y_predict, pos_label = 'Fatal'))\n",
    "    recall.append(recall_score(ky_test, y_predict, pos_label = 'Fatal'))\n",
    "    f1.append(f1_score(ky_test, y_predict, pos_label = 'Fatal'))\n",
    "    fB.append(fbeta_score(ky_test, y_predict, beta=2.0, pos_label = 'Fatal'))\n",
    "\n",
    "accuracy = np.round(np.mean(accuracy), 4)\n",
    "precision = np.round(np.mean(precision), 4)\n",
    "recall = np.round(np.mean(recall), 4)\n",
    "f1 = np.round(np.mean(f1), 4)\n",
    "fB = np.round(np.mean(fB), 4)\n",
    "\n",
    "print('Scores with SMOTE Oversampling -- RF SMOTED LESS FEATURES')\n",
    "print(f'RF MVP accuracy: {accuracy} precision: {precision} recall: {recall} f1: {f1} fB: {fB}')\n",
    "print('')"
   ]
  },
  {
   "cell_type": "code",
   "execution_count": null,
   "metadata": {
    "ExecuteTime": {
     "start_time": "2018-08-05T00:37:43.352Z"
    }
   },
   "outputs": [],
   "source": [
    "columns = ['Season_Fall',\n",
    "       'Season_Spring', 'Season_Summer', 'Season_Winter',\n",
    "       'Flight_Purpose_Aerial Application', 'Flight_Purpose_Business',\n",
    "       'Flight_Purpose_Ferry', 'Flight_Purpose_Instructional',\n",
    "       'Flight_Purpose_Other', 'Flight_Purpose_Personal',\n",
    "       'Flight_Purpose_Positioning', 'Weather_Condition_IMC', 'Weather_Condition_VMC',\n",
    "       'Broad_Phase_of_Flight_INFLIGHT', 'Broad_Phase_of_Flight_LANDING',\n",
    "       'Broad_Phase_of_Flight_TAKEOFF', 'Broad_Phase_of_Flight_TAXI']\n",
    "\n",
    "feature_viewer = {}\n",
    "for col, score in zip(columns, rf3.feature_importances_):\n",
    "    feature_viewer[col] = score\n",
    "pd.Series(feature_viewer)"
   ]
  },
  {
   "cell_type": "code",
   "execution_count": null,
   "metadata": {
    "ExecuteTime": {
     "start_time": "2018-08-05T00:37:43.357Z"
    }
   },
   "outputs": [],
   "source": [
    "from sklearn.metrics import fbeta_score\n",
    "\n",
    "kf = KFold(random_state = 4444)\n",
    "accuracy = []\n",
    "precision = []\n",
    "recall = []\n",
    "f1 = []\n",
    "fB = []\n",
    "\n",
    "y_predict = rf3.predict(X_FINALtest)\n",
    "\n",
    "accuracy.append(accuracy_score(y_FINALtest, y_predict))\n",
    "precision.append(precision_score(y_FINALtest, y_predict, pos_label = 'Fatal'))\n",
    "recall.append(recall_score(y_FINALtest, y_predict, pos_label = 'Fatal'))\n",
    "f1.append(f1_score(y_FINALtest, y_predict, pos_label = 'Fatal'))\n",
    "fB.append(fbeta_score(y_FINALtest, y_predict, beta=b, pos_label = 'Fatal'))\n",
    "\n",
    "accuracy = np.round(np.mean(accuracy), 4)\n",
    "precision = np.round(np.mean(precision), 4)\n",
    "recall = np.round(np.mean(recall), 4)\n",
    "f1 = np.round(np.mean(f1), 4)\n",
    "fB = np.round(np.mean(fB), 4)\n",
    "\n",
    "print(f'TEST Scores with SMOTE RF Less Features')\n",
    "print(f'accuracy: {accuracy} precision: {precision} recall: {recall} f1: {f1} fB: {fB}')\n",
    "print('')"
   ]
  },
  {
   "cell_type": "code",
   "execution_count": null,
   "metadata": {
    "ExecuteTime": {
     "start_time": "2018-08-05T00:37:43.361Z"
    }
   },
   "outputs": [],
   "source": [
    "models = [('tree', DecisionTreeClassifier)]\n",
    "\n",
    "param_choices = [{\n",
    "        'max_depth': [1,2,3,4,5,6,7],\n",
    "        'min_samples_leaf': [3,6,8,10,12,15]\n",
    "    }]\n",
    "\n",
    "grids = {}\n",
    "for model_info, params in zip(models, param_choices):\n",
    "    name, model = model_info\n",
    "    grid = GridSearchCV(model(), params)\n",
    "    grid.fit(X_smoted, y_smoted)\n",
    "    s = f\"{name}: best score: {grid.best_score_}, best estimator: {grid.best_estimator_}\"\n",
    "    print(s)\n",
    "    grids[name] = grid"
   ]
  },
  {
   "cell_type": "code",
   "execution_count": null,
   "metadata": {
    "ExecuteTime": {
     "start_time": "2018-08-05T00:37:43.366Z"
    }
   },
   "outputs": [],
   "source": [
    "dt2 = grid.best_estimator_\n",
    "dt2.fit(X_smoted, y_smoted)"
   ]
  },
  {
   "cell_type": "code",
   "execution_count": null,
   "metadata": {
    "ExecuteTime": {
     "start_time": "2018-08-05T00:37:43.371Z"
    }
   },
   "outputs": [],
   "source": [
    "kf = KFold(random_state = 4444)\n",
    "accuracy = []\n",
    "precision = []\n",
    "recall = []\n",
    "f1 = []\n",
    "fB = []\n",
    "    \n",
    "for train_index, test_index in kf.split(X_smoted):\n",
    "\n",
    "    kX_train = X_smoted.iloc[train_index]\n",
    "    kX_test = X_smoted.iloc[test_index]\n",
    "    ky_train = y_smoted.iloc[train_index]\n",
    "    ky_test = y_smoted.iloc[test_index]\n",
    "\n",
    "    lm1.fit(kX_train, ky_train)\n",
    "    y_predict = dt2.predict(kX_test)\n",
    "\n",
    "    accuracy.append(accuracy_score(ky_test, y_predict))\n",
    "    precision.append(precision_score(ky_test, y_predict, pos_label = 'Fatal'))\n",
    "    recall.append(recall_score(ky_test, y_predict, pos_label = 'Fatal'))\n",
    "    f1.append(f1_score(ky_test, y_predict, pos_label = 'Fatal'))\n",
    "    fB.append(fbeta_score(ky_test, y_predict, beta=2.0, pos_label = 'Fatal'))\n",
    "\n",
    "accuracy = np.round(np.mean(accuracy), 4)\n",
    "precision = np.round(np.mean(precision), 4)\n",
    "recall = np.round(np.mean(recall), 4)\n",
    "f1 = np.round(np.mean(f1), 4)\n",
    "fB = np.round(np.mean(fB), 4)\n",
    "\n",
    "print('Scores with SMOTE Oversampling -- Decision Tree SMOTED LESS FEATURES')\n",
    "print(f'RF MVP accuracy: {accuracy} precision: {precision} recall: {recall} f1: {f1} fB: {fB}')\n",
    "print('')"
   ]
  },
  {
   "cell_type": "code",
   "execution_count": null,
   "metadata": {
    "ExecuteTime": {
     "end_time": "2018-08-04T20:59:00.161345Z",
     "start_time": "2018-08-04T20:59:00.122163Z"
    }
   },
   "outputs": [],
   "source": []
  },
  {
   "cell_type": "code",
   "execution_count": null,
   "metadata": {},
   "outputs": [],
   "source": []
  },
  {
   "cell_type": "code",
   "execution_count": null,
   "metadata": {
    "ExecuteTime": {
     "start_time": "2018-08-05T00:37:43.383Z"
    }
   },
   "outputs": [],
   "source": [
    "from sklearn.metrics import fbeta_score\n",
    "\n",
    "models = [dt2, lm2, rf3]\n",
    "names = ['Decision Tree SMOTE Less Features', 'LR SMOTE Less Features', 'Random Forest SMOTE Less Features']\n",
    "\n",
    "for model, name in zip(models, names):\n",
    "\n",
    "    kf = KFold(random_state = 4444)\n",
    "    accuracy = []\n",
    "    precision = []\n",
    "    recall = []\n",
    "    f1 = []\n",
    "    fB = []\n",
    "\n",
    "    y_predict = model.predict(X_FINALtest)\n",
    "\n",
    "    accuracy.append(accuracy_score(y_FINALtest, y_predict))\n",
    "    precision.append(precision_score(y_FINALtest, y_predict, pos_label = 'Fatal'))\n",
    "    recall.append(recall_score(y_FINALtest, y_predict, pos_label = 'Fatal'))\n",
    "    f1.append(f1_score(y_FINALtest, y_predict, pos_label = 'Fatal'))\n",
    "    fB.append(fbeta_score(y_FINALtest, y_predict, beta=b, pos_label = 'Fatal'))\n",
    "\n",
    "    accuracy = np.round(np.mean(accuracy), 4)\n",
    "    precision = np.round(np.mean(precision), 4)\n",
    "    recall = np.round(np.mean(recall), 4)\n",
    "    f1 = np.round(np.mean(f1), 4)\n",
    "    fB = np.round(np.mean(fB), 4)\n",
    "\n",
    "    print(f'FINAL TEST Scores Less Features')\n",
    "    print(f'{name} accuracy: {accuracy} precision: {precision} recall: {recall} f1: {f1} fB: {fB}')\n",
    "    print('')"
   ]
  },
  {
   "cell_type": "code",
   "execution_count": null,
   "metadata": {
    "ExecuteTime": {
     "start_time": "2018-08-05T00:37:43.389Z"
    }
   },
   "outputs": [],
   "source": [
    "feature_selection(X_smoted, y_smoted, 15)"
   ]
  },
  {
   "cell_type": "code",
   "execution_count": null,
   "metadata": {
    "ExecuteTime": {
     "start_time": "2018-08-05T00:37:43.392Z"
    }
   },
   "outputs": [],
   "source": [
    "columns = ['Season_Fall',\n",
    "       'Season_Spring', 'Season_Summer', 'Season_Winter',\n",
    "       'Flight_Purpose_Aerial Application', 'Flight_Purpose_Business',\n",
    "       'Flight_Purpose_Ferry', 'Flight_Purpose_Instructional',\n",
    "       'Flight_Purpose_Other', 'Flight_Purpose_Personal',\n",
    "       'Flight_Purpose_Positioning', 'Weather_Condition_IMC', 'Weather_Condition_VMC',\n",
    "       'Broad_Phase_of_Flight_INFLIGHT', 'Broad_Phase_of_Flight_LANDING',\n",
    "       'Broad_Phase_of_Flight_TAKEOFF', 'Broad_Phase_of_Flight_TAXI']\n",
    "\n",
    "feature_viewer = {}\n",
    "for col, score in zip(columns, rf3.feature_importances_):\n",
    "    feature_viewer[col] = score\n",
    "pd.Series(feature_viewer)"
   ]
  },
  {
   "cell_type": "code",
   "execution_count": null,
   "metadata": {
    "ExecuteTime": {
     "end_time": "2018-08-04T19:58:38.663883Z",
     "start_time": "2018-08-04T19:56:29.623Z"
    }
   },
   "outputs": [],
   "source": []
  },
  {
   "cell_type": "code",
   "execution_count": null,
   "metadata": {
    "ExecuteTime": {
     "end_time": "2018-08-04T19:58:38.664963Z",
     "start_time": "2018-08-04T19:56:29.628Z"
    }
   },
   "outputs": [],
   "source": []
  },
  {
   "cell_type": "code",
   "execution_count": null,
   "metadata": {
    "ExecuteTime": {
     "end_time": "2018-08-04T19:58:38.665877Z",
     "start_time": "2018-08-04T19:56:29.631Z"
    }
   },
   "outputs": [],
   "source": []
  },
  {
   "cell_type": "code",
   "execution_count": null,
   "metadata": {
    "ExecuteTime": {
     "end_time": "2018-08-04T19:58:38.666878Z",
     "start_time": "2018-08-04T19:56:29.635Z"
    }
   },
   "outputs": [],
   "source": []
  },
  {
   "cell_type": "code",
   "execution_count": null,
   "metadata": {
    "ExecuteTime": {
     "end_time": "2018-08-04T19:58:38.668047Z",
     "start_time": "2018-08-04T19:56:29.640Z"
    }
   },
   "outputs": [],
   "source": []
  },
  {
   "cell_type": "code",
   "execution_count": null,
   "metadata": {
    "ExecuteTime": {
     "end_time": "2018-08-04T19:58:38.669627Z",
     "start_time": "2018-08-04T19:56:29.643Z"
    }
   },
   "outputs": [],
   "source": []
  },
  {
   "cell_type": "code",
   "execution_count": null,
   "metadata": {
    "ExecuteTime": {
     "end_time": "2018-08-04T19:58:38.670986Z",
     "start_time": "2018-08-04T19:56:29.647Z"
    }
   },
   "outputs": [],
   "source": []
  },
  {
   "cell_type": "code",
   "execution_count": null,
   "metadata": {
    "ExecuteTime": {
     "end_time": "2018-08-04T19:58:38.672254Z",
     "start_time": "2018-08-04T19:56:29.651Z"
    }
   },
   "outputs": [],
   "source": []
  },
  {
   "cell_type": "code",
   "execution_count": null,
   "metadata": {},
   "outputs": [],
   "source": []
  },
  {
   "cell_type": "code",
   "execution_count": null,
   "metadata": {
    "ExecuteTime": {
     "start_time": "2018-08-05T00:37:43.428Z"
    }
   },
   "outputs": [],
   "source": [
    "from sklearn.linear_model import LogisticRegression, SGDClassifier\n",
    "from sklearn.svm import SVC\n",
    "from sklearn.metrics import roc_curve, auc\n",
    "\n",
    "models = [dt2, lm2, rf3]\n",
    "names = ['Decision Tree SMOTE Less Features', 'LR SMOTE Less Features', 'Random Forest SMOTE Less Features']\n",
    "\n",
    "roc_plotting_stuff = []\n",
    "for model, name in zip(models, names):\n",
    "    model.fit(X_smoted, y_smoted)\n",
    "    preds = model.predict_proba(X_FINALtest)\n",
    "    fpr, tpr, _ = roc_curve(y_FINALtest, preds[:,0], pos_label = 'Fatal')\n",
    "    auc_score = auc(fpr, tpr)\n",
    "    roc_plotting_stuff.append((name, tpr, fpr, auc_score))\n",
    "    \n",
    "print(preds)"
   ]
  },
  {
   "cell_type": "code",
   "execution_count": null,
   "metadata": {
    "ExecuteTime": {
     "start_time": "2018-08-05T00:37:43.432Z"
    }
   },
   "outputs": [],
   "source": [
    "plt.figure(dpi=250)\n",
    "for name, tpr, fpr, auc_score in roc_plotting_stuff:\n",
    "    plt.plot(fpr, tpr, label=name+' (auc: %.2f)'%auc_score)\n",
    "plt.legend(loc='lower right', fontsize=9)\n",
    "plt.plot([0, 1], [0, 1], color='k', linestyle='--');\n",
    "plt.xlabel(\"False Positive Rate\")\n",
    "plt.ylabel(\"True Positive Rate\")\n",
    "plt.title(\"Comparing ROC Curves\");"
   ]
  },
  {
   "cell_type": "markdown",
   "metadata": {},
   "source": [
    "# REPEAT WITH EVEN LESS FEATURES"
   ]
  },
  {
   "cell_type": "code",
   "execution_count": null,
   "metadata": {
    "ExecuteTime": {
     "start_time": "2018-08-05T00:37:43.438Z"
    }
   },
   "outputs": [],
   "source": [
    "y = real_df['Was_Fatal']\n",
    "X = real_df[['Season_Fall',\n",
    "       'Season_Spring', 'Season_Summer', 'Season_Winter',\n",
    "       'Flight_Purpose_Aerial Application', 'Flight_Purpose_Business',\n",
    "       'Flight_Purpose_Ferry', 'Flight_Purpose_Instructional',\n",
    "       'Flight_Purpose_Other', 'Flight_Purpose_Personal',\n",
    "       'Flight_Purpose_Positioning', 'Weather_Condition_IMC', 'Weather_Condition_VMC',\n",
    "       'Broad_Phase_of_Flight_INFLIGHT', 'Broad_Phase_of_Flight_LANDING',\n",
    "       'Broad_Phase_of_Flight_TAKEOFF', 'Broad_Phase_of_Flight_TAXI']]\n",
    "\n",
    "\n",
    "X_train, X_FINALtest, y_train, y_FINALtest = train_test_split(X, y, test_size=0.25, random_state=4444, stratify=y)"
   ]
  },
  {
   "cell_type": "code",
   "execution_count": null,
   "metadata": {
    "ExecuteTime": {
     "start_time": "2018-08-05T00:37:43.443Z"
    }
   },
   "outputs": [],
   "source": [
    "X_train.info()"
   ]
  },
  {
   "cell_type": "code",
   "execution_count": null,
   "metadata": {
    "ExecuteTime": {
     "start_time": "2018-08-05T00:37:43.448Z"
    }
   },
   "outputs": [],
   "source": [
    "from imblearn.over_sampling import SMOTE\n",
    "X_smoted, y_smoted = SMOTE(random_state=42).fit_sample(X_train,y_train)\n",
    "\n",
    "X_smoted_last = pd.DataFrame(X_smoted, columns=['Season_Fall',\n",
    "       'Season_Spring', 'Season_Summer', 'Season_Winter',\n",
    "       'Flight_Purpose_Aerial Application', 'Flight_Purpose_Business',\n",
    "       'Flight_Purpose_Ferry', 'Flight_Purpose_Instructional',\n",
    "       'Flight_Purpose_Other', 'Flight_Purpose_Personal',\n",
    "       'Flight_Purpose_Positioning', 'Weather_Condition_IMC', 'Weather_Condition_VMC',\n",
    "       'Broad_Phase_of_Flight_INFLIGHT', 'Broad_Phase_of_Flight_LANDING',\n",
    "       'Broad_Phase_of_Flight_TAKEOFF', 'Broad_Phase_of_Flight_TAXI'])\n",
    "\n",
    "y_smoted_last = pd.Series(y_smoted)"
   ]
  },
  {
   "cell_type": "code",
   "execution_count": null,
   "metadata": {
    "ExecuteTime": {
     "start_time": "2018-08-05T00:37:43.454Z"
    }
   },
   "outputs": [],
   "source": [
    "# USING SMOTE\n",
    "\n",
    "models = [LogisticRegression(), KNeighborsClassifier(), GaussianNB(), SVC(),\n",
    "           DecisionTreeClassifier(), RandomForestClassifier(), GradientBoostingClassifier()]\n",
    "names = ['LR', 'KNN', 'NB', 'SVC', 'Decision Tree', 'Random Forest', 'Gradient Boosted Trees']\n",
    "\n",
    "for i in range(len(models)):\n",
    "    \n",
    "    kf = KFold(random_state = 4444)\n",
    "    accuracy = []\n",
    "    precision = []\n",
    "    recall = []\n",
    "    f1 = []\n",
    "    fB = []\n",
    "    \n",
    "    for train_index, test_index in kf.split(X_smoted_last):\n",
    "        \n",
    "        kX_train = X_smoted_last.iloc[train_index]\n",
    "        kX_test = X_smoted_last.iloc[test_index]\n",
    "        ky_train = y_smoted_last.iloc[train_index]\n",
    "        ky_test = y_smoted_last.iloc[test_index]\n",
    "        \n",
    "        models[i].fit(kX_train, ky_train)\n",
    "        y_predict = models[i].predict(kX_test)\n",
    "        \n",
    "        accuracy.append(accuracy_score(ky_test, y_predict))\n",
    "        precision.append(precision_score(ky_test, y_predict, pos_label = 'Fatal'))\n",
    "        recall.append(recall_score(ky_test, y_predict, pos_label = 'Fatal'))\n",
    "        f1.append(f1_score(ky_test, y_predict, pos_label = 'Fatal'))\n",
    "        fB.append(fbeta_score(ky_test, y_predict, beta=2.0, pos_label = 'Fatal'))\n",
    "    \n",
    "    accuracy = np.round(np.mean(accuracy), 4)\n",
    "    precision = np.round(np.mean(precision), 4)\n",
    "    recall = np.round(np.mean(recall), 4)\n",
    "    f1 = np.round(np.mean(f1), 4)\n",
    "    fB = np.round(np.mean(fB), 4)\n",
    "    \n",
    "    print('Scores with SMOTE Oversampling -- last features')\n",
    "    print(f'{names[i]} accuracy: {accuracy} precision: {precision} recall: {recall} f1: {f1} fB: {fB}')\n",
    "    print('')"
   ]
  },
  {
   "cell_type": "code",
   "execution_count": null,
   "metadata": {
    "ExecuteTime": {
     "start_time": "2018-08-05T00:37:43.460Z"
    }
   },
   "outputs": [],
   "source": [
    "## FROM DAMIEN'S PAIR PROGRAMMING EXAMPLE\n",
    "\n",
    "models = [('knn', KNeighborsClassifier), \n",
    "          ('logistic', LogisticRegression),\n",
    "          ('tree', DecisionTreeClassifier),\n",
    "          ('forest', RandomForestClassifier)\n",
    "         ]\n",
    "\n",
    "param_choices = [\n",
    "    {\n",
    "        'n_neighbors': range(1, 12)\n",
    "    },\n",
    "    {\n",
    "        'C': np.logspace(-3,6, 12),\n",
    "        'penalty': ['l1', 'l2']\n",
    "    },\n",
    "    {\n",
    "        'max_depth': [1,2,3,4,5],\n",
    "        'min_samples_leaf': [3,6,10]\n",
    "    },\n",
    "    {\n",
    "        'n_estimators': [50, 100, 200],\n",
    "        'max_depth': [1,2,3,4,5],\n",
    "        'min_samples_leaf': [3,6,10]\n",
    "    }\n",
    "]\n",
    "\n",
    "grids = {}\n",
    "for model_info, params in zip(models, param_choices):\n",
    "    name, model = model_info\n",
    "    grid = GridSearchCV(model(), params)\n",
    "    grid.fit(X_smoted_last, y_smoted_last)\n",
    "    s = f\"{name}: best score: {grid.best_score_}, best estimator: {grid.best_estimator_}\"\n",
    "    print(s)\n",
    "    grids[name] = grid"
   ]
  },
  {
   "cell_type": "code",
   "execution_count": null,
   "metadata": {
    "ExecuteTime": {
     "start_time": "2018-08-05T00:37:43.464Z"
    }
   },
   "outputs": [],
   "source": [
    "models = [('logistic', LogisticRegression)]\n",
    "\n",
    "param_choices = [{\n",
    "        'C': np.logspace(-3,6, 12),\n",
    "        'penalty': ['l1', 'l2']\n",
    "    }]\n",
    "\n",
    "grids = {}\n",
    "for model_info, params in zip(models, param_choices):\n",
    "    name, model = model_info\n",
    "    grid = GridSearchCV(model(), params)\n",
    "    grid.fit(X_smoted_last, y_smoted_last)\n",
    "    s = f\"{name}: best score: {grid.best_score_}, best estimator: {grid.best_estimator_}\"\n",
    "    print(s)\n",
    "    grids[name] = grid"
   ]
  },
  {
   "cell_type": "code",
   "execution_count": null,
   "metadata": {
    "ExecuteTime": {
     "start_time": "2018-08-05T00:37:43.470Z"
    }
   },
   "outputs": [],
   "source": [
    "lm3 = grid.best_estimator_\n",
    "lm3.fit(X_smoted_last, y_smoted_last)"
   ]
  },
  {
   "cell_type": "code",
   "execution_count": null,
   "metadata": {
    "ExecuteTime": {
     "start_time": "2018-08-05T00:37:43.475Z"
    }
   },
   "outputs": [],
   "source": [
    "kf = KFold(random_state = 4444)\n",
    "accuracy = []\n",
    "precision = []\n",
    "recall = []\n",
    "f1 = []\n",
    "fB = []\n",
    "    \n",
    "for train_index, test_index in kf.split(X_smoted_last):\n",
    "\n",
    "    kX_train = X_smoted_last.iloc[train_index]\n",
    "    kX_test = X_smoted_last.iloc[test_index]\n",
    "    ky_train = y_smoted_last.iloc[train_index]\n",
    "    ky_test = y_smoted_last.iloc[test_index]\n",
    "\n",
    "    lm1.fit(kX_train, ky_train)\n",
    "    y_predict = lm3.predict(kX_test)\n",
    "\n",
    "    accuracy.append(accuracy_score(ky_test, y_predict))\n",
    "    precision.append(precision_score(ky_test, y_predict, pos_label = 'Fatal'))\n",
    "    recall.append(recall_score(ky_test, y_predict, pos_label = 'Fatal'))\n",
    "    f1.append(f1_score(ky_test, y_predict, pos_label = 'Fatal'))\n",
    "    fB.append(fbeta_score(ky_test, y_predict, beta=2.0, pos_label = 'Fatal'))\n",
    "\n",
    "accuracy = np.round(np.mean(accuracy), 4)\n",
    "precision = np.round(np.mean(precision), 4)\n",
    "recall = np.round(np.mean(recall), 4)\n",
    "f1 = np.round(np.mean(f1), 4)\n",
    "fB = np.round(np.mean(fB), 4)\n",
    "\n",
    "print('Scores with SMOTED BALANCE -- Logistic Regress Last Features')\n",
    "print(f'Logistic Regress accuracy: {accuracy} precision: {precision} recall: {recall} f1: {f1} fB: {fB}')\n",
    "print('')"
   ]
  },
  {
   "cell_type": "code",
   "execution_count": null,
   "metadata": {
    "ExecuteTime": {
     "start_time": "2018-08-05T00:37:43.479Z"
    }
   },
   "outputs": [],
   "source": [
    "columns = ['Season_Fall',\n",
    "       'Season_Spring', 'Season_Summer', 'Season_Winter',\n",
    "       'Flight_Purpose_Aerial Application', 'Flight_Purpose_Business',\n",
    "       'Flight_Purpose_Ferry', 'Flight_Purpose_Instructional',\n",
    "       'Flight_Purpose_Other', 'Flight_Purpose_Personal',\n",
    "       'Flight_Purpose_Positioning', 'Weather_Condition_IMC', 'Weather_Condition_VMC',\n",
    "       'Broad_Phase_of_Flight_INFLIGHT', 'Broad_Phase_of_Flight_LANDING',\n",
    "       'Broad_Phase_of_Flight_TAKEOFF', 'Broad_Phase_of_Flight_TAXI']\n",
    "\n",
    "coef_viewer = {}\n",
    "for col, score in zip(columns, lm3.coef_[0]):\n",
    "    coef_viewer[col] = score\n",
    "pd.Series(coef_viewer)"
   ]
  },
  {
   "cell_type": "code",
   "execution_count": null,
   "metadata": {
    "ExecuteTime": {
     "start_time": "2018-08-05T00:37:43.485Z"
    }
   },
   "outputs": [],
   "source": [
    "models = [('forest', RandomForestClassifier)]\n",
    "\n",
    "param_choices = [{\n",
    "        'n_estimators': [25,50, 100, 200],\n",
    "        'max_depth': [1,2,3,4,5,7,10],\n",
    "        'min_samples_leaf': [3,6,10]\n",
    "    }]\n",
    "\n",
    "grids = {}\n",
    "for model_info, params in zip(models, param_choices):\n",
    "    name, model = model_info\n",
    "    grid = GridSearchCV(model(), params)\n",
    "    grid.fit(X_smoted_last, y_smoted_last)\n",
    "    s = f\"{name}: best score: {grid.best_score_}, best estimator: {grid.best_estimator_}\"\n",
    "    print(s)\n",
    "    grids[name] = grid"
   ]
  },
  {
   "cell_type": "code",
   "execution_count": null,
   "metadata": {
    "ExecuteTime": {
     "start_time": "2018-08-05T00:37:43.489Z"
    }
   },
   "outputs": [],
   "source": [
    "rf4 = grid.best_estimator_\n",
    "rf4.fit(X_smoted_last, y_smoted_last)"
   ]
  },
  {
   "cell_type": "code",
   "execution_count": null,
   "metadata": {
    "ExecuteTime": {
     "start_time": "2018-08-05T00:37:43.494Z"
    }
   },
   "outputs": [],
   "source": [
    "kf = KFold(random_state = 4444)\n",
    "accuracy = []\n",
    "precision = []\n",
    "recall = []\n",
    "f1 = []\n",
    "fB = []\n",
    "    \n",
    "for train_index, test_index in kf.split(X_smoted_last):\n",
    "\n",
    "    kX_train = X_smoted_last.iloc[train_index]\n",
    "    kX_test = X_smoted_last.iloc[test_index]\n",
    "    ky_train = y_smoted_last.iloc[train_index]\n",
    "    ky_test = y_smoted_last.iloc[test_index]\n",
    "\n",
    "    lm1.fit(kX_train, ky_train)\n",
    "    y_predict = rf4.predict(kX_test)\n",
    "\n",
    "    accuracy.append(accuracy_score(ky_test, y_predict))\n",
    "    precision.append(precision_score(ky_test, y_predict, pos_label = 'Fatal'))\n",
    "    recall.append(recall_score(ky_test, y_predict, pos_label = 'Fatal'))\n",
    "    f1.append(f1_score(ky_test, y_predict, pos_label = 'Fatal'))\n",
    "    fB.append(fbeta_score(ky_test, y_predict, beta=2.0, pos_label = 'Fatal'))\n",
    "\n",
    "accuracy = np.round(np.mean(accuracy), 4)\n",
    "precision = np.round(np.mean(precision), 4)\n",
    "recall = np.round(np.mean(recall), 4)\n",
    "f1 = np.round(np.mean(f1), 4)\n",
    "fB = np.round(np.mean(fB), 4)\n",
    "\n",
    "print('Scores with SMOTE Oversampling -- RF SMOTED LESS FEATURES')\n",
    "print(f'RF MVP accuracy: {accuracy} precision: {precision} recall: {recall} f1: {f1} fB: {fB}')\n",
    "print('')"
   ]
  },
  {
   "cell_type": "code",
   "execution_count": null,
   "metadata": {
    "ExecuteTime": {
     "start_time": "2018-08-05T00:37:43.499Z"
    }
   },
   "outputs": [],
   "source": [
    "columns = ['Season_Fall',\n",
    "       'Season_Spring', 'Season_Summer', 'Season_Winter',\n",
    "       'Flight_Purpose_Aerial Application', 'Flight_Purpose_Business',\n",
    "       'Flight_Purpose_Ferry', 'Flight_Purpose_Instructional',\n",
    "       'Flight_Purpose_Other', 'Flight_Purpose_Personal',\n",
    "       'Flight_Purpose_Positioning', 'Weather_Condition_IMC', 'Weather_Condition_VMC',\n",
    "       'Broad_Phase_of_Flight_INFLIGHT', 'Broad_Phase_of_Flight_LANDING',\n",
    "       'Broad_Phase_of_Flight_TAKEOFF', 'Broad_Phase_of_Flight_TAXI']\n",
    "\n",
    "feature_viewer = {}\n",
    "for col, score in zip(columns, rf4.feature_importances_):\n",
    "    feature_viewer[col] = score\n",
    "pd.Series(feature_viewer)"
   ]
  },
  {
   "cell_type": "code",
   "execution_count": null,
   "metadata": {
    "ExecuteTime": {
     "start_time": "2018-08-05T00:37:43.503Z"
    }
   },
   "outputs": [],
   "source": [
    "models = [('tree', DecisionTreeClassifier)]\n",
    "\n",
    "param_choices = [{\n",
    "        'max_depth': [1,2,3,4,5,6,7],\n",
    "        'min_samples_leaf': [3,6,8,10,12,15]\n",
    "    }]\n",
    "\n",
    "grids = {}\n",
    "for model_info, params in zip(models, param_choices):\n",
    "    name, model = model_info\n",
    "    grid = GridSearchCV(model(), params)\n",
    "    grid.fit(X_smoted_last, y_smoted_last)\n",
    "    s = f\"{name}: best score: {grid.best_score_}, best estimator: {grid.best_estimator_}\"\n",
    "    print(s)\n",
    "    grids[name] = grid"
   ]
  },
  {
   "cell_type": "code",
   "execution_count": null,
   "metadata": {
    "ExecuteTime": {
     "start_time": "2018-08-05T00:37:43.508Z"
    }
   },
   "outputs": [],
   "source": [
    "dt3 = grid.best_estimator_\n",
    "dt3.fit(X_smoted_last, y_smoted_last)"
   ]
  },
  {
   "cell_type": "code",
   "execution_count": null,
   "metadata": {
    "ExecuteTime": {
     "start_time": "2018-08-05T00:37:43.512Z"
    }
   },
   "outputs": [],
   "source": [
    "kf = KFold(random_state = 4444)\n",
    "accuracy = []\n",
    "precision = []\n",
    "recall = []\n",
    "f1 = []\n",
    "fB = []\n",
    "    \n",
    "for train_index, test_index in kf.split(X_smoted_last):\n",
    "\n",
    "    kX_train = X_smoted_last.iloc[train_index]\n",
    "    kX_test = X_smoted_last.iloc[test_index]\n",
    "    ky_train = y_smoted_last.iloc[train_index]\n",
    "    ky_test = y_smoted_last.iloc[test_index]\n",
    "\n",
    "    lm1.fit(kX_train, ky_train)\n",
    "    y_predict = dt3.predict(kX_test)\n",
    "\n",
    "    accuracy.append(accuracy_score(ky_test, y_predict))\n",
    "    precision.append(precision_score(ky_test, y_predict, pos_label = 'Fatal'))\n",
    "    recall.append(recall_score(ky_test, y_predict, pos_label = 'Fatal'))\n",
    "    f1.append(f1_score(ky_test, y_predict, pos_label = 'Fatal'))\n",
    "    fB.append(fbeta_score(ky_test, y_predict, beta=2.0, pos_label = 'Fatal'))\n",
    "\n",
    "accuracy = np.round(np.mean(accuracy), 4)\n",
    "precision = np.round(np.mean(precision), 4)\n",
    "recall = np.round(np.mean(recall), 4)\n",
    "f1 = np.round(np.mean(f1), 4)\n",
    "fB = np.round(np.mean(fB), 4)\n",
    "\n",
    "print('Scores with SMOTE Oversampling -- Decision Tree SMOTED LESS FEATURES')\n",
    "print(f'RF MVP accuracy: {accuracy} precision: {precision} recall: {recall} f1: {f1} fB: {fB}')\n",
    "print('')"
   ]
  },
  {
   "cell_type": "code",
   "execution_count": null,
   "metadata": {
    "ExecuteTime": {
     "start_time": "2018-08-05T00:37:43.515Z"
    }
   },
   "outputs": [],
   "source": [
    "predict_y_smoted_last = rf4.predict(X_smoted_last)"
   ]
  },
  {
   "cell_type": "code",
   "execution_count": null,
   "metadata": {
    "ExecuteTime": {
     "start_time": "2018-08-05T00:37:43.520Z"
    }
   },
   "outputs": [],
   "source": [
    "import collections\n",
    "\n",
    "collections.Counter(predict_y_smoted_last)"
   ]
  },
  {
   "cell_type": "code",
   "execution_count": null,
   "metadata": {
    "ExecuteTime": {
     "start_time": "2018-08-05T00:37:43.525Z"
    }
   },
   "outputs": [],
   "source": [
    "collections.Counter(y_smoted_last)"
   ]
  },
  {
   "cell_type": "code",
   "execution_count": null,
   "metadata": {
    "ExecuteTime": {
     "start_time": "2018-08-05T00:37:43.530Z"
    }
   },
   "outputs": [],
   "source": [
    "#Checking accuracy score on smoted model\n",
    "from sklearn.metrics import confusion_matrix\n",
    "\n",
    "RF_cross_val = cross_val_score(rf4, X_train, y_train, scoring='accuracy', cv = 10)\n",
    "print('(SMOTE): The mean of 10 fold cross validation accuracy score on Random Forest model is', str(round(np.mean(RF_cross_val), 3)))\n",
    "\n",
    "RF_smoted_last = confusion_matrix(y_smoted_last, predict_y_smoted_last)\n",
    "RF_smoted_last = print_confusion_matrix(RF_smoted_last, ['Fatal', 'Non-Fatal'])"
   ]
  },
  {
   "cell_type": "code",
   "execution_count": null,
   "metadata": {
    "ExecuteTime": {
     "start_time": "2018-08-05T00:37:43.533Z"
    }
   },
   "outputs": [],
   "source": [
    "models = [dt3, lm3, rf4]\n",
    "names = ['Decision Tree SMOTE Last Features', 'LR SMOTE Last Features', 'Random Forest SMOTE Last Features']\n",
    "\n",
    "for model, name in zip(models, names):\n",
    "\n",
    "    kf = KFold(random_state = 4444)\n",
    "    accuracy = []\n",
    "    precision = []\n",
    "    recall = []\n",
    "    f1 = []\n",
    "    fB = []\n",
    "\n",
    "    y_predict = model.predict(X_FINALtest)\n",
    "\n",
    "    accuracy.append(accuracy_score(y_FINALtest, y_predict))\n",
    "    precision.append(precision_score(y_FINALtest, y_predict, pos_label = 'Fatal'))\n",
    "    recall.append(recall_score(y_FINALtest, y_predict, pos_label = 'Fatal'))\n",
    "    f1.append(f1_score(y_FINALtest, y_predict, pos_label = 'Fatal'))\n",
    "    fB.append(fbeta_score(y_FINALtest, y_predict, beta=b, pos_label = 'Fatal'))\n",
    "\n",
    "    accuracy = np.round(np.mean(accuracy), 4)\n",
    "    precision = np.round(np.mean(precision), 4)\n",
    "    recall = np.round(np.mean(recall), 4)\n",
    "    f1 = np.round(np.mean(f1), 4)\n",
    "    fB = np.round(np.mean(fB), 4)\n",
    "\n",
    "    print(f'FINAL TEST Scores Last Features')\n",
    "    print(f'{name} accuracy: {accuracy} precision: {precision} recall: {recall} f1: {f1} fB: {fB}')\n",
    "    print('')"
   ]
  },
  {
   "cell_type": "code",
   "execution_count": null,
   "metadata": {},
   "outputs": [],
   "source": []
  },
  {
   "cell_type": "code",
   "execution_count": null,
   "metadata": {
    "ExecuteTime": {
     "start_time": "2018-08-05T00:37:43.541Z"
    }
   },
   "outputs": [],
   "source": [
    "feature_selection(X_smoted_last, y_smoted_last, 15)"
   ]
  },
  {
   "cell_type": "code",
   "execution_count": null,
   "metadata": {
    "ExecuteTime": {
     "start_time": "2018-08-05T00:37:43.545Z"
    }
   },
   "outputs": [],
   "source": [
    "models = [dt3, lm3, rf4]\n",
    "names = ['Decision Tree SMOTE Last Features', 'LR SMOTE Last Features', 'Random Forest SMOTE Last Features']\n",
    "\n",
    "roc_plotting_stuff = []\n",
    "for model, name in zip(models, names):\n",
    "    model.fit(X_smoted_last, y_smoted_last)\n",
    "    preds = model.predict_proba(X_FINALtest)\n",
    "    fpr, tpr, _ = roc_curve(y_FINALtest, preds[:,0], pos_label = 'Fatal')\n",
    "    auc_score = auc(fpr, tpr)\n",
    "    roc_plotting_stuff.append((name, tpr, fpr, auc_score))\n",
    "    \n",
    "print(preds)"
   ]
  },
  {
   "cell_type": "code",
   "execution_count": null,
   "metadata": {
    "ExecuteTime": {
     "start_time": "2018-08-05T00:37:43.550Z"
    }
   },
   "outputs": [],
   "source": [
    "plt.figure(dpi=250)\n",
    "for name, tpr, fpr, auc_score in roc_plotting_stuff:\n",
    "    plt.plot(fpr, tpr, label=name+' (auc: %.2f)'%auc_score)\n",
    "plt.legend(loc='lower right', fontsize=9)\n",
    "plt.plot([0, 1], [0, 1], color='k', linestyle='--');\n",
    "plt.xlabel(\"False Positive Rate\")\n",
    "plt.ylabel(\"True Positive Rate\")\n",
    "plt.title(\"Comparing ROC Curves\")"
   ]
  },
  {
   "cell_type": "code",
   "execution_count": null,
   "metadata": {
    "ExecuteTime": {
     "start_time": "2018-08-05T00:37:43.556Z"
    }
   },
   "outputs": [],
   "source": [
    "predict_y_FINALtest = rf4.predict(X_FINALtest)"
   ]
  },
  {
   "cell_type": "code",
   "execution_count": null,
   "metadata": {
    "ExecuteTime": {
     "start_time": "2018-08-05T00:37:43.559Z"
    }
   },
   "outputs": [],
   "source": [
    "collections.Counter(predict_y_FINALtest)"
   ]
  },
  {
   "cell_type": "code",
   "execution_count": null,
   "metadata": {
    "ExecuteTime": {
     "start_time": "2018-08-05T00:37:43.565Z"
    }
   },
   "outputs": [],
   "source": [
    "collections.Counter(y_FINALtest)"
   ]
  },
  {
   "cell_type": "code",
   "execution_count": null,
   "metadata": {
    "ExecuteTime": {
     "start_time": "2018-08-05T00:37:43.571Z"
    }
   },
   "outputs": [],
   "source": [
    "#Checking final accuracy of model\n",
    "\n",
    "RF_cross_val = cross_val_score(rf4, X_FINALtest, y_FINALtest, scoring='accuracy', cv = 10)\n",
    "print('(SMOTE): The mean of 10 fold cross validation accuracy score on Random Forest model is', str(round(np.mean(RF_cross_val), 3)))\n",
    "\n",
    "RF_smoted_last = confusion_matrix(y_FINALtest, predict_y_FINALtest)\n",
    "RF_smoted_last = print_confusion_matrix(RF_smoted_last, ['Fatal', 'Non-Fatal'])"
   ]
  },
  {
   "cell_type": "code",
   "execution_count": null,
   "metadata": {
    "ExecuteTime": {
     "end_time": "2018-08-05T00:10:35.584017Z",
     "start_time": "2018-08-05T00:10:35.421266Z"
    }
   },
   "outputs": [],
   "source": []
  },
  {
   "cell_type": "code",
   "execution_count": null,
   "metadata": {
    "ExecuteTime": {
     "end_time": "2018-08-05T00:09:42.266998Z",
     "start_time": "2018-08-05T00:09:42.119913Z"
    }
   },
   "outputs": [],
   "source": []
  },
  {
   "cell_type": "code",
   "execution_count": null,
   "metadata": {},
   "outputs": [],
   "source": []
  }
 ],
 "metadata": {
  "kernelspec": {
   "display_name": "Python 3",
   "language": "python",
   "name": "python3"
  },
  "language_info": {
   "codemirror_mode": {
    "name": "ipython",
    "version": 3
   },
   "file_extension": ".py",
   "mimetype": "text/x-python",
   "name": "python",
   "nbconvert_exporter": "python",
   "pygments_lexer": "ipython3",
   "version": "3.6.4"
  },
  "varInspector": {
   "cols": {
    "lenName": 16,
    "lenType": 16,
    "lenVar": 40
   },
   "kernels_config": {
    "python": {
     "delete_cmd_postfix": "",
     "delete_cmd_prefix": "del ",
     "library": "var_list.py",
     "varRefreshCmd": "print(var_dic_list())"
    },
    "r": {
     "delete_cmd_postfix": ") ",
     "delete_cmd_prefix": "rm(",
     "library": "var_list.r",
     "varRefreshCmd": "cat(var_dic_list()) "
    }
   },
   "types_to_exclude": [
    "module",
    "function",
    "builtin_function_or_method",
    "instance",
    "_Feature"
   ],
   "window_display": false
  }
 },
 "nbformat": 4,
 "nbformat_minor": 2
}
