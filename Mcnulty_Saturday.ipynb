{
 "cells": [
  {
   "cell_type": "code",
   "execution_count": 1,
   "metadata": {
    "ExecuteTime": {
     "end_time": "2018-08-05T00:11:18.302843Z",
     "start_time": "2018-08-05T00:11:18.300479Z"
    }
   },
   "outputs": [],
   "source": [
    "## BUSINESS USE CASE -- PLANE CRASHES HAPPEN!! HERE'S HOW YOU CAN AVOID DYING!!"
   ]
  },
  {
   "cell_type": "code",
   "execution_count": 2,
   "metadata": {
    "ExecuteTime": {
     "end_time": "2018-08-05T00:11:25.910299Z",
     "start_time": "2018-08-05T00:11:24.601677Z"
    }
   },
   "outputs": [
    {
     "name": "stderr",
     "output_type": "stream",
     "text": [
      "/Users/brendenrossin/anaconda3/lib/python3.6/site-packages/sklearn/cross_validation.py:41: DeprecationWarning: This module was deprecated in version 0.18 in favor of the model_selection module into which all the refactored classes and functions are moved. Also note that the interface of the new CV iterators are different from that of this module. This module will be removed in 0.20.\n",
      "  \"This module will be removed in 0.20.\", DeprecationWarning)\n"
     ]
    }
   ],
   "source": [
    "import csv\n",
    "import pickle\n",
    "import pandas as pd\n",
    "import numpy as np\n",
    "import patsy\n",
    "import seaborn as sns\n",
    "import matplotlib.pyplot as plt\n",
    "from sklearn.cross_validation import train_test_split, cross_val_score\n",
    "from sklearn.linear_model import RidgeCV\n",
    "from sklearn.pipeline import make_pipeline\n",
    "from sklearn.preprocessing import PolynomialFeatures, StandardScaler\n",
    "from sklearn.neighbors import KNeighborsClassifier\n",
    "from sklearn.linear_model import LogisticRegression\n",
    "from sklearn.metrics import accuracy_score, recall_score, precision_score, f1_score, roc_auc_score, roc_curve, auc\n",
    "from sklearn.model_selection import learning_curve, KFold, GridSearchCV\n",
    "from sklearn.naive_bayes import GaussianNB\n",
    "from sklearn.svm import SVC\n",
    "from sklearn.tree import DecisionTreeClassifier\n",
    "from sklearn.ensemble import RandomForestClassifier, GradientBoostingClassifier\n",
    "from collections import Counter\n",
    "import matplotlib.style as style\n",
    "style.use('fivethirtyeight')\n",
    "%matplotlib inline\n",
    "\n",
    "from __future__ import print_function, division\n",
    "\n",
    "# Get pandas and postgres to work together\n",
    "import psycopg2 as pg\n",
    "import pandas.io.sql as pd_sql\n",
    "plt.rc('font', size=18) "
   ]
  },
  {
   "cell_type": "code",
   "execution_count": 3,
   "metadata": {
    "ExecuteTime": {
     "end_time": "2018-08-05T00:11:35.146018Z",
     "start_time": "2018-08-05T00:11:34.739520Z"
    }
   },
   "outputs": [],
   "source": [
    "with open('airline_crash.pkl', 'rb') as picklefile:\n",
    "    df = pickle.load(picklefile)"
   ]
  },
  {
   "cell_type": "code",
   "execution_count": 4,
   "metadata": {
    "ExecuteTime": {
     "end_time": "2018-08-05T00:11:41.399234Z",
     "start_time": "2018-08-05T00:11:41.119324Z"
    }
   },
   "outputs": [],
   "source": [
    "state_df = pd.concat([df['Event_Id'], df['Location'].str.split(', ', expand=True)], axis=1)"
   ]
  },
  {
   "cell_type": "code",
   "execution_count": 5,
   "metadata": {
    "ExecuteTime": {
     "end_time": "2018-08-05T00:11:47.526119Z",
     "start_time": "2018-08-05T00:11:47.486567Z"
    }
   },
   "outputs": [],
   "source": [
    "state_df['City'] = state_df[0]\n",
    "state_df['State'] = state_df[1]\n",
    "\n",
    "state_df = state_df.drop([0,1,2,3,4],1)"
   ]
  },
  {
   "cell_type": "code",
   "execution_count": 7,
   "metadata": {
    "ExecuteTime": {
     "end_time": "2018-08-05T00:11:56.198770Z",
     "start_time": "2018-08-05T00:11:56.192671Z"
    }
   },
   "outputs": [],
   "source": [
    "df.reset_index(inplace=True)\n",
    "state_df.reset_index(inplace=True)"
   ]
  },
  {
   "cell_type": "code",
   "execution_count": null,
   "metadata": {},
   "outputs": [],
   "source": [
    "df = pd.merge(df, state_df, on='index')\n",
    "\n",
    "df = df.drop(['Location'],1)"
   ]
  },
  {
   "cell_type": "code",
   "execution_count": null,
   "metadata": {},
   "outputs": [],
   "source": [
    "df.Latitude = df.Latitude.astype('float')\n",
    "df.Longitude = df.Longitude.astype('float')\n",
    "df.Total_Fatal_Injuries = df.Total_Fatal_Injuries.astype('float')\n",
    "df.Total_Serious_Injuries = df.Total_Serious_Injuries.astype('float')\n",
    "df.Total_Minor_Injuries = df.Total_Minor_Injuries.astype('float')\n",
    "df.Total_Uninjured = df.Total_Uninjured.astype('float')\n",
    "df.Number_Engines = df.Number_Engines.astype('float')\n",
    "\n",
    "df['Event_Date'] = pd.to_datetime(df['Event_Date'])"
   ]
  },
  {
   "cell_type": "code",
   "execution_count": null,
   "metadata": {},
   "outputs": [],
   "source": [
    "df.head()"
   ]
  },
  {
   "cell_type": "code",
   "execution_count": null,
   "metadata": {},
   "outputs": [],
   "source": [
    "df.info()"
   ]
  },
  {
   "cell_type": "code",
   "execution_count": null,
   "metadata": {},
   "outputs": [],
   "source": [
    "df.Broad_Phase_of_Flight.value_counts()"
   ]
  },
  {
   "cell_type": "code",
   "execution_count": null,
   "metadata": {},
   "outputs": [],
   "source": [
    "df.Broad_Phase_of_Flight.replace('CRUISE', 'INFLIGHT', inplace=True)\n",
    "df.Broad_Phase_of_Flight.replace('MANEUVERING', 'INFLIGHT', inplace=True)\n",
    "df.Broad_Phase_of_Flight.replace('GO-AROUND', 'INFLIGHT', inplace=True)\n",
    "df.Broad_Phase_of_Flight.replace('APPROACH', 'LANDING', inplace=True)\n",
    "df.Broad_Phase_of_Flight.replace('DESCENT', 'INFLIGHT', inplace=True)\n",
    "df.Broad_Phase_of_Flight.replace('CLIMB', 'INFLIGHT', inplace=True)\n",
    "df.Broad_Phase_of_Flight.replace('STANDING', 'TAXI', inplace=True)"
   ]
  },
  {
   "cell_type": "code",
   "execution_count": null,
   "metadata": {},
   "outputs": [],
   "source": [
    "df.Broad_Phase_of_Flight.value_counts()"
   ]
  },
  {
   "cell_type": "code",
   "execution_count": null,
   "metadata": {},
   "outputs": [],
   "source": [
    "df = df[df['Broad_Phase_of_Flight'] != 'OTHER']\n",
    "df = df[df['Broad_Phase_of_Flight'] != 'UNKNOWN']"
   ]
  },
  {
   "cell_type": "code",
   "execution_count": null,
   "metadata": {},
   "outputs": [],
   "source": [
    "df.Broad_Phase_of_Flight.value_counts()"
   ]
  },
  {
   "cell_type": "code",
   "execution_count": null,
   "metadata": {},
   "outputs": [],
   "source": [
    "df = df.rename(columns={'Event_Id_x': 'Event_Id'})\n",
    "\n",
    "df = df.drop(['Event_Id_y'], axis=1)"
   ]
  },
  {
   "cell_type": "code",
   "execution_count": null,
   "metadata": {},
   "outputs": [],
   "source": [
    "larger_df = df.dropna(subset=['Investigation_Type','Event_Date',\n",
    "              'Country', 'Injury_Severity', 'Amateur_Built', 'Number_Engines', 'Engine_Type',\n",
    "              'Flight_Purpose', 'Total_Fatal_Injuries', 'Total_Serious_Injuries',\n",
    "              'Total_Minor_Injuries', 'Total_Uninjured', 'Weather_Condition', 'Broad_Phase_of_Flight','City','State'])\n",
    "\n",
    "larger_df.info()"
   ]
  },
  {
   "cell_type": "code",
   "execution_count": null,
   "metadata": {},
   "outputs": [],
   "source": [
    "larger_df.Aircraft_Category.value_counts()"
   ]
  },
  {
   "cell_type": "code",
   "execution_count": null,
   "metadata": {},
   "outputs": [],
   "source": [
    "larger_df.Weather_Condition.value_counts()"
   ]
  },
  {
   "cell_type": "code",
   "execution_count": null,
   "metadata": {},
   "outputs": [],
   "source": [
    "larger_df = larger_df[larger_df['Weather_Condition'] != 'UNK']\n",
    "larger_df = larger_df[larger_df['Aircraft_Category'] == 'Airplane']"
   ]
  },
  {
   "cell_type": "code",
   "execution_count": null,
   "metadata": {},
   "outputs": [],
   "source": [
    "larger_df.info()"
   ]
  },
  {
   "cell_type": "code",
   "execution_count": null,
   "metadata": {},
   "outputs": [],
   "source": [
    "larger_df = larger_df[['Event_Id','Investigation_Type','Event_Date',\n",
    "              'Country', 'Injury_Severity',\n",
    "              'Aircraft_Category', 'Amateur_Built', 'Number_Engines', 'Engine_Type',\n",
    "              'Flight_Purpose', 'Total_Fatal_Injuries', 'Total_Serious_Injuries',\n",
    "              'Total_Minor_Injuries', 'Total_Uninjured', 'Weather_Condition', 'Broad_Phase_of_Flight','City','State']]"
   ]
  },
  {
   "cell_type": "code",
   "execution_count": null,
   "metadata": {},
   "outputs": [],
   "source": [
    "larger_df['Total_Passengers'] = (larger_df['Total_Fatal_Injuries'] + larger_df['Total_Serious_Injuries'] + \n",
    "                                larger_df['Total_Minor_Injuries'] + larger_df['Total_Uninjured'])"
   ]
  },
  {
   "cell_type": "code",
   "execution_count": null,
   "metadata": {},
   "outputs": [],
   "source": []
  },
  {
   "cell_type": "code",
   "execution_count": null,
   "metadata": {},
   "outputs": [],
   "source": []
  },
  {
   "cell_type": "code",
   "execution_count": null,
   "metadata": {},
   "outputs": [],
   "source": []
  }
 ],
 "metadata": {
  "kernelspec": {
   "display_name": "Python 3",
   "language": "python",
   "name": "python3"
  },
  "language_info": {
   "codemirror_mode": {
    "name": "ipython",
    "version": 3
   },
   "file_extension": ".py",
   "mimetype": "text/x-python",
   "name": "python",
   "nbconvert_exporter": "python",
   "pygments_lexer": "ipython3",
   "version": "3.6.4"
  },
  "varInspector": {
   "cols": {
    "lenName": 16,
    "lenType": 16,
    "lenVar": 40
   },
   "kernels_config": {
    "python": {
     "delete_cmd_postfix": "",
     "delete_cmd_prefix": "del ",
     "library": "var_list.py",
     "varRefreshCmd": "print(var_dic_list())"
    },
    "r": {
     "delete_cmd_postfix": ") ",
     "delete_cmd_prefix": "rm(",
     "library": "var_list.r",
     "varRefreshCmd": "cat(var_dic_list()) "
    }
   },
   "types_to_exclude": [
    "module",
    "function",
    "builtin_function_or_method",
    "instance",
    "_Feature"
   ],
   "window_display": false
  }
 },
 "nbformat": 4,
 "nbformat_minor": 2
}
